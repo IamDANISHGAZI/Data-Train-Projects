{
 "cells": [
  {
   "cell_type": "code",
   "execution_count": 1,
   "id": "9b69ec66",
   "metadata": {},
   "outputs": [],
   "source": [
    "import pandas as pd"
   ]
  },
  {
   "cell_type": "code",
   "execution_count": 2,
   "id": "0f453757",
   "metadata": {},
   "outputs": [
    {
     "data": {
      "text/html": [
       "<div>\n",
       "<style scoped>\n",
       "    .dataframe tbody tr th:only-of-type {\n",
       "        vertical-align: middle;\n",
       "    }\n",
       "\n",
       "    .dataframe tbody tr th {\n",
       "        vertical-align: top;\n",
       "    }\n",
       "\n",
       "    .dataframe thead th {\n",
       "        text-align: right;\n",
       "    }\n",
       "</style>\n",
       "<table border=\"1\" class=\"dataframe\">\n",
       "  <thead>\n",
       "    <tr style=\"text-align: right;\">\n",
       "      <th></th>\n",
       "      <th>rank</th>\n",
       "      <th>discipline</th>\n",
       "      <th>yrs.since.phd</th>\n",
       "      <th>yrs.service</th>\n",
       "      <th>sex</th>\n",
       "      <th>salary</th>\n",
       "    </tr>\n",
       "  </thead>\n",
       "  <tbody>\n",
       "    <tr>\n",
       "      <th>0</th>\n",
       "      <td>Prof</td>\n",
       "      <td>B</td>\n",
       "      <td>19</td>\n",
       "      <td>18</td>\n",
       "      <td>Male</td>\n",
       "      <td>139750</td>\n",
       "    </tr>\n",
       "    <tr>\n",
       "      <th>1</th>\n",
       "      <td>Prof</td>\n",
       "      <td>B</td>\n",
       "      <td>20</td>\n",
       "      <td>16</td>\n",
       "      <td>Male</td>\n",
       "      <td>173200</td>\n",
       "    </tr>\n",
       "    <tr>\n",
       "      <th>2</th>\n",
       "      <td>AsstProf</td>\n",
       "      <td>B</td>\n",
       "      <td>4</td>\n",
       "      <td>3</td>\n",
       "      <td>Male</td>\n",
       "      <td>79750</td>\n",
       "    </tr>\n",
       "    <tr>\n",
       "      <th>3</th>\n",
       "      <td>Prof</td>\n",
       "      <td>B</td>\n",
       "      <td>45</td>\n",
       "      <td>39</td>\n",
       "      <td>Male</td>\n",
       "      <td>115000</td>\n",
       "    </tr>\n",
       "    <tr>\n",
       "      <th>4</th>\n",
       "      <td>Prof</td>\n",
       "      <td>B</td>\n",
       "      <td>40</td>\n",
       "      <td>41</td>\n",
       "      <td>Male</td>\n",
       "      <td>141500</td>\n",
       "    </tr>\n",
       "    <tr>\n",
       "      <th>...</th>\n",
       "      <td>...</td>\n",
       "      <td>...</td>\n",
       "      <td>...</td>\n",
       "      <td>...</td>\n",
       "      <td>...</td>\n",
       "      <td>...</td>\n",
       "    </tr>\n",
       "    <tr>\n",
       "      <th>392</th>\n",
       "      <td>Prof</td>\n",
       "      <td>A</td>\n",
       "      <td>33</td>\n",
       "      <td>30</td>\n",
       "      <td>Male</td>\n",
       "      <td>103106</td>\n",
       "    </tr>\n",
       "    <tr>\n",
       "      <th>393</th>\n",
       "      <td>Prof</td>\n",
       "      <td>A</td>\n",
       "      <td>31</td>\n",
       "      <td>19</td>\n",
       "      <td>Male</td>\n",
       "      <td>150564</td>\n",
       "    </tr>\n",
       "    <tr>\n",
       "      <th>394</th>\n",
       "      <td>Prof</td>\n",
       "      <td>A</td>\n",
       "      <td>42</td>\n",
       "      <td>25</td>\n",
       "      <td>Male</td>\n",
       "      <td>101738</td>\n",
       "    </tr>\n",
       "    <tr>\n",
       "      <th>395</th>\n",
       "      <td>Prof</td>\n",
       "      <td>A</td>\n",
       "      <td>25</td>\n",
       "      <td>15</td>\n",
       "      <td>Male</td>\n",
       "      <td>95329</td>\n",
       "    </tr>\n",
       "    <tr>\n",
       "      <th>396</th>\n",
       "      <td>AsstProf</td>\n",
       "      <td>A</td>\n",
       "      <td>8</td>\n",
       "      <td>4</td>\n",
       "      <td>Male</td>\n",
       "      <td>81035</td>\n",
       "    </tr>\n",
       "  </tbody>\n",
       "</table>\n",
       "<p>397 rows × 6 columns</p>\n",
       "</div>"
      ],
      "text/plain": [
       "         rank discipline  yrs.since.phd  yrs.service   sex  salary\n",
       "0        Prof          B             19           18  Male  139750\n",
       "1        Prof          B             20           16  Male  173200\n",
       "2    AsstProf          B              4            3  Male   79750\n",
       "3        Prof          B             45           39  Male  115000\n",
       "4        Prof          B             40           41  Male  141500\n",
       "..        ...        ...            ...          ...   ...     ...\n",
       "392      Prof          A             33           30  Male  103106\n",
       "393      Prof          A             31           19  Male  150564\n",
       "394      Prof          A             42           25  Male  101738\n",
       "395      Prof          A             25           15  Male   95329\n",
       "396  AsstProf          A              8            4  Male   81035\n",
       "\n",
       "[397 rows x 6 columns]"
      ]
     },
     "execution_count": 2,
     "metadata": {},
     "output_type": "execute_result"
    }
   ],
   "source": [
    "df=pd.read_csv('salaryproject.csv')\n",
    "df"
   ]
  },
  {
   "cell_type": "code",
   "execution_count": 3,
   "id": "2fba3a46",
   "metadata": {},
   "outputs": [],
   "source": [
    "from sklearn.preprocessing import LabelEncoder"
   ]
  },
  {
   "cell_type": "code",
   "execution_count": 4,
   "id": "02c73517",
   "metadata": {},
   "outputs": [
    {
     "data": {
      "text/html": [
       "<div>\n",
       "<style scoped>\n",
       "    .dataframe tbody tr th:only-of-type {\n",
       "        vertical-align: middle;\n",
       "    }\n",
       "\n",
       "    .dataframe tbody tr th {\n",
       "        vertical-align: top;\n",
       "    }\n",
       "\n",
       "    .dataframe thead th {\n",
       "        text-align: right;\n",
       "    }\n",
       "</style>\n",
       "<table border=\"1\" class=\"dataframe\">\n",
       "  <thead>\n",
       "    <tr style=\"text-align: right;\">\n",
       "      <th></th>\n",
       "      <th>rank</th>\n",
       "      <th>discipline</th>\n",
       "      <th>yrs.since.phd</th>\n",
       "      <th>yrs.service</th>\n",
       "      <th>sex</th>\n",
       "      <th>salary</th>\n",
       "    </tr>\n",
       "  </thead>\n",
       "  <tbody>\n",
       "    <tr>\n",
       "      <th>0</th>\n",
       "      <td>2</td>\n",
       "      <td>1</td>\n",
       "      <td>19</td>\n",
       "      <td>18</td>\n",
       "      <td>1</td>\n",
       "      <td>139750</td>\n",
       "    </tr>\n",
       "    <tr>\n",
       "      <th>1</th>\n",
       "      <td>2</td>\n",
       "      <td>1</td>\n",
       "      <td>20</td>\n",
       "      <td>16</td>\n",
       "      <td>1</td>\n",
       "      <td>173200</td>\n",
       "    </tr>\n",
       "    <tr>\n",
       "      <th>2</th>\n",
       "      <td>1</td>\n",
       "      <td>1</td>\n",
       "      <td>4</td>\n",
       "      <td>3</td>\n",
       "      <td>1</td>\n",
       "      <td>79750</td>\n",
       "    </tr>\n",
       "    <tr>\n",
       "      <th>3</th>\n",
       "      <td>2</td>\n",
       "      <td>1</td>\n",
       "      <td>45</td>\n",
       "      <td>39</td>\n",
       "      <td>1</td>\n",
       "      <td>115000</td>\n",
       "    </tr>\n",
       "    <tr>\n",
       "      <th>4</th>\n",
       "      <td>2</td>\n",
       "      <td>1</td>\n",
       "      <td>40</td>\n",
       "      <td>41</td>\n",
       "      <td>1</td>\n",
       "      <td>141500</td>\n",
       "    </tr>\n",
       "    <tr>\n",
       "      <th>...</th>\n",
       "      <td>...</td>\n",
       "      <td>...</td>\n",
       "      <td>...</td>\n",
       "      <td>...</td>\n",
       "      <td>...</td>\n",
       "      <td>...</td>\n",
       "    </tr>\n",
       "    <tr>\n",
       "      <th>392</th>\n",
       "      <td>2</td>\n",
       "      <td>0</td>\n",
       "      <td>33</td>\n",
       "      <td>30</td>\n",
       "      <td>1</td>\n",
       "      <td>103106</td>\n",
       "    </tr>\n",
       "    <tr>\n",
       "      <th>393</th>\n",
       "      <td>2</td>\n",
       "      <td>0</td>\n",
       "      <td>31</td>\n",
       "      <td>19</td>\n",
       "      <td>1</td>\n",
       "      <td>150564</td>\n",
       "    </tr>\n",
       "    <tr>\n",
       "      <th>394</th>\n",
       "      <td>2</td>\n",
       "      <td>0</td>\n",
       "      <td>42</td>\n",
       "      <td>25</td>\n",
       "      <td>1</td>\n",
       "      <td>101738</td>\n",
       "    </tr>\n",
       "    <tr>\n",
       "      <th>395</th>\n",
       "      <td>2</td>\n",
       "      <td>0</td>\n",
       "      <td>25</td>\n",
       "      <td>15</td>\n",
       "      <td>1</td>\n",
       "      <td>95329</td>\n",
       "    </tr>\n",
       "    <tr>\n",
       "      <th>396</th>\n",
       "      <td>1</td>\n",
       "      <td>0</td>\n",
       "      <td>8</td>\n",
       "      <td>4</td>\n",
       "      <td>1</td>\n",
       "      <td>81035</td>\n",
       "    </tr>\n",
       "  </tbody>\n",
       "</table>\n",
       "<p>397 rows × 6 columns</p>\n",
       "</div>"
      ],
      "text/plain": [
       "     rank  discipline  yrs.since.phd  yrs.service  sex  salary\n",
       "0       2           1             19           18    1  139750\n",
       "1       2           1             20           16    1  173200\n",
       "2       1           1              4            3    1   79750\n",
       "3       2           1             45           39    1  115000\n",
       "4       2           1             40           41    1  141500\n",
       "..    ...         ...            ...          ...  ...     ...\n",
       "392     2           0             33           30    1  103106\n",
       "393     2           0             31           19    1  150564\n",
       "394     2           0             42           25    1  101738\n",
       "395     2           0             25           15    1   95329\n",
       "396     1           0              8            4    1   81035\n",
       "\n",
       "[397 rows x 6 columns]"
      ]
     },
     "execution_count": 4,
     "metadata": {},
     "output_type": "execute_result"
    }
   ],
   "source": [
    "le=LabelEncoder()\n",
    "list1=['rank','discipline','sex']\n",
    "for val in list1:\n",
    "    df[val]=le.fit_transform(df[val].astype(str))\n",
    "df    "
   ]
  },
  {
   "cell_type": "code",
   "execution_count": 5,
   "id": "3f38c834",
   "metadata": {},
   "outputs": [
    {
     "data": {
      "text/plain": [
       "(397, 6)"
      ]
     },
     "execution_count": 5,
     "metadata": {},
     "output_type": "execute_result"
    }
   ],
   "source": [
    "df.shape"
   ]
  },
  {
   "cell_type": "code",
   "execution_count": 6,
   "id": "68a58f6f",
   "metadata": {},
   "outputs": [
    {
     "data": {
      "text/plain": [
       "rank             int32\n",
       "discipline       int32\n",
       "yrs.since.phd    int64\n",
       "yrs.service      int64\n",
       "sex              int32\n",
       "salary           int64\n",
       "dtype: object"
      ]
     },
     "execution_count": 6,
     "metadata": {},
     "output_type": "execute_result"
    }
   ],
   "source": [
    "df.dtypes"
   ]
  },
  {
   "cell_type": "code",
   "execution_count": 7,
   "id": "123f4eea",
   "metadata": {},
   "outputs": [
    {
     "data": {
      "text/html": [
       "<div>\n",
       "<style scoped>\n",
       "    .dataframe tbody tr th:only-of-type {\n",
       "        vertical-align: middle;\n",
       "    }\n",
       "\n",
       "    .dataframe tbody tr th {\n",
       "        vertical-align: top;\n",
       "    }\n",
       "\n",
       "    .dataframe thead th {\n",
       "        text-align: right;\n",
       "    }\n",
       "</style>\n",
       "<table border=\"1\" class=\"dataframe\">\n",
       "  <thead>\n",
       "    <tr style=\"text-align: right;\">\n",
       "      <th></th>\n",
       "      <th>rank</th>\n",
       "      <th>discipline</th>\n",
       "      <th>yrs.since.phd</th>\n",
       "      <th>yrs.service</th>\n",
       "      <th>sex</th>\n",
       "      <th>salary</th>\n",
       "    </tr>\n",
       "  </thead>\n",
       "  <tbody>\n",
       "    <tr>\n",
       "      <th>count</th>\n",
       "      <td>397.000000</td>\n",
       "      <td>397.000000</td>\n",
       "      <td>397.000000</td>\n",
       "      <td>397.000000</td>\n",
       "      <td>397.000000</td>\n",
       "      <td>397.000000</td>\n",
       "    </tr>\n",
       "    <tr>\n",
       "      <th>mean</th>\n",
       "      <td>1.508816</td>\n",
       "      <td>0.544081</td>\n",
       "      <td>22.314861</td>\n",
       "      <td>17.614610</td>\n",
       "      <td>0.901763</td>\n",
       "      <td>113706.458438</td>\n",
       "    </tr>\n",
       "    <tr>\n",
       "      <th>std</th>\n",
       "      <td>0.757486</td>\n",
       "      <td>0.498682</td>\n",
       "      <td>12.887003</td>\n",
       "      <td>13.006024</td>\n",
       "      <td>0.298010</td>\n",
       "      <td>30289.038695</td>\n",
       "    </tr>\n",
       "    <tr>\n",
       "      <th>min</th>\n",
       "      <td>0.000000</td>\n",
       "      <td>0.000000</td>\n",
       "      <td>1.000000</td>\n",
       "      <td>0.000000</td>\n",
       "      <td>0.000000</td>\n",
       "      <td>57800.000000</td>\n",
       "    </tr>\n",
       "    <tr>\n",
       "      <th>25%</th>\n",
       "      <td>1.000000</td>\n",
       "      <td>0.000000</td>\n",
       "      <td>12.000000</td>\n",
       "      <td>7.000000</td>\n",
       "      <td>1.000000</td>\n",
       "      <td>91000.000000</td>\n",
       "    </tr>\n",
       "    <tr>\n",
       "      <th>50%</th>\n",
       "      <td>2.000000</td>\n",
       "      <td>1.000000</td>\n",
       "      <td>21.000000</td>\n",
       "      <td>16.000000</td>\n",
       "      <td>1.000000</td>\n",
       "      <td>107300.000000</td>\n",
       "    </tr>\n",
       "    <tr>\n",
       "      <th>75%</th>\n",
       "      <td>2.000000</td>\n",
       "      <td>1.000000</td>\n",
       "      <td>32.000000</td>\n",
       "      <td>27.000000</td>\n",
       "      <td>1.000000</td>\n",
       "      <td>134185.000000</td>\n",
       "    </tr>\n",
       "    <tr>\n",
       "      <th>max</th>\n",
       "      <td>2.000000</td>\n",
       "      <td>1.000000</td>\n",
       "      <td>56.000000</td>\n",
       "      <td>60.000000</td>\n",
       "      <td>1.000000</td>\n",
       "      <td>231545.000000</td>\n",
       "    </tr>\n",
       "  </tbody>\n",
       "</table>\n",
       "</div>"
      ],
      "text/plain": [
       "             rank  discipline  yrs.since.phd  yrs.service         sex  \\\n",
       "count  397.000000  397.000000     397.000000   397.000000  397.000000   \n",
       "mean     1.508816    0.544081      22.314861    17.614610    0.901763   \n",
       "std      0.757486    0.498682      12.887003    13.006024    0.298010   \n",
       "min      0.000000    0.000000       1.000000     0.000000    0.000000   \n",
       "25%      1.000000    0.000000      12.000000     7.000000    1.000000   \n",
       "50%      2.000000    1.000000      21.000000    16.000000    1.000000   \n",
       "75%      2.000000    1.000000      32.000000    27.000000    1.000000   \n",
       "max      2.000000    1.000000      56.000000    60.000000    1.000000   \n",
       "\n",
       "              salary  \n",
       "count     397.000000  \n",
       "mean   113706.458438  \n",
       "std     30289.038695  \n",
       "min     57800.000000  \n",
       "25%     91000.000000  \n",
       "50%    107300.000000  \n",
       "75%    134185.000000  \n",
       "max    231545.000000  "
      ]
     },
     "execution_count": 7,
     "metadata": {},
     "output_type": "execute_result"
    }
   ],
   "source": [
    "df.describe()"
   ]
  },
  {
   "cell_type": "code",
   "execution_count": 8,
   "id": "338440a0",
   "metadata": {},
   "outputs": [
    {
     "data": {
      "text/plain": [
       "rank             0\n",
       "discipline       0\n",
       "yrs.since.phd    0\n",
       "yrs.service      0\n",
       "sex              0\n",
       "salary           0\n",
       "dtype: int64"
      ]
     },
     "execution_count": 8,
     "metadata": {},
     "output_type": "execute_result"
    }
   ],
   "source": [
    "df.isnull().sum()"
   ]
  },
  {
   "cell_type": "code",
   "execution_count": 9,
   "id": "7636868f",
   "metadata": {},
   "outputs": [
    {
     "data": {
      "text/html": [
       "<div>\n",
       "<style scoped>\n",
       "    .dataframe tbody tr th:only-of-type {\n",
       "        vertical-align: middle;\n",
       "    }\n",
       "\n",
       "    .dataframe tbody tr th {\n",
       "        vertical-align: top;\n",
       "    }\n",
       "\n",
       "    .dataframe thead th {\n",
       "        text-align: right;\n",
       "    }\n",
       "</style>\n",
       "<table border=\"1\" class=\"dataframe\">\n",
       "  <thead>\n",
       "    <tr style=\"text-align: right;\">\n",
       "      <th></th>\n",
       "      <th>rank</th>\n",
       "      <th>discipline</th>\n",
       "      <th>yrs.since.phd</th>\n",
       "      <th>yrs.service</th>\n",
       "      <th>sex</th>\n",
       "      <th>salary</th>\n",
       "    </tr>\n",
       "  </thead>\n",
       "  <tbody>\n",
       "    <tr>\n",
       "      <th>rank</th>\n",
       "      <td>1.000000</td>\n",
       "      <td>-0.086266</td>\n",
       "      <td>0.525500</td>\n",
       "      <td>0.447499</td>\n",
       "      <td>0.132492</td>\n",
       "      <td>0.522207</td>\n",
       "    </tr>\n",
       "    <tr>\n",
       "      <th>discipline</th>\n",
       "      <td>-0.086266</td>\n",
       "      <td>1.000000</td>\n",
       "      <td>-0.218087</td>\n",
       "      <td>-0.164599</td>\n",
       "      <td>0.003724</td>\n",
       "      <td>0.156084</td>\n",
       "    </tr>\n",
       "    <tr>\n",
       "      <th>yrs.since.phd</th>\n",
       "      <td>0.525500</td>\n",
       "      <td>-0.218087</td>\n",
       "      <td>1.000000</td>\n",
       "      <td>0.909649</td>\n",
       "      <td>0.148788</td>\n",
       "      <td>0.419231</td>\n",
       "    </tr>\n",
       "    <tr>\n",
       "      <th>yrs.service</th>\n",
       "      <td>0.447499</td>\n",
       "      <td>-0.164599</td>\n",
       "      <td>0.909649</td>\n",
       "      <td>1.000000</td>\n",
       "      <td>0.153740</td>\n",
       "      <td>0.334745</td>\n",
       "    </tr>\n",
       "    <tr>\n",
       "      <th>sex</th>\n",
       "      <td>0.132492</td>\n",
       "      <td>0.003724</td>\n",
       "      <td>0.148788</td>\n",
       "      <td>0.153740</td>\n",
       "      <td>1.000000</td>\n",
       "      <td>0.138610</td>\n",
       "    </tr>\n",
       "    <tr>\n",
       "      <th>salary</th>\n",
       "      <td>0.522207</td>\n",
       "      <td>0.156084</td>\n",
       "      <td>0.419231</td>\n",
       "      <td>0.334745</td>\n",
       "      <td>0.138610</td>\n",
       "      <td>1.000000</td>\n",
       "    </tr>\n",
       "  </tbody>\n",
       "</table>\n",
       "</div>"
      ],
      "text/plain": [
       "                   rank  discipline  yrs.since.phd  yrs.service       sex  \\\n",
       "rank           1.000000   -0.086266       0.525500     0.447499  0.132492   \n",
       "discipline    -0.086266    1.000000      -0.218087    -0.164599  0.003724   \n",
       "yrs.since.phd  0.525500   -0.218087       1.000000     0.909649  0.148788   \n",
       "yrs.service    0.447499   -0.164599       0.909649     1.000000  0.153740   \n",
       "sex            0.132492    0.003724       0.148788     0.153740  1.000000   \n",
       "salary         0.522207    0.156084       0.419231     0.334745  0.138610   \n",
       "\n",
       "                 salary  \n",
       "rank           0.522207  \n",
       "discipline     0.156084  \n",
       "yrs.since.phd  0.419231  \n",
       "yrs.service    0.334745  \n",
       "sex            0.138610  \n",
       "salary         1.000000  "
      ]
     },
     "execution_count": 9,
     "metadata": {},
     "output_type": "execute_result"
    }
   ],
   "source": [
    "df.corr()"
   ]
  },
  {
   "cell_type": "code",
   "execution_count": 10,
   "id": "a9959ef6",
   "metadata": {},
   "outputs": [],
   "source": [
    "import seaborn as sns\n",
    "import matplotlib.pyplot as plt\n",
    "import warnings\n",
    "warnings.filterwarnings('ignore')"
   ]
  },
  {
   "cell_type": "code",
   "execution_count": 11,
   "id": "89e4b96b",
   "metadata": {},
   "outputs": [
    {
     "data": {
      "text/plain": [
       "<matplotlib.collections.PathCollection at 0x20cfc6b8610>"
      ]
     },
     "execution_count": 11,
     "metadata": {},
     "output_type": "execute_result"
    },
    {
     "data": {
      "image/png": "[encoded data removed]",
      "text/plain": [
       "<Figure size 432x288 with 1 Axes>"
      ]
     },
     "metadata": {
      "needs_background": "light"
     },
     "output_type": "display_data"
    }
   ],
   "source": [
    "plt.scatter(df['salary'],df['yrs.service'])"
   ]
  },
  {
   "cell_type": "code",
   "execution_count": 12,
   "id": "6d1d5de8",
   "metadata": {},
   "outputs": [
    {
     "data": {
      "text/plain": [
       "<AxesSubplot:>"
      ]
     },
     "execution_count": 12,
     "metadata": {},
     "output_type": "execute_result"
    },
    {
     "data": {
      "image/png": "[encoded data removed]",
      "text/plain": [
       "<Figure size 432x288 with 2 Axes>"
      ]
     },
     "metadata": {
      "needs_background": "light"
     },
     "output_type": "display_data"
    }
   ],
   "source": [
    "sns.heatmap(df.corr(),annot=True)"
   ]
  },
  {
   "cell_type": "code",
   "execution_count": 16,
   "id": "43894609",
   "metadata": {},
   "outputs": [
    {
     "data": {
      "text/html": [
       "<div>\n",
       "<style scoped>\n",
       "    .dataframe tbody tr th:only-of-type {\n",
       "        vertical-align: middle;\n",
       "    }\n",
       "\n",
       "    .dataframe tbody tr th {\n",
       "        vertical-align: top;\n",
       "    }\n",
       "\n",
       "    .dataframe thead th {\n",
       "        text-align: right;\n",
       "    }\n",
       "</style>\n",
       "<table border=\"1\" class=\"dataframe\">\n",
       "  <thead>\n",
       "    <tr style=\"text-align: right;\">\n",
       "      <th></th>\n",
       "      <th>rank</th>\n",
       "      <th>discipline</th>\n",
       "      <th>yrs.since.phd</th>\n",
       "      <th>yrs.service</th>\n",
       "      <th>sex</th>\n",
       "      <th>salary</th>\n",
       "    </tr>\n",
       "  </thead>\n",
       "  <tbody>\n",
       "    <tr>\n",
       "      <th>rank</th>\n",
       "      <td>1.000000</td>\n",
       "      <td>-0.086266</td>\n",
       "      <td>0.525500</td>\n",
       "      <td>0.447499</td>\n",
       "      <td>0.132492</td>\n",
       "      <td>0.522207</td>\n",
       "    </tr>\n",
       "    <tr>\n",
       "      <th>discipline</th>\n",
       "      <td>-0.086266</td>\n",
       "      <td>1.000000</td>\n",
       "      <td>-0.218087</td>\n",
       "      <td>-0.164599</td>\n",
       "      <td>0.003724</td>\n",
       "      <td>0.156084</td>\n",
       "    </tr>\n",
       "    <tr>\n",
       "      <th>yrs.since.phd</th>\n",
       "      <td>0.525500</td>\n",
       "      <td>-0.218087</td>\n",
       "      <td>1.000000</td>\n",
       "      <td>0.909649</td>\n",
       "      <td>0.148788</td>\n",
       "      <td>0.419231</td>\n",
       "    </tr>\n",
       "    <tr>\n",
       "      <th>yrs.service</th>\n",
       "      <td>0.447499</td>\n",
       "      <td>-0.164599</td>\n",
       "      <td>0.909649</td>\n",
       "      <td>1.000000</td>\n",
       "      <td>0.153740</td>\n",
       "      <td>0.334745</td>\n",
       "    </tr>\n",
       "    <tr>\n",
       "      <th>sex</th>\n",
       "      <td>0.132492</td>\n",
       "      <td>0.003724</td>\n",
       "      <td>0.148788</td>\n",
       "      <td>0.153740</td>\n",
       "      <td>1.000000</td>\n",
       "      <td>0.138610</td>\n",
       "    </tr>\n",
       "    <tr>\n",
       "      <th>salary</th>\n",
       "      <td>0.522207</td>\n",
       "      <td>0.156084</td>\n",
       "      <td>0.419231</td>\n",
       "      <td>0.334745</td>\n",
       "      <td>0.138610</td>\n",
       "      <td>1.000000</td>\n",
       "    </tr>\n",
       "  </tbody>\n",
       "</table>\n",
       "</div>"
      ],
      "text/plain": [
       "                   rank  discipline  yrs.since.phd  yrs.service       sex  \\\n",
       "rank           1.000000   -0.086266       0.525500     0.447499  0.132492   \n",
       "discipline    -0.086266    1.000000      -0.218087    -0.164599  0.003724   \n",
       "yrs.since.phd  0.525500   -0.218087       1.000000     0.909649  0.148788   \n",
       "yrs.service    0.447499   -0.164599       0.909649     1.000000  0.153740   \n",
       "sex            0.132492    0.003724       0.148788     0.153740  1.000000   \n",
       "salary         0.522207    0.156084       0.419231     0.334745  0.138610   \n",
       "\n",
       "                 salary  \n",
       "rank           0.522207  \n",
       "discipline     0.156084  \n",
       "yrs.since.phd  0.419231  \n",
       "yrs.service    0.334745  \n",
       "sex            0.138610  \n",
       "salary         1.000000  "
      ]
     },
     "execution_count": 16,
     "metadata": {},
     "output_type": "execute_result"
    }
   ],
   "source": [
    "df.corr()"
   ]
  },
  {
   "cell_type": "code",
   "execution_count": 17,
   "id": "c640d1d8",
   "metadata": {
    "scrolled": true
   },
   "outputs": [
    {
     "data": {
      "image/png": "[encoded data removed]",
      "text/plain": [
       "<Figure size 432x288 with 1 Axes>"
      ]
     },
     "metadata": {
      "needs_background": "light"
     },
     "output_type": "display_data"
    }
   ],
   "source": [
    "# Checking outliers\n",
    "plt.boxplot(df)\n",
    "plt.show()"
   ]
  },
  {
   "cell_type": "code",
   "execution_count": 18,
   "id": "21b7301a",
   "metadata": {},
   "outputs": [
    {
     "data": {
      "image/png": "[encoded data removed]",
      "text/plain": [
       "<Figure size 432x288 with 1 Axes>"
      ]
     },
     "metadata": {
      "needs_background": "light"
     },
     "output_type": "display_data"
    }
   ],
   "source": [
    "plt.boxplot(df['sex'])\n",
    "plt.show()"
   ]
  },
  {
   "cell_type": "code",
   "execution_count": 19,
   "id": "210402f0",
   "metadata": {},
   "outputs": [
    {
     "data": {
      "image/png": "[encoded data removed]",
      "text/plain": [
       "<Figure size 432x288 with 1 Axes>"
      ]
     },
     "metadata": {
      "needs_background": "light"
     },
     "output_type": "display_data"
    }
   ],
   "source": [
    "plt.boxplot(df['salary'])\n",
    "plt.show()"
   ]
  },
  {
   "cell_type": "code",
   "execution_count": 20,
   "id": "7629a400",
   "metadata": {},
   "outputs": [
    {
     "data": {
      "image/png": "[encoded data removed]",
      "text/plain": [
       "<Figure size 432x288 with 1 Axes>"
      ]
     },
     "metadata": {
      "needs_background": "light"
     },
     "output_type": "display_data"
    }
   ],
   "source": [
    "plt.boxplot(df['yrs.service'])\n",
    "plt.show()"
   ]
  },
  {
   "cell_type": "code",
   "execution_count": 118,
   "id": "cc04878d",
   "metadata": {},
   "outputs": [
    {
     "data": {
      "image/png": "[encoded data removed]",
      "text/plain": [
       "<Figure size 432x288 with 1 Axes>"
      ]
     },
     "metadata": {
      "needs_background": "light"
     },
     "output_type": "display_data"
    }
   ],
   "source": [
    "plt.boxplot(df['rank'])\n",
    "plt.show()"
   ]
  },
  {
   "cell_type": "code",
   "execution_count": 21,
   "id": "c83124b0",
   "metadata": {},
   "outputs": [],
   "source": [
    "from scipy.stats import zscore\n",
    "import numpy as np"
   ]
  },
  {
   "cell_type": "code",
   "execution_count": 22,
   "id": "df80c52d",
   "metadata": {},
   "outputs": [
    {
     "data": {
      "text/html": [
       "<div>\n",
       "<style scoped>\n",
       "    .dataframe tbody tr th:only-of-type {\n",
       "        vertical-align: middle;\n",
       "    }\n",
       "\n",
       "    .dataframe tbody tr th {\n",
       "        vertical-align: top;\n",
       "    }\n",
       "\n",
       "    .dataframe thead th {\n",
       "        text-align: right;\n",
       "    }\n",
       "</style>\n",
       "<table border=\"1\" class=\"dataframe\">\n",
       "  <thead>\n",
       "    <tr style=\"text-align: right;\">\n",
       "      <th></th>\n",
       "      <th>rank</th>\n",
       "      <th>discipline</th>\n",
       "      <th>yrs.since.phd</th>\n",
       "      <th>yrs.service</th>\n",
       "      <th>sex</th>\n",
       "      <th>salary</th>\n",
       "    </tr>\n",
       "  </thead>\n",
       "  <tbody>\n",
       "    <tr>\n",
       "      <th>0</th>\n",
       "      <td>0.649257</td>\n",
       "      <td>0.915403</td>\n",
       "      <td>-0.257550</td>\n",
       "      <td>0.029669</td>\n",
       "      <td>0.330058</td>\n",
       "      <td>0.860919</td>\n",
       "    </tr>\n",
       "    <tr>\n",
       "      <th>1</th>\n",
       "      <td>0.649257</td>\n",
       "      <td>0.915403</td>\n",
       "      <td>-0.179854</td>\n",
       "      <td>-0.124300</td>\n",
       "      <td>0.330058</td>\n",
       "      <td>1.966672</td>\n",
       "    </tr>\n",
       "    <tr>\n",
       "      <th>2</th>\n",
       "      <td>-0.672564</td>\n",
       "      <td>0.915403</td>\n",
       "      <td>-1.422982</td>\n",
       "      <td>-1.125098</td>\n",
       "      <td>0.330058</td>\n",
       "      <td>-1.122495</td>\n",
       "    </tr>\n",
       "    <tr>\n",
       "      <th>3</th>\n",
       "      <td>0.649257</td>\n",
       "      <td>0.915403</td>\n",
       "      <td>1.762533</td>\n",
       "      <td>1.646343</td>\n",
       "      <td>0.330058</td>\n",
       "      <td>0.042760</td>\n",
       "    </tr>\n",
       "    <tr>\n",
       "      <th>4</th>\n",
       "      <td>0.649257</td>\n",
       "      <td>0.915403</td>\n",
       "      <td>1.374055</td>\n",
       "      <td>1.800312</td>\n",
       "      <td>0.330058</td>\n",
       "      <td>0.918768</td>\n",
       "    </tr>\n",
       "    <tr>\n",
       "      <th>...</th>\n",
       "      <td>...</td>\n",
       "      <td>...</td>\n",
       "      <td>...</td>\n",
       "      <td>...</td>\n",
       "      <td>...</td>\n",
       "      <td>...</td>\n",
       "    </tr>\n",
       "    <tr>\n",
       "      <th>392</th>\n",
       "      <td>0.649257</td>\n",
       "      <td>-1.092415</td>\n",
       "      <td>0.830187</td>\n",
       "      <td>0.953483</td>\n",
       "      <td>0.330058</td>\n",
       "      <td>-0.350418</td>\n",
       "    </tr>\n",
       "    <tr>\n",
       "      <th>393</th>\n",
       "      <td>0.649257</td>\n",
       "      <td>-1.092415</td>\n",
       "      <td>0.674796</td>\n",
       "      <td>0.106654</td>\n",
       "      <td>0.330058</td>\n",
       "      <td>1.218396</td>\n",
       "    </tr>\n",
       "    <tr>\n",
       "      <th>394</th>\n",
       "      <td>0.649257</td>\n",
       "      <td>-1.092415</td>\n",
       "      <td>1.529446</td>\n",
       "      <td>0.568560</td>\n",
       "      <td>0.330058</td>\n",
       "      <td>-0.395640</td>\n",
       "    </tr>\n",
       "    <tr>\n",
       "      <th>395</th>\n",
       "      <td>0.649257</td>\n",
       "      <td>-1.092415</td>\n",
       "      <td>0.208623</td>\n",
       "      <td>-0.201284</td>\n",
       "      <td>0.330058</td>\n",
       "      <td>-0.607502</td>\n",
       "    </tr>\n",
       "    <tr>\n",
       "      <th>396</th>\n",
       "      <td>-0.672564</td>\n",
       "      <td>-1.092415</td>\n",
       "      <td>-1.112200</td>\n",
       "      <td>-1.048113</td>\n",
       "      <td>0.330058</td>\n",
       "      <td>-1.080017</td>\n",
       "    </tr>\n",
       "  </tbody>\n",
       "</table>\n",
       "<p>397 rows × 6 columns</p>\n",
       "</div>"
      ],
      "text/plain": [
       "         rank  discipline  yrs.since.phd  yrs.service       sex    salary\n",
       "0    0.649257    0.915403      -0.257550     0.029669  0.330058  0.860919\n",
       "1    0.649257    0.915403      -0.179854    -0.124300  0.330058  1.966672\n",
       "2   -0.672564    0.915403      -1.422982    -1.125098  0.330058 -1.122495\n",
       "3    0.649257    0.915403       1.762533     1.646343  0.330058  0.042760\n",
       "4    0.649257    0.915403       1.374055     1.800312  0.330058  0.918768\n",
       "..        ...         ...            ...          ...       ...       ...\n",
       "392  0.649257   -1.092415       0.830187     0.953483  0.330058 -0.350418\n",
       "393  0.649257   -1.092415       0.674796     0.106654  0.330058  1.218396\n",
       "394  0.649257   -1.092415       1.529446     0.568560  0.330058 -0.395640\n",
       "395  0.649257   -1.092415       0.208623    -0.201284  0.330058 -0.607502\n",
       "396 -0.672564   -1.092415      -1.112200    -1.048113  0.330058 -1.080017\n",
       "\n",
       "[397 rows x 6 columns]"
      ]
     },
     "execution_count": 22,
     "metadata": {},
     "output_type": "execute_result"
    }
   ],
   "source": [
    "zscore(df)"
   ]
  },
  {
   "cell_type": "code",
   "execution_count": 23,
   "id": "ea248090",
   "metadata": {},
   "outputs": [
    {
     "data": {
      "text/html": [
       "<div>\n",
       "<style scoped>\n",
       "    .dataframe tbody tr th:only-of-type {\n",
       "        vertical-align: middle;\n",
       "    }\n",
       "\n",
       "    .dataframe tbody tr th {\n",
       "        vertical-align: top;\n",
       "    }\n",
       "\n",
       "    .dataframe thead th {\n",
       "        text-align: right;\n",
       "    }\n",
       "</style>\n",
       "<table border=\"1\" class=\"dataframe\">\n",
       "  <thead>\n",
       "    <tr style=\"text-align: right;\">\n",
       "      <th></th>\n",
       "      <th>rank</th>\n",
       "      <th>discipline</th>\n",
       "      <th>yrs.since.phd</th>\n",
       "      <th>yrs.service</th>\n",
       "      <th>sex</th>\n",
       "      <th>salary</th>\n",
       "    </tr>\n",
       "  </thead>\n",
       "  <tbody>\n",
       "    <tr>\n",
       "      <th>0</th>\n",
       "      <td>0.649257</td>\n",
       "      <td>0.915403</td>\n",
       "      <td>0.257550</td>\n",
       "      <td>0.029669</td>\n",
       "      <td>0.330058</td>\n",
       "      <td>0.860919</td>\n",
       "    </tr>\n",
       "    <tr>\n",
       "      <th>1</th>\n",
       "      <td>0.649257</td>\n",
       "      <td>0.915403</td>\n",
       "      <td>0.179854</td>\n",
       "      <td>0.124300</td>\n",
       "      <td>0.330058</td>\n",
       "      <td>1.966672</td>\n",
       "    </tr>\n",
       "    <tr>\n",
       "      <th>2</th>\n",
       "      <td>0.672564</td>\n",
       "      <td>0.915403</td>\n",
       "      <td>1.422982</td>\n",
       "      <td>1.125098</td>\n",
       "      <td>0.330058</td>\n",
       "      <td>1.122495</td>\n",
       "    </tr>\n",
       "    <tr>\n",
       "      <th>3</th>\n",
       "      <td>0.649257</td>\n",
       "      <td>0.915403</td>\n",
       "      <td>1.762533</td>\n",
       "      <td>1.646343</td>\n",
       "      <td>0.330058</td>\n",
       "      <td>0.042760</td>\n",
       "    </tr>\n",
       "    <tr>\n",
       "      <th>4</th>\n",
       "      <td>0.649257</td>\n",
       "      <td>0.915403</td>\n",
       "      <td>1.374055</td>\n",
       "      <td>1.800312</td>\n",
       "      <td>0.330058</td>\n",
       "      <td>0.918768</td>\n",
       "    </tr>\n",
       "    <tr>\n",
       "      <th>...</th>\n",
       "      <td>...</td>\n",
       "      <td>...</td>\n",
       "      <td>...</td>\n",
       "      <td>...</td>\n",
       "      <td>...</td>\n",
       "      <td>...</td>\n",
       "    </tr>\n",
       "    <tr>\n",
       "      <th>392</th>\n",
       "      <td>0.649257</td>\n",
       "      <td>1.092415</td>\n",
       "      <td>0.830187</td>\n",
       "      <td>0.953483</td>\n",
       "      <td>0.330058</td>\n",
       "      <td>0.350418</td>\n",
       "    </tr>\n",
       "    <tr>\n",
       "      <th>393</th>\n",
       "      <td>0.649257</td>\n",
       "      <td>1.092415</td>\n",
       "      <td>0.674796</td>\n",
       "      <td>0.106654</td>\n",
       "      <td>0.330058</td>\n",
       "      <td>1.218396</td>\n",
       "    </tr>\n",
       "    <tr>\n",
       "      <th>394</th>\n",
       "      <td>0.649257</td>\n",
       "      <td>1.092415</td>\n",
       "      <td>1.529446</td>\n",
       "      <td>0.568560</td>\n",
       "      <td>0.330058</td>\n",
       "      <td>0.395640</td>\n",
       "    </tr>\n",
       "    <tr>\n",
       "      <th>395</th>\n",
       "      <td>0.649257</td>\n",
       "      <td>1.092415</td>\n",
       "      <td>0.208623</td>\n",
       "      <td>0.201284</td>\n",
       "      <td>0.330058</td>\n",
       "      <td>0.607502</td>\n",
       "    </tr>\n",
       "    <tr>\n",
       "      <th>396</th>\n",
       "      <td>0.672564</td>\n",
       "      <td>1.092415</td>\n",
       "      <td>1.112200</td>\n",
       "      <td>1.048113</td>\n",
       "      <td>0.330058</td>\n",
       "      <td>1.080017</td>\n",
       "    </tr>\n",
       "  </tbody>\n",
       "</table>\n",
       "<p>397 rows × 6 columns</p>\n",
       "</div>"
      ],
      "text/plain": [
       "         rank  discipline  yrs.since.phd  yrs.service       sex    salary\n",
       "0    0.649257    0.915403       0.257550     0.029669  0.330058  0.860919\n",
       "1    0.649257    0.915403       0.179854     0.124300  0.330058  1.966672\n",
       "2    0.672564    0.915403       1.422982     1.125098  0.330058  1.122495\n",
       "3    0.649257    0.915403       1.762533     1.646343  0.330058  0.042760\n",
       "4    0.649257    0.915403       1.374055     1.800312  0.330058  0.918768\n",
       "..        ...         ...            ...          ...       ...       ...\n",
       "392  0.649257    1.092415       0.830187     0.953483  0.330058  0.350418\n",
       "393  0.649257    1.092415       0.674796     0.106654  0.330058  1.218396\n",
       "394  0.649257    1.092415       1.529446     0.568560  0.330058  0.395640\n",
       "395  0.649257    1.092415       0.208623     0.201284  0.330058  0.607502\n",
       "396  0.672564    1.092415       1.112200     1.048113  0.330058  1.080017\n",
       "\n",
       "[397 rows x 6 columns]"
      ]
     },
     "execution_count": 23,
     "metadata": {},
     "output_type": "execute_result"
    }
   ],
   "source": [
    "z=np.abs(zscore(df))\n",
    "z"
   ]
  },
  {
   "cell_type": "code",
   "execution_count": 24,
   "id": "36fe2ed2",
   "metadata": {},
   "outputs": [
    {
     "data": {
      "text/plain": [
       "(array([  9,  19,  24,  34,  35,  43,  47,  48,  52,  63,  68,  84,  90,\n",
       "        103, 114, 119, 123, 127, 131, 132, 133, 148, 153, 179, 186, 218,\n",
       "        230, 231, 233, 237, 245, 253, 254, 274, 316, 323, 330, 332, 334,\n",
       "        341, 358, 361, 364], dtype=int64),\n",
       " array([4, 4, 4, 4, 4, 5, 4, 4, 4, 4, 4, 4, 4, 4, 4, 4, 4, 4, 3, 4, 4, 4,\n",
       "        4, 4, 4, 4, 4, 4, 4, 4, 4, 4, 4, 4, 4, 4, 3, 4, 4, 4, 4, 4, 5],\n",
       "       dtype=int64))"
      ]
     },
     "execution_count": 24,
     "metadata": {},
     "output_type": "execute_result"
    }
   ],
   "source": [
    "np.where(z>3)"
   ]
  },
  {
   "cell_type": "code",
   "execution_count": 87,
   "id": "3930a815",
   "metadata": {},
   "outputs": [
    {
     "data": {
      "text/html": [
       "<div>\n",
       "<style scoped>\n",
       "    .dataframe tbody tr th:only-of-type {\n",
       "        vertical-align: middle;\n",
       "    }\n",
       "\n",
       "    .dataframe tbody tr th {\n",
       "        vertical-align: top;\n",
       "    }\n",
       "\n",
       "    .dataframe thead th {\n",
       "        text-align: right;\n",
       "    }\n",
       "</style>\n",
       "<table border=\"1\" class=\"dataframe\">\n",
       "  <thead>\n",
       "    <tr style=\"text-align: right;\">\n",
       "      <th></th>\n",
       "      <th>rank</th>\n",
       "      <th>discipline</th>\n",
       "      <th>yrs.since.phd</th>\n",
       "      <th>yrs.service</th>\n",
       "      <th>sex</th>\n",
       "      <th>salary</th>\n",
       "    </tr>\n",
       "  </thead>\n",
       "  <tbody>\n",
       "    <tr>\n",
       "      <th>0</th>\n",
       "      <td>2</td>\n",
       "      <td>1</td>\n",
       "      <td>19</td>\n",
       "      <td>18</td>\n",
       "      <td>1</td>\n",
       "      <td>139750</td>\n",
       "    </tr>\n",
       "    <tr>\n",
       "      <th>1</th>\n",
       "      <td>2</td>\n",
       "      <td>1</td>\n",
       "      <td>20</td>\n",
       "      <td>16</td>\n",
       "      <td>1</td>\n",
       "      <td>173200</td>\n",
       "    </tr>\n",
       "    <tr>\n",
       "      <th>2</th>\n",
       "      <td>1</td>\n",
       "      <td>1</td>\n",
       "      <td>4</td>\n",
       "      <td>3</td>\n",
       "      <td>1</td>\n",
       "      <td>79750</td>\n",
       "    </tr>\n",
       "    <tr>\n",
       "      <th>3</th>\n",
       "      <td>2</td>\n",
       "      <td>1</td>\n",
       "      <td>45</td>\n",
       "      <td>39</td>\n",
       "      <td>1</td>\n",
       "      <td>115000</td>\n",
       "    </tr>\n",
       "    <tr>\n",
       "      <th>4</th>\n",
       "      <td>2</td>\n",
       "      <td>1</td>\n",
       "      <td>40</td>\n",
       "      <td>41</td>\n",
       "      <td>1</td>\n",
       "      <td>141500</td>\n",
       "    </tr>\n",
       "    <tr>\n",
       "      <th>...</th>\n",
       "      <td>...</td>\n",
       "      <td>...</td>\n",
       "      <td>...</td>\n",
       "      <td>...</td>\n",
       "      <td>...</td>\n",
       "      <td>...</td>\n",
       "    </tr>\n",
       "    <tr>\n",
       "      <th>392</th>\n",
       "      <td>2</td>\n",
       "      <td>0</td>\n",
       "      <td>33</td>\n",
       "      <td>30</td>\n",
       "      <td>1</td>\n",
       "      <td>103106</td>\n",
       "    </tr>\n",
       "    <tr>\n",
       "      <th>393</th>\n",
       "      <td>2</td>\n",
       "      <td>0</td>\n",
       "      <td>31</td>\n",
       "      <td>19</td>\n",
       "      <td>1</td>\n",
       "      <td>150564</td>\n",
       "    </tr>\n",
       "    <tr>\n",
       "      <th>394</th>\n",
       "      <td>2</td>\n",
       "      <td>0</td>\n",
       "      <td>42</td>\n",
       "      <td>25</td>\n",
       "      <td>1</td>\n",
       "      <td>101738</td>\n",
       "    </tr>\n",
       "    <tr>\n",
       "      <th>395</th>\n",
       "      <td>2</td>\n",
       "      <td>0</td>\n",
       "      <td>25</td>\n",
       "      <td>15</td>\n",
       "      <td>1</td>\n",
       "      <td>95329</td>\n",
       "    </tr>\n",
       "    <tr>\n",
       "      <th>396</th>\n",
       "      <td>1</td>\n",
       "      <td>0</td>\n",
       "      <td>8</td>\n",
       "      <td>4</td>\n",
       "      <td>1</td>\n",
       "      <td>81035</td>\n",
       "    </tr>\n",
       "  </tbody>\n",
       "</table>\n",
       "<p>354 rows × 6 columns</p>\n",
       "</div>"
      ],
      "text/plain": [
       "     rank  discipline  yrs.since.phd  yrs.service  sex  salary\n",
       "0       2           1             19           18    1  139750\n",
       "1       2           1             20           16    1  173200\n",
       "2       1           1              4            3    1   79750\n",
       "3       2           1             45           39    1  115000\n",
       "4       2           1             40           41    1  141500\n",
       "..    ...         ...            ...          ...  ...     ...\n",
       "392     2           0             33           30    1  103106\n",
       "393     2           0             31           19    1  150564\n",
       "394     2           0             42           25    1  101738\n",
       "395     2           0             25           15    1   95329\n",
       "396     1           0              8            4    1   81035\n",
       "\n",
       "[354 rows x 6 columns]"
      ]
     },
     "execution_count": 87,
     "metadata": {},
     "output_type": "execute_result"
    }
   ],
   "source": [
    "df=df[(z<3).all(axis=1)]\n",
    "df"
   ]
  },
  {
   "cell_type": "code",
   "execution_count": 89,
   "id": "33a7baa2",
   "metadata": {},
   "outputs": [
    {
     "data": {
      "text/plain": [
       "(354, 6)"
      ]
     },
     "execution_count": 89,
     "metadata": {},
     "output_type": "execute_result"
    }
   ],
   "source": [
    "df.shape"
   ]
  },
  {
   "cell_type": "code",
   "execution_count": 93,
   "id": "a11fac23",
   "metadata": {},
   "outputs": [],
   "source": [
    "x=df.iloc[:,:5]"
   ]
  },
  {
   "cell_type": "code",
   "execution_count": 94,
   "id": "108f5a64",
   "metadata": {},
   "outputs": [
    {
     "data": {
      "text/html": [
       "<div>\n",
       "<style scoped>\n",
       "    .dataframe tbody tr th:only-of-type {\n",
       "        vertical-align: middle;\n",
       "    }\n",
       "\n",
       "    .dataframe tbody tr th {\n",
       "        vertical-align: top;\n",
       "    }\n",
       "\n",
       "    .dataframe thead th {\n",
       "        text-align: right;\n",
       "    }\n",
       "</style>\n",
       "<table border=\"1\" class=\"dataframe\">\n",
       "  <thead>\n",
       "    <tr style=\"text-align: right;\">\n",
       "      <th></th>\n",
       "      <th>rank</th>\n",
       "      <th>discipline</th>\n",
       "      <th>yrs.since.phd</th>\n",
       "      <th>yrs.service</th>\n",
       "      <th>sex</th>\n",
       "    </tr>\n",
       "  </thead>\n",
       "  <tbody>\n",
       "    <tr>\n",
       "      <th>0</th>\n",
       "      <td>2</td>\n",
       "      <td>1</td>\n",
       "      <td>19</td>\n",
       "      <td>18</td>\n",
       "      <td>1</td>\n",
       "    </tr>\n",
       "    <tr>\n",
       "      <th>1</th>\n",
       "      <td>2</td>\n",
       "      <td>1</td>\n",
       "      <td>20</td>\n",
       "      <td>16</td>\n",
       "      <td>1</td>\n",
       "    </tr>\n",
       "    <tr>\n",
       "      <th>2</th>\n",
       "      <td>1</td>\n",
       "      <td>1</td>\n",
       "      <td>4</td>\n",
       "      <td>3</td>\n",
       "      <td>1</td>\n",
       "    </tr>\n",
       "    <tr>\n",
       "      <th>3</th>\n",
       "      <td>2</td>\n",
       "      <td>1</td>\n",
       "      <td>45</td>\n",
       "      <td>39</td>\n",
       "      <td>1</td>\n",
       "    </tr>\n",
       "    <tr>\n",
       "      <th>4</th>\n",
       "      <td>2</td>\n",
       "      <td>1</td>\n",
       "      <td>40</td>\n",
       "      <td>41</td>\n",
       "      <td>1</td>\n",
       "    </tr>\n",
       "    <tr>\n",
       "      <th>...</th>\n",
       "      <td>...</td>\n",
       "      <td>...</td>\n",
       "      <td>...</td>\n",
       "      <td>...</td>\n",
       "      <td>...</td>\n",
       "    </tr>\n",
       "    <tr>\n",
       "      <th>392</th>\n",
       "      <td>2</td>\n",
       "      <td>0</td>\n",
       "      <td>33</td>\n",
       "      <td>30</td>\n",
       "      <td>1</td>\n",
       "    </tr>\n",
       "    <tr>\n",
       "      <th>393</th>\n",
       "      <td>2</td>\n",
       "      <td>0</td>\n",
       "      <td>31</td>\n",
       "      <td>19</td>\n",
       "      <td>1</td>\n",
       "    </tr>\n",
       "    <tr>\n",
       "      <th>394</th>\n",
       "      <td>2</td>\n",
       "      <td>0</td>\n",
       "      <td>42</td>\n",
       "      <td>25</td>\n",
       "      <td>1</td>\n",
       "    </tr>\n",
       "    <tr>\n",
       "      <th>395</th>\n",
       "      <td>2</td>\n",
       "      <td>0</td>\n",
       "      <td>25</td>\n",
       "      <td>15</td>\n",
       "      <td>1</td>\n",
       "    </tr>\n",
       "    <tr>\n",
       "      <th>396</th>\n",
       "      <td>1</td>\n",
       "      <td>0</td>\n",
       "      <td>8</td>\n",
       "      <td>4</td>\n",
       "      <td>1</td>\n",
       "    </tr>\n",
       "  </tbody>\n",
       "</table>\n",
       "<p>354 rows × 5 columns</p>\n",
       "</div>"
      ],
      "text/plain": [
       "     rank  discipline  yrs.since.phd  yrs.service  sex\n",
       "0       2           1             19           18    1\n",
       "1       2           1             20           16    1\n",
       "2       1           1              4            3    1\n",
       "3       2           1             45           39    1\n",
       "4       2           1             40           41    1\n",
       "..    ...         ...            ...          ...  ...\n",
       "392     2           0             33           30    1\n",
       "393     2           0             31           19    1\n",
       "394     2           0             42           25    1\n",
       "395     2           0             25           15    1\n",
       "396     1           0              8            4    1\n",
       "\n",
       "[354 rows x 5 columns]"
      ]
     },
     "execution_count": 94,
     "metadata": {},
     "output_type": "execute_result"
    }
   ],
   "source": [
    "x"
   ]
  },
  {
   "cell_type": "code",
   "execution_count": 97,
   "id": "07fbe8f5",
   "metadata": {},
   "outputs": [
    {
     "data": {
      "text/plain": [
       "0      139750\n",
       "1      173200\n",
       "2       79750\n",
       "3      115000\n",
       "4      141500\n",
       "        ...  \n",
       "392    103106\n",
       "393    150564\n",
       "394    101738\n",
       "395     95329\n",
       "396     81035\n",
       "Name: salary, Length: 354, dtype: int64"
      ]
     },
     "execution_count": 97,
     "metadata": {},
     "output_type": "execute_result"
    }
   ],
   "source": [
    "y=df.iloc[:,5]\n",
    "y"
   ]
  },
  {
   "cell_type": "code",
   "execution_count": 90,
   "id": "76054723",
   "metadata": {},
   "outputs": [
    {
     "data": {
      "image/png": "[encoded data removed]",
      "text/plain": [
       "<Figure size 1080x1080 with 42 Axes>"
      ]
     },
     "metadata": {
      "needs_background": "light"
     },
     "output_type": "display_data"
    }
   ],
   "source": [
    "sns.pairplot(df)\n",
    "plt.show()"
   ]
  },
  {
   "cell_type": "code",
   "execution_count": 120,
   "id": "8b70912f",
   "metadata": {},
   "outputs": [
    {
     "data": {
      "image/png": "[encoded data removed]",
      "text/plain": [
       "<Figure size 432x288 with 2 Axes>"
      ]
     },
     "metadata": {
      "needs_background": "light"
     },
     "output_type": "display_data"
    }
   ],
   "source": [
    "sns.heatmap(df)\n",
    "plt.show()"
   ]
  },
  {
   "cell_type": "code",
   "execution_count": 75,
   "id": "c0db1841",
   "metadata": {},
   "outputs": [
    {
     "data": {
      "image/png": "[encoded data removed]",
      "text/plain": [
       "<Figure size 432x288 with 1 Axes>"
      ]
     },
     "metadata": {
      "needs_background": "light"
     },
     "output_type": "display_data"
    }
   ],
   "source": [
    "sns.distplot(df['salary'])\n",
    "plt.show()"
   ]
  },
  {
   "cell_type": "code",
   "execution_count": 76,
   "id": "2ff0a99c",
   "metadata": {},
   "outputs": [
    {
     "data": {
      "image/png": "[encoded data removed]",
      "text/plain": [
       "<Figure size 432x288 with 1 Axes>"
      ]
     },
     "metadata": {
      "needs_background": "light"
     },
     "output_type": "display_data"
    }
   ],
   "source": [
    "sns.distplot(df['sex'],kde=True)\n",
    "plt.show()"
   ]
  },
  {
   "cell_type": "code",
   "execution_count": 77,
   "id": "8c4a4f8c",
   "metadata": {},
   "outputs": [
    {
     "data": {
      "image/png": "[encoded data removed]",
      "text/plain": [
       "<Figure size 432x288 with 1 Axes>"
      ]
     },
     "metadata": {
      "needs_background": "light"
     },
     "output_type": "display_data"
    }
   ],
   "source": [
    "sns.distplot(df['yrs.service'],kde=True)\n",
    "plt.show()"
   ]
  },
  {
   "cell_type": "code",
   "execution_count": 78,
   "id": "1c4c0948",
   "metadata": {},
   "outputs": [
    {
     "data": {
      "image/png": "[encoded data removed]",
      "text/plain": [
       "<Figure size 432x288 with 1 Axes>"
      ]
     },
     "metadata": {
      "needs_background": "light"
     },
     "output_type": "display_data"
    }
   ],
   "source": [
    "sns.distplot(df['yrs.since.phd'],kde=True)\n",
    "plt.show()"
   ]
  },
  {
   "cell_type": "code",
   "execution_count": 98,
   "id": "b63a3279",
   "metadata": {},
   "outputs": [
    {
     "data": {
      "text/plain": [
       "rank            -1.241757\n",
       "discipline      -0.182308\n",
       "yrs.since.phd    0.234156\n",
       "yrs.service      0.529464\n",
       "sex              0.000000\n",
       "dtype: float64"
      ]
     },
     "execution_count": 98,
     "metadata": {},
     "output_type": "execute_result"
    }
   ],
   "source": [
    "x.skew()"
   ]
  },
  {
   "cell_type": "code",
   "execution_count": 99,
   "id": "0173a568",
   "metadata": {},
   "outputs": [],
   "source": [
    "x=power_transform(x)"
   ]
  },
  {
   "cell_type": "code",
   "execution_count": 100,
   "id": "912e47a9",
   "metadata": {},
   "outputs": [
    {
     "data": {
      "text/plain": [
       "array([[ 0.66261867,  0.9133438 , -0.16993349,  0.21391071,  0.        ],\n",
       "       [ 0.66261867,  0.9133438 , -0.09133723,  0.06567291,  0.        ],\n",
       "       [-1.18533666,  0.9133438 , -1.64343352, -1.32485378,  0.        ],\n",
       "       ...,\n",
       "       [ 0.66261867, -1.09487797,  1.38580057,  0.67335521,  0.        ],\n",
       "       [ 0.66261867, -1.09487797,  0.28223854, -0.0121133 ,  0.        ],\n",
       "       [-1.18533666, -1.09487797, -1.16828402, -1.16384273,  0.        ]])"
      ]
     },
     "execution_count": 100,
     "metadata": {},
     "output_type": "execute_result"
    }
   ],
   "source": [
    "x"
   ]
  },
  {
   "cell_type": "code",
   "execution_count": 121,
   "id": "f7439de4",
   "metadata": {},
   "outputs": [],
   "source": [
    "from sklearn.preprocessing import MinMaxScaler"
   ]
  },
  {
   "cell_type": "code",
   "execution_count": 122,
   "id": "d14cf07a",
   "metadata": {},
   "outputs": [
    {
     "data": {
      "text/plain": [
       "array([[1.        , 1.        , 0.45310518, 0.55394563, 0.        ],\n",
       "       [1.        , 1.        , 0.47145219, 0.5174616 , 0.        ],\n",
       "       [0.23872111, 1.        , 0.10914077, 0.17522756, 0.        ],\n",
       "       ...,\n",
       "       [1.        , 0.        , 0.81626577, 0.66702333, 0.        ],\n",
       "       [1.        , 0.        , 0.55865732, 0.49831699, 0.        ],\n",
       "       [0.23872111, 0.        , 0.22005663, 0.21485532, 0.        ]])"
      ]
     },
     "execution_count": 122,
     "metadata": {},
     "output_type": "execute_result"
    }
   ],
   "source": [
    "st=MinMaxScaler()\n",
    "x=st.fit_transform(x)\n",
    "x"
   ]
  },
  {
   "cell_type": "code",
   "execution_count": 123,
   "id": "35750578",
   "metadata": {},
   "outputs": [],
   "source": [
    "from sklearn.model_selection import train_test_split\n",
    "from sklearn.linear_model import LinearRegression\n",
    "from sklearn.metrics import mean_squared_error,r2_score"
   ]
  },
  {
   "cell_type": "code",
   "execution_count": 124,
   "id": "685bc048",
   "metadata": {},
   "outputs": [],
   "source": [
    "lr=LinearRegression()"
   ]
  },
  {
   "cell_type": "code",
   "execution_count": 125,
   "id": "a3e7b2a4",
   "metadata": {},
   "outputs": [
    {
     "data": {
      "text/plain": [
       "(354, 5)"
      ]
     },
     "execution_count": 125,
     "metadata": {},
     "output_type": "execute_result"
    }
   ],
   "source": [
    "x.shape"
   ]
  },
  {
   "cell_type": "code",
   "execution_count": 126,
   "id": "f68920d1",
   "metadata": {},
   "outputs": [
    {
     "data": {
      "text/plain": [
       "(354,)"
      ]
     },
     "execution_count": 126,
     "metadata": {},
     "output_type": "execute_result"
    }
   ],
   "source": [
    "y.shape"
   ]
  },
  {
   "cell_type": "code",
   "execution_count": 129,
   "id": "73eee0fa",
   "metadata": {},
   "outputs": [
    {
     "name": "stdout",
     "output_type": "stream",
     "text": [
      "The training accuracy at random state  0  is  43.87117446717307\n",
      "The testing accuracy at random state  0  is  31.37675501681556\n",
      "\n",
      "\n",
      "The training accuracy at random state  1  is  35.62952984985165\n",
      "The testing accuracy at random state  1  is  38.34718220776718\n",
      "\n",
      "\n",
      "The training accuracy at random state  2  is  36.06265519465639\n",
      "The testing accuracy at random state  2  is  40.39967519922237\n",
      "\n",
      "\n",
      "The training accuracy at random state  3  is  39.58676681893629\n",
      "The testing accuracy at random state  3  is  37.38064011514604\n",
      "\n",
      "\n",
      "The training accuracy at random state  4  is  39.7507578600935\n",
      "The testing accuracy at random state  4  is  37.88525584742576\n",
      "\n",
      "\n",
      "The training accuracy at random state  5  is  40.89376683617768\n",
      "The testing accuracy at random state  5  is  35.02938196016684\n",
      "\n",
      "\n",
      "The training accuracy at random state  6  is  33.4439131888456\n",
      "The testing accuracy at random state  6  is  44.52805364712486\n",
      "\n",
      "\n",
      "The training accuracy at random state  7  is  40.52716583263478\n",
      "The testing accuracy at random state  7  is  33.99523944951884\n",
      "\n",
      "\n",
      "The training accuracy at random state  8  is  40.84678167044081\n",
      "The testing accuracy at random state  8  is  29.066411993807726\n",
      "\n",
      "\n",
      "The training accuracy at random state  9  is  38.46146572741951\n",
      "The testing accuracy at random state  9  is  36.951275835577114\n",
      "\n",
      "\n",
      "The training accuracy at random state  10  is  39.016632038681365\n",
      "The testing accuracy at random state  10  is  39.087338764723675\n",
      "\n",
      "\n",
      "The training accuracy at random state  11  is  37.40198821137422\n",
      "The testing accuracy at random state  11  is  39.830261558212854\n",
      "\n",
      "\n",
      "The training accuracy at random state  12  is  40.56193597746341\n",
      "The testing accuracy at random state  12  is  34.863758284862634\n",
      "\n",
      "\n",
      "The training accuracy at random state  13  is  35.82403371915359\n",
      "The testing accuracy at random state  13  is  41.806752549499706\n",
      "\n",
      "\n",
      "The training accuracy at random state  14  is  35.780917581497896\n",
      "The testing accuracy at random state  14  is  43.53575020476196\n",
      "\n",
      "\n",
      "The training accuracy at random state  15  is  37.394639213583304\n",
      "The testing accuracy at random state  15  is  40.03667394019518\n",
      "\n",
      "\n",
      "The training accuracy at random state  16  is  39.788367993053555\n",
      "The testing accuracy at random state  16  is  38.08639441235987\n",
      "\n",
      "\n",
      "The training accuracy at random state  17  is  40.522157270628966\n",
      "The testing accuracy at random state  17  is  36.11188555858126\n",
      "\n",
      "\n",
      "The training accuracy at random state  18  is  38.61847368086738\n",
      "The testing accuracy at random state  18  is  39.54367357159014\n",
      "\n",
      "\n",
      "The training accuracy at random state  19  is  38.7197618308323\n",
      "The testing accuracy at random state  19  is  39.24391953696893\n",
      "\n",
      "\n",
      "The training accuracy at random state  20  is  37.46393487978936\n",
      "The testing accuracy at random state  20  is  40.656063937051336\n",
      "\n",
      "\n",
      "The training accuracy at random state  21  is  45.41743058380657\n",
      "The testing accuracy at random state  21  is  25.970156785748856\n",
      "\n",
      "\n",
      "The training accuracy at random state  22  is  39.03127866551078\n",
      "The testing accuracy at random state  22  is  37.778576425096354\n",
      "\n",
      "\n",
      "The training accuracy at random state  23  is  38.129326329999635\n",
      "The testing accuracy at random state  23  is  38.61240274159549\n",
      "\n",
      "\n",
      "The training accuracy at random state  24  is  39.46723476961039\n",
      "The testing accuracy at random state  24  is  38.53918461209071\n",
      "\n",
      "\n",
      "The training accuracy at random state  25  is  40.201437562202855\n",
      "The testing accuracy at random state  25  is  35.363695476224734\n",
      "\n",
      "\n",
      "The training accuracy at random state  26  is  38.997289683897904\n",
      "The testing accuracy at random state  26  is  38.9347487319248\n",
      "\n",
      "\n",
      "The training accuracy at random state  27  is  42.80452668190834\n",
      "The testing accuracy at random state  27  is  33.70021570904477\n",
      "\n",
      "\n",
      "The training accuracy at random state  28  is  35.44335828644165\n",
      "The testing accuracy at random state  28  is  42.54340549735044\n",
      "\n",
      "\n",
      "The training accuracy at random state  29  is  41.92700765085296\n",
      "The testing accuracy at random state  29  is  35.029677366980195\n",
      "\n",
      "\n",
      "The training accuracy at random state  30  is  37.76880269790978\n",
      "The testing accuracy at random state  30  is  40.785038902428774\n",
      "\n",
      "\n",
      "The training accuracy at random state  31  is  39.94434398446418\n",
      "The testing accuracy at random state  31  is  36.95473384280573\n",
      "\n",
      "\n",
      "The training accuracy at random state  32  is  42.913014839318194\n",
      "The testing accuracy at random state  32  is  32.125775720439684\n",
      "\n",
      "\n",
      "The training accuracy at random state  33  is  42.0404844456716\n",
      "The testing accuracy at random state  33  is  31.938543492854933\n",
      "\n",
      "\n",
      "The training accuracy at random state  34  is  37.35791238099226\n",
      "The testing accuracy at random state  34  is  40.79946426191506\n",
      "\n",
      "\n",
      "The training accuracy at random state  35  is  38.87900812258207\n",
      "The testing accuracy at random state  35  is  36.49121003390864\n",
      "\n",
      "\n",
      "The training accuracy at random state  36  is  38.82865432117808\n",
      "The testing accuracy at random state  36  is  38.74520107606811\n",
      "\n",
      "\n",
      "The training accuracy at random state  37  is  35.57717151485912\n",
      "The testing accuracy at random state  37  is  41.03864301894053\n",
      "\n",
      "\n",
      "The training accuracy at random state  38  is  37.047619801868436\n",
      "The testing accuracy at random state  38  is  41.230516186366884\n",
      "\n",
      "\n",
      "The training accuracy at random state  39  is  39.152795854454126\n",
      "The testing accuracy at random state  39  is  36.77522173187467\n",
      "\n",
      "\n",
      "The training accuracy at random state  40  is  43.499053720783685\n",
      "The testing accuracy at random state  40  is  24.177272374829172\n",
      "\n",
      "\n",
      "The training accuracy at random state  41  is  40.04046988039025\n",
      "The testing accuracy at random state  41  is  37.36867583005322\n",
      "\n",
      "\n",
      "The training accuracy at random state  42  is  38.85718694116188\n",
      "The testing accuracy at random state  42  is  38.50420978662128\n",
      "\n",
      "\n",
      "The training accuracy at random state  43  is  43.76896298987484\n",
      "The testing accuracy at random state  43  is  31.538032324426656\n",
      "\n",
      "\n",
      "The training accuracy at random state  44  is  33.22064452402236\n",
      "The testing accuracy at random state  44  is  46.9584593643946\n",
      "\n",
      "\n",
      "The training accuracy at random state  45  is  42.137251139277886\n",
      "The testing accuracy at random state  45  is  33.64576468011299\n",
      "\n",
      "\n",
      "The training accuracy at random state  46  is  40.54295510703005\n",
      "The testing accuracy at random state  46  is  36.44592157001675\n",
      "\n",
      "\n",
      "The training accuracy at random state  47  is  40.44857508497667\n",
      "The testing accuracy at random state  47  is  35.0116119769035\n",
      "\n",
      "\n",
      "The training accuracy at random state  48  is  42.1695866462929\n",
      "The testing accuracy at random state  48  is  34.01342856345628\n",
      "\n",
      "\n",
      "The training accuracy at random state  49  is  39.39255868448822\n",
      "The testing accuracy at random state  49  is  38.219359525281874\n",
      "\n",
      "\n",
      "The training accuracy at random state  50  is  37.88897561621275\n",
      "The testing accuracy at random state  50  is  39.25174326384299\n",
      "\n",
      "\n",
      "The training accuracy at random state  51  is  43.33672521333223\n",
      "The testing accuracy at random state  51  is  31.824755868850385\n",
      "\n",
      "\n",
      "The training accuracy at random state  52  is  38.474023286468736\n",
      "The testing accuracy at random state  52  is  38.37842456156522\n",
      "\n",
      "\n",
      "The training accuracy at random state  53  is  42.40471577754326\n",
      "The testing accuracy at random state  53  is  33.80133299380223\n",
      "\n",
      "\n",
      "The training accuracy at random state  54  is  41.37735707508017\n",
      "The testing accuracy at random state  54  is  33.72168580977907\n",
      "\n",
      "\n",
      "The training accuracy at random state  55  is  41.21585353600471\n",
      "The testing accuracy at random state  55  is  33.56391980146607\n",
      "\n",
      "\n",
      "The training accuracy at random state  56  is  34.37596244289227\n",
      "The testing accuracy at random state  56  is  46.62359141946265\n",
      "\n",
      "\n",
      "The training accuracy at random state  57  is  36.35889662907594\n",
      "The testing accuracy at random state  57  is  39.690224790999466\n",
      "\n",
      "\n",
      "The training accuracy at random state  58  is  38.73887271812991\n",
      "The testing accuracy at random state  58  is  38.735504080789305\n",
      "\n",
      "\n",
      "The training accuracy at random state  59  is  38.41983203717129\n",
      "The testing accuracy at random state  59  is  37.858295684921785\n",
      "\n",
      "\n",
      "The training accuracy at random state  60  is  40.510365261108475\n",
      "The testing accuracy at random state  60  is  33.69590961105199\n",
      "\n",
      "\n",
      "The training accuracy at random state  61  is  35.07978201375629\n",
      "The testing accuracy at random state  61  is  42.8441732317474\n",
      "\n",
      "\n",
      "The training accuracy at random state  62  is  41.419011549706255\n",
      "The testing accuracy at random state  62  is  36.1634703755769\n",
      "\n",
      "\n",
      "The training accuracy at random state  63  is  41.351870499541036\n",
      "The testing accuracy at random state  63  is  36.110671764115985\n",
      "\n",
      "\n",
      "The training accuracy at random state  64  is  35.2408857300616\n",
      "The testing accuracy at random state  64  is  41.42171825817328\n",
      "\n",
      "\n",
      "The training accuracy at random state  65  is  40.387934959227834\n",
      "The testing accuracy at random state  65  is  37.367886784692075\n",
      "\n",
      "\n",
      "The training accuracy at random state  66  is  43.43808251660987\n",
      "The testing accuracy at random state  66  is  32.14297125469224\n",
      "\n",
      "\n",
      "The training accuracy at random state  67  is  41.07539122297257\n",
      "The testing accuracy at random state  67  is  27.246348195714365\n",
      "\n",
      "\n",
      "The training accuracy at random state  68  is  45.57974995144184\n",
      "The testing accuracy at random state  68  is  27.40286688494704\n",
      "\n",
      "\n",
      "The training accuracy at random state  69  is  39.57280193784677\n",
      "The testing accuracy at random state  69  is  36.08161023674234\n",
      "\n",
      "\n",
      "The training accuracy at random state  70  is  42.91333789519657\n",
      "The testing accuracy at random state  70  is  33.46142449591958\n",
      "\n",
      "\n",
      "The training accuracy at random state  71  is  36.1457067279172\n",
      "The testing accuracy at random state  71  is  43.545487331584134\n",
      "\n",
      "\n",
      "The training accuracy at random state  72  is  37.64755687129618\n",
      "The testing accuracy at random state  72  is  40.39134479938282\n",
      "\n",
      "\n",
      "The training accuracy at random state  73  is  40.29488552793437\n",
      "The testing accuracy at random state  73  is  36.71651405521486\n",
      "\n",
      "\n",
      "The training accuracy at random state  74  is  36.55180379671082\n",
      "The testing accuracy at random state  74  is  35.17970469712529\n",
      "\n",
      "\n",
      "The training accuracy at random state  75  is  42.91082227961165\n",
      "The testing accuracy at random state  75  is  33.208449762648776\n",
      "\n",
      "\n",
      "The training accuracy at random state  76  is  36.26113220772517\n",
      "The testing accuracy at random state  76  is  42.74891464933058\n",
      "\n",
      "\n",
      "The training accuracy at random state  77  is  35.16383277898916\n",
      "The testing accuracy at random state  77  is  43.84278618593457\n",
      "\n",
      "\n",
      "The training accuracy at random state  78  is  42.01307956125155\n",
      "The testing accuracy at random state  78  is  33.27931737705014\n",
      "\n",
      "\n",
      "The training accuracy at random state  79  is  34.590019462356736\n",
      "The testing accuracy at random state  79  is  43.932259364163414\n",
      "\n",
      "\n",
      "The training accuracy at random state  80  is  40.5865085125799\n",
      "The testing accuracy at random state  80  is  35.77732740452323\n",
      "\n",
      "\n",
      "The training accuracy at random state  81  is  41.62554158476326\n",
      "The testing accuracy at random state  81  is  33.97800870072065\n",
      "\n",
      "\n",
      "The training accuracy at random state  82  is  41.21554626747932\n",
      "The testing accuracy at random state  82  is  34.381521449480914\n",
      "\n",
      "\n",
      "The training accuracy at random state  83  is  40.55165695924497\n",
      "The testing accuracy at random state  83  is  36.049844393104344\n",
      "\n",
      "\n",
      "The training accuracy at random state  84  is  34.79459046226976\n",
      "The testing accuracy at random state  84  is  42.023059373990215\n",
      "\n",
      "\n",
      "The training accuracy at random state  85  is  35.93169245288232\n",
      "The testing accuracy at random state  85  is  41.886040417538105\n",
      "\n",
      "\n",
      "The training accuracy at random state  86  is  42.229021604322526\n",
      "The testing accuracy at random state  86  is  33.405238590142694\n",
      "\n",
      "\n",
      "The training accuracy at random state  87  is  38.48517707910817\n",
      "The testing accuracy at random state  87  is  38.596949714241\n",
      "\n",
      "\n",
      "The training accuracy at random state  88  is  40.289319505148725\n",
      "The testing accuracy at random state  88  is  34.763457863738644\n",
      "\n",
      "\n",
      "The training accuracy at random state  89  is  39.92479561304925\n",
      "The testing accuracy at random state  89  is  37.09014204002315\n",
      "\n",
      "\n",
      "The training accuracy at random state  90  is  39.03597944425614\n",
      "The testing accuracy at random state  90  is  38.738284489301634\n",
      "\n",
      "\n",
      "The training accuracy at random state  91  is  39.076593468763875\n",
      "The testing accuracy at random state  91  is  38.80024129177053\n",
      "\n",
      "\n",
      "The training accuracy at random state  92  is  38.864689314611724\n",
      "The testing accuracy at random state  92  is  39.154862407338044\n",
      "\n",
      "\n",
      "The training accuracy at random state  93  is  40.399191412956256\n",
      "The testing accuracy at random state  93  is  35.54311394102473\n",
      "\n",
      "\n",
      "The training accuracy at random state  94  is  41.443650779446784\n",
      "The testing accuracy at random state  94  is  36.11763438716995\n",
      "\n",
      "\n",
      "The training accuracy at random state  95  is  41.67863464719481\n",
      "The testing accuracy at random state  95  is  32.3423215135755\n",
      "\n",
      "\n",
      "The training accuracy at random state  96  is  37.58516308558728\n",
      "The testing accuracy at random state  96  is  40.64913498133591\n",
      "\n",
      "\n",
      "The training accuracy at random state  97  is  40.192564885790524\n",
      "The testing accuracy at random state  97  is  32.863483453763685\n",
      "\n",
      "\n",
      "The training accuracy at random state  98  is  39.78205566498757\n",
      "The testing accuracy at random state  98  is  37.907264408237886\n",
      "\n",
      "\n",
      "The training accuracy at random state  99  is  42.852539106837085\n",
      "The testing accuracy at random state  99  is  30.78802049123531\n",
      "\n",
      "\n"
     ]
    }
   ],
   "source": [
    "for i in range(0,100):\n",
    "    x_train,x_test,y_train,y_test=train_test_split(x,y,test_size=.40,random_state=i)\n",
    "    lr.fit(x_train,y_train)\n",
    "    train_acc=lr.predict(x_train)\n",
    "    test_acc=lr.predict(x_test)\n",
    "    print('The training accuracy at random state ',i,' is ',r2_score(y_train,train_acc)*100)\n",
    "    print('The testing accuracy at random state ',i,' is ',r2_score(y_test,test_acc)*100)\n",
    "    print('\\n')"
   ]
  },
  {
   "cell_type": "code",
   "execution_count": 115,
   "id": "d4b45101",
   "metadata": {},
   "outputs": [],
   "source": [
    "from sklearn.svm import SVR\n",
    "from sklearn.metrics import classification_report,accuracy_score"
   ]
  },
  {
   "cell_type": "code",
   "execution_count": 108,
   "id": "ab63d8b3",
   "metadata": {},
   "outputs": [],
   "source": [
    "from sklearn.linear_model import Lasso\n",
    "from sklearn.model_selection import GridSearchCV\n",
    "from sklearn.model_selection import cross_val_score\n",
    "from sklearn.metrics import mean_squared_error,r2_score\n",
    "import warnings\n",
    "warnings.filterwarnings('ignore')"
   ]
  },
  {
   "cell_type": "code",
   "execution_count": 130,
   "id": "6c92ec40",
   "metadata": {},
   "outputs": [
    {
     "name": "stdout",
     "output_type": "stream",
     "text": [
      "{'alpha': 10, 'random_state': 0}\n"
     ]
    }
   ],
   "source": [
    "parameters={'alpha':[.0001,.001,.01,1,10],'random_state':list(range(0,10))}\n",
    "ls=Lasso()\n",
    "GV=GridSearchCV(ls,parameters)\n",
    "GV.fit(x_train,y_train)\n",
    "print(GV.best_params_)"
   ]
  },
  {
   "cell_type": "code",
   "execution_count": 133,
   "id": "cc774f1d",
   "metadata": {},
   "outputs": [
    {
     "name": "stdout",
     "output_type": "stream",
     "text": [
      "0.30788022235578927\n"
     ]
    }
   ],
   "source": [
    "ls=Lasso(alpha=.0001,random_state=0)\n",
    "ls.fit(x_train,y_train)\n",
    "predtra=ls.score(x_train,y_train)\n",
    "predtes=ls.predict(x_test)\n",
    "l=r2_score(y_test,predtes)\n",
    "print(l)"
   ]
  },
  {
   "cell_type": "markdown",
   "id": "2b3e5bdd",
   "metadata": {},
   "source": [
    "# I am unable to complete this question kindly provide me its solution"
   ]
  },
  {
   "cell_type": "code",
   "execution_count": null,
   "id": "a6fd93d7",
   "metadata": {},
   "outputs": [],
   "source": []
  },
  {
   "cell_type": "code",
   "execution_count": null,
   "id": "aba9832e",
   "metadata": {},
   "outputs": [],
   "source": []
  },
  {
   "cell_type": "code",
   "execution_count": null,
   "id": "99dd405c",
   "metadata": {},
   "outputs": [],
   "source": []
  },
  {
   "cell_type": "code",
   "execution_count": null,
   "id": "431be468",
   "metadata": {},
   "outputs": [],
   "source": []
  },
  {
   "cell_type": "code",
   "execution_count": null,
   "id": "67b663c7",
   "metadata": {},
   "outputs": [],
   "source": []
  },
  {
   "cell_type": "code",
   "execution_count": null,
   "id": "df83903a",
   "metadata": {},
   "outputs": [],
   "source": []
  },
  {
   "cell_type": "code",
   "execution_count": null,
   "id": "4bce4b09",
   "metadata": {},
   "outputs": [],
   "source": []
  },
  {
   "cell_type": "code",
   "execution_count": null,
   "id": "a6245fbc",
   "metadata": {},
   "outputs": [],
   "source": []
  },
  {
   "cell_type": "code",
   "execution_count": null,
   "id": "9b3601c3",
   "metadata": {},
   "outputs": [],
   "source": []
  },
  {
   "cell_type": "code",
   "execution_count": null,
   "id": "50c26840",
   "metadata": {},
   "outputs": [],
   "source": []
  },
  {
   "cell_type": "code",
   "execution_count": null,
   "id": "49b018b0",
   "metadata": {},
   "outputs": [],
   "source": []
  },
  {
   "cell_type": "code",
   "execution_count": null,
   "id": "4531756c",
   "metadata": {},
   "outputs": [],
   "source": []
  },
  {
   "cell_type": "code",
   "execution_count": null,
   "id": "1ac94468",
   "metadata": {},
   "outputs": [],
   "source": []
  },
  {
   "cell_type": "code",
   "execution_count": null,
   "id": "7e07bdda",
   "metadata": {},
   "outputs": [],
   "source": []
  },
  {
   "cell_type": "code",
   "execution_count": null,
   "id": "eab967fd",
   "metadata": {},
   "outputs": [],
   "source": []
  },
  {
   "cell_type": "code",
   "execution_count": null,
   "id": "745ff9e0",
   "metadata": {},
   "outputs": [],
   "source": []
  },
  {
   "cell_type": "code",
   "execution_count": null,
   "id": "cb1763bc",
   "metadata": {},
   "outputs": [],
   "source": []
  },
  {
   "cell_type": "code",
   "execution_count": null,
   "id": "40c970d0",
   "metadata": {},
   "outputs": [],
   "source": []
  }
 ],
 "metadata": {
  "kernelspec": {
   "display_name": "Python 3 (ipykernel)",
   "language": "python",
   "name": "python3"
  },
  "language_info": {
   "codemirror_mode": {
    "name": "ipython",
    "version": 3
   },
   "file_extension": ".py",
   "mimetype": "text/x-python",
   "name": "python",
   "nbconvert_exporter": "python",
   "pygments_lexer": "ipython3",
   "version": "3.9.12"
  }
 },
 "nbformat": 4,
 "nbformat_minor": 5
}
