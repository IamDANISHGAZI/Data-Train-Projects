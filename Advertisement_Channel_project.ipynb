{
 "cells": [
  {
   "cell_type": "code",
   "execution_count": 65,
   "id": "9797092c",
   "metadata": {},
   "outputs": [],
   "source": [
    "#Importing pandas and numpy libraries to load Dataset\n",
    "import pandas as pd\n",
    "import numpy as np\n",
    "import warnings\n",
    "warnings.filterwarnings('ignore')"
   ]
  },
  {
   "cell_type": "code",
   "execution_count": 3,
   "id": "82fe4903",
   "metadata": {},
   "outputs": [],
   "source": [
    "df=pd.read_csv('ad_salesproject.csv')"
   ]
  },
  {
   "cell_type": "code",
   "execution_count": 4,
   "id": "03ed4ebe",
   "metadata": {},
   "outputs": [
    {
     "data": {
      "text/html": [
       "<div>\n",
       "<style scoped>\n",
       "    .dataframe tbody tr th:only-of-type {\n",
       "        vertical-align: middle;\n",
       "    }\n",
       "\n",
       "    .dataframe tbody tr th {\n",
       "        vertical-align: top;\n",
       "    }\n",
       "\n",
       "    .dataframe thead th {\n",
       "        text-align: right;\n",
       "    }\n",
       "</style>\n",
       "<table border=\"1\" class=\"dataframe\">\n",
       "  <thead>\n",
       "    <tr style=\"text-align: right;\">\n",
       "      <th></th>\n",
       "      <th>Unnamed: 0</th>\n",
       "      <th>TV</th>\n",
       "      <th>radio</th>\n",
       "      <th>newspaper</th>\n",
       "      <th>sales</th>\n",
       "    </tr>\n",
       "  </thead>\n",
       "  <tbody>\n",
       "    <tr>\n",
       "      <th>0</th>\n",
       "      <td>1</td>\n",
       "      <td>230.1</td>\n",
       "      <td>37.8</td>\n",
       "      <td>69.2</td>\n",
       "      <td>22.1</td>\n",
       "    </tr>\n",
       "    <tr>\n",
       "      <th>1</th>\n",
       "      <td>2</td>\n",
       "      <td>44.5</td>\n",
       "      <td>39.3</td>\n",
       "      <td>45.1</td>\n",
       "      <td>10.4</td>\n",
       "    </tr>\n",
       "    <tr>\n",
       "      <th>2</th>\n",
       "      <td>3</td>\n",
       "      <td>17.2</td>\n",
       "      <td>45.9</td>\n",
       "      <td>69.3</td>\n",
       "      <td>9.3</td>\n",
       "    </tr>\n",
       "    <tr>\n",
       "      <th>3</th>\n",
       "      <td>4</td>\n",
       "      <td>151.5</td>\n",
       "      <td>41.3</td>\n",
       "      <td>58.5</td>\n",
       "      <td>18.5</td>\n",
       "    </tr>\n",
       "    <tr>\n",
       "      <th>4</th>\n",
       "      <td>5</td>\n",
       "      <td>180.8</td>\n",
       "      <td>10.8</td>\n",
       "      <td>58.4</td>\n",
       "      <td>12.9</td>\n",
       "    </tr>\n",
       "    <tr>\n",
       "      <th>...</th>\n",
       "      <td>...</td>\n",
       "      <td>...</td>\n",
       "      <td>...</td>\n",
       "      <td>...</td>\n",
       "      <td>...</td>\n",
       "    </tr>\n",
       "    <tr>\n",
       "      <th>195</th>\n",
       "      <td>196</td>\n",
       "      <td>38.2</td>\n",
       "      <td>3.7</td>\n",
       "      <td>13.8</td>\n",
       "      <td>7.6</td>\n",
       "    </tr>\n",
       "    <tr>\n",
       "      <th>196</th>\n",
       "      <td>197</td>\n",
       "      <td>94.2</td>\n",
       "      <td>4.9</td>\n",
       "      <td>8.1</td>\n",
       "      <td>9.7</td>\n",
       "    </tr>\n",
       "    <tr>\n",
       "      <th>197</th>\n",
       "      <td>198</td>\n",
       "      <td>177.0</td>\n",
       "      <td>9.3</td>\n",
       "      <td>6.4</td>\n",
       "      <td>12.8</td>\n",
       "    </tr>\n",
       "    <tr>\n",
       "      <th>198</th>\n",
       "      <td>199</td>\n",
       "      <td>283.6</td>\n",
       "      <td>42.0</td>\n",
       "      <td>66.2</td>\n",
       "      <td>25.5</td>\n",
       "    </tr>\n",
       "    <tr>\n",
       "      <th>199</th>\n",
       "      <td>200</td>\n",
       "      <td>232.1</td>\n",
       "      <td>8.6</td>\n",
       "      <td>8.7</td>\n",
       "      <td>13.4</td>\n",
       "    </tr>\n",
       "  </tbody>\n",
       "</table>\n",
       "<p>200 rows × 5 columns</p>\n",
       "</div>"
      ],
      "text/plain": [
       "     Unnamed: 0     TV  radio  newspaper  sales\n",
       "0             1  230.1   37.8       69.2   22.1\n",
       "1             2   44.5   39.3       45.1   10.4\n",
       "2             3   17.2   45.9       69.3    9.3\n",
       "3             4  151.5   41.3       58.5   18.5\n",
       "4             5  180.8   10.8       58.4   12.9\n",
       "..          ...    ...    ...        ...    ...\n",
       "195         196   38.2    3.7       13.8    7.6\n",
       "196         197   94.2    4.9        8.1    9.7\n",
       "197         198  177.0    9.3        6.4   12.8\n",
       "198         199  283.6   42.0       66.2   25.5\n",
       "199         200  232.1    8.6        8.7   13.4\n",
       "\n",
       "[200 rows x 5 columns]"
      ]
     },
     "execution_count": 4,
     "metadata": {},
     "output_type": "execute_result"
    }
   ],
   "source": [
    "df"
   ]
  },
  {
   "cell_type": "code",
   "execution_count": 5,
   "id": "41894dcb",
   "metadata": {},
   "outputs": [
    {
     "data": {
      "text/plain": [
       "(200, 5)"
      ]
     },
     "execution_count": 5,
     "metadata": {},
     "output_type": "execute_result"
    }
   ],
   "source": [
    "#checking the number of rows and coumns in dataset\n",
    "df.shape"
   ]
  },
  {
   "cell_type": "code",
   "execution_count": 6,
   "id": "104f1df0",
   "metadata": {},
   "outputs": [
    {
     "data": {
      "text/plain": [
       "Unnamed: 0      int64\n",
       "TV            float64\n",
       "radio         float64\n",
       "newspaper     float64\n",
       "sales         float64\n",
       "dtype: object"
      ]
     },
     "execution_count": 6,
     "metadata": {},
     "output_type": "execute_result"
    }
   ],
   "source": [
    "# checking datatypes in df\n",
    "df.dtypes"
   ]
  },
  {
   "cell_type": "code",
   "execution_count": 7,
   "id": "f99d0ca9",
   "metadata": {},
   "outputs": [
    {
     "data": {
      "text/plain": [
       "Unnamed: 0    0\n",
       "TV            0\n",
       "radio         0\n",
       "newspaper     0\n",
       "sales         0\n",
       "dtype: int64"
      ]
     },
     "execution_count": 7,
     "metadata": {},
     "output_type": "execute_result"
    }
   ],
   "source": [
    "#checking null values\n",
    "df.isnull().sum()"
   ]
  },
  {
   "cell_type": "code",
   "execution_count": 12,
   "id": "bc023c9c",
   "metadata": {},
   "outputs": [
    {
     "data": {
      "text/html": [
       "<div>\n",
       "<style scoped>\n",
       "    .dataframe tbody tr th:only-of-type {\n",
       "        vertical-align: middle;\n",
       "    }\n",
       "\n",
       "    .dataframe tbody tr th {\n",
       "        vertical-align: top;\n",
       "    }\n",
       "\n",
       "    .dataframe thead th {\n",
       "        text-align: right;\n",
       "    }\n",
       "</style>\n",
       "<table border=\"1\" class=\"dataframe\">\n",
       "  <thead>\n",
       "    <tr style=\"text-align: right;\">\n",
       "      <th></th>\n",
       "      <th>Unnamed: 0</th>\n",
       "      <th>TV</th>\n",
       "      <th>radio</th>\n",
       "      <th>newspaper</th>\n",
       "      <th>sales</th>\n",
       "    </tr>\n",
       "  </thead>\n",
       "  <tbody>\n",
       "    <tr>\n",
       "      <th>count</th>\n",
       "      <td>200.000000</td>\n",
       "      <td>200.000000</td>\n",
       "      <td>200.000000</td>\n",
       "      <td>200.000000</td>\n",
       "      <td>200.000000</td>\n",
       "    </tr>\n",
       "    <tr>\n",
       "      <th>mean</th>\n",
       "      <td>100.500000</td>\n",
       "      <td>147.042500</td>\n",
       "      <td>23.264000</td>\n",
       "      <td>30.554000</td>\n",
       "      <td>14.022500</td>\n",
       "    </tr>\n",
       "    <tr>\n",
       "      <th>std</th>\n",
       "      <td>57.879185</td>\n",
       "      <td>85.854236</td>\n",
       "      <td>14.846809</td>\n",
       "      <td>21.778621</td>\n",
       "      <td>5.217457</td>\n",
       "    </tr>\n",
       "    <tr>\n",
       "      <th>min</th>\n",
       "      <td>1.000000</td>\n",
       "      <td>0.700000</td>\n",
       "      <td>0.000000</td>\n",
       "      <td>0.300000</td>\n",
       "      <td>1.600000</td>\n",
       "    </tr>\n",
       "    <tr>\n",
       "      <th>25%</th>\n",
       "      <td>50.750000</td>\n",
       "      <td>74.375000</td>\n",
       "      <td>9.975000</td>\n",
       "      <td>12.750000</td>\n",
       "      <td>10.375000</td>\n",
       "    </tr>\n",
       "    <tr>\n",
       "      <th>50%</th>\n",
       "      <td>100.500000</td>\n",
       "      <td>149.750000</td>\n",
       "      <td>22.900000</td>\n",
       "      <td>25.750000</td>\n",
       "      <td>12.900000</td>\n",
       "    </tr>\n",
       "    <tr>\n",
       "      <th>75%</th>\n",
       "      <td>150.250000</td>\n",
       "      <td>218.825000</td>\n",
       "      <td>36.525000</td>\n",
       "      <td>45.100000</td>\n",
       "      <td>17.400000</td>\n",
       "    </tr>\n",
       "    <tr>\n",
       "      <th>max</th>\n",
       "      <td>200.000000</td>\n",
       "      <td>296.400000</td>\n",
       "      <td>49.600000</td>\n",
       "      <td>114.000000</td>\n",
       "      <td>27.000000</td>\n",
       "    </tr>\n",
       "  </tbody>\n",
       "</table>\n",
       "</div>"
      ],
      "text/plain": [
       "       Unnamed: 0          TV       radio   newspaper       sales\n",
       "count  200.000000  200.000000  200.000000  200.000000  200.000000\n",
       "mean   100.500000  147.042500   23.264000   30.554000   14.022500\n",
       "std     57.879185   85.854236   14.846809   21.778621    5.217457\n",
       "min      1.000000    0.700000    0.000000    0.300000    1.600000\n",
       "25%     50.750000   74.375000    9.975000   12.750000   10.375000\n",
       "50%    100.500000  149.750000   22.900000   25.750000   12.900000\n",
       "75%    150.250000  218.825000   36.525000   45.100000   17.400000\n",
       "max    200.000000  296.400000   49.600000  114.000000   27.000000"
      ]
     },
     "execution_count": 12,
     "metadata": {},
     "output_type": "execute_result"
    }
   ],
   "source": [
    "#Statistical summary of dataset\n",
    "df.describe()"
   ]
  },
  {
   "cell_type": "code",
   "execution_count": 10,
   "id": "d7f07c55",
   "metadata": {},
   "outputs": [
    {
     "data": {
      "text/plain": [
       "Index(['Unnamed: 0', 'TV', 'radio', 'newspaper', 'sales'], dtype='object')"
      ]
     },
     "execution_count": 10,
     "metadata": {},
     "output_type": "execute_result"
    }
   ],
   "source": [
    "df.columns"
   ]
  },
  {
   "cell_type": "code",
   "execution_count": 13,
   "id": "cd183319",
   "metadata": {},
   "outputs": [
    {
     "data": {
      "text/html": [
       "<div>\n",
       "<style scoped>\n",
       "    .dataframe tbody tr th:only-of-type {\n",
       "        vertical-align: middle;\n",
       "    }\n",
       "\n",
       "    .dataframe tbody tr th {\n",
       "        vertical-align: top;\n",
       "    }\n",
       "\n",
       "    .dataframe thead th {\n",
       "        text-align: right;\n",
       "    }\n",
       "</style>\n",
       "<table border=\"1\" class=\"dataframe\">\n",
       "  <thead>\n",
       "    <tr style=\"text-align: right;\">\n",
       "      <th></th>\n",
       "      <th>Unnamed: 0</th>\n",
       "      <th>TV</th>\n",
       "      <th>radio</th>\n",
       "      <th>newspaper</th>\n",
       "      <th>sales</th>\n",
       "    </tr>\n",
       "  </thead>\n",
       "  <tbody>\n",
       "    <tr>\n",
       "      <th>Unnamed: 0</th>\n",
       "      <td>1.000000</td>\n",
       "      <td>0.017715</td>\n",
       "      <td>-0.110680</td>\n",
       "      <td>-0.154944</td>\n",
       "      <td>-0.051616</td>\n",
       "    </tr>\n",
       "    <tr>\n",
       "      <th>TV</th>\n",
       "      <td>0.017715</td>\n",
       "      <td>1.000000</td>\n",
       "      <td>0.054809</td>\n",
       "      <td>0.056648</td>\n",
       "      <td>0.782224</td>\n",
       "    </tr>\n",
       "    <tr>\n",
       "      <th>radio</th>\n",
       "      <td>-0.110680</td>\n",
       "      <td>0.054809</td>\n",
       "      <td>1.000000</td>\n",
       "      <td>0.354104</td>\n",
       "      <td>0.576223</td>\n",
       "    </tr>\n",
       "    <tr>\n",
       "      <th>newspaper</th>\n",
       "      <td>-0.154944</td>\n",
       "      <td>0.056648</td>\n",
       "      <td>0.354104</td>\n",
       "      <td>1.000000</td>\n",
       "      <td>0.228299</td>\n",
       "    </tr>\n",
       "    <tr>\n",
       "      <th>sales</th>\n",
       "      <td>-0.051616</td>\n",
       "      <td>0.782224</td>\n",
       "      <td>0.576223</td>\n",
       "      <td>0.228299</td>\n",
       "      <td>1.000000</td>\n",
       "    </tr>\n",
       "  </tbody>\n",
       "</table>\n",
       "</div>"
      ],
      "text/plain": [
       "            Unnamed: 0        TV     radio  newspaper     sales\n",
       "Unnamed: 0    1.000000  0.017715 -0.110680  -0.154944 -0.051616\n",
       "TV            0.017715  1.000000  0.054809   0.056648  0.782224\n",
       "radio        -0.110680  0.054809  1.000000   0.354104  0.576223\n",
       "newspaper    -0.154944  0.056648  0.354104   1.000000  0.228299\n",
       "sales        -0.051616  0.782224  0.576223   0.228299  1.000000"
      ]
     },
     "execution_count": 13,
     "metadata": {},
     "output_type": "execute_result"
    }
   ],
   "source": [
    "#checking Correlation\n",
    "df.corr()"
   ]
  },
  {
   "cell_type": "code",
   "execution_count": 14,
   "id": "7e0ed9d6",
   "metadata": {},
   "outputs": [],
   "source": [
    "#Importing seaborn and matplotlib.pyplot for data Visuaisation\n",
    "import seaborn as sns\n",
    "import matplotlib.pyplot as plt"
   ]
  },
  {
   "cell_type": "code",
   "execution_count": 11,
   "id": "1d69758f",
   "metadata": {},
   "outputs": [
    {
     "data": {
      "text/plain": [
       "<AxesSubplot:>"
      ]
     },
     "execution_count": 11,
     "metadata": {},
     "output_type": "execute_result"
    },
    {
     "data": {
      "image/png": "[encoded data removed]",
      "text/plain": [
       "<Figure size 432x288 with 2 Axes>"
      ]
     },
     "metadata": {
      "needs_background": "light"
     },
     "output_type": "display_data"
    }
   ],
   "source": [
    "sns.heatmap(df.corr(),annot=True)"
   ]
  },
  {
   "cell_type": "code",
   "execution_count": 12,
   "id": "d913b1a4",
   "metadata": {},
   "outputs": [
    {
     "data": {
      "text/plain": [
       "<AxesSubplot:xlabel='sales', ylabel='Count'>"
      ]
     },
     "execution_count": 12,
     "metadata": {},
     "output_type": "execute_result"
    },
    {
     "data": {
      "image/png": "[encoded data removed]",
      "text/plain": [
       "<Figure size 432x288 with 1 Axes>"
      ]
     },
     "metadata": {
      "needs_background": "light"
     },
     "output_type": "display_data"
    }
   ],
   "source": [
    "sns.histplot(df['sales'])"
   ]
  },
  {
   "cell_type": "code",
   "execution_count": 13,
   "id": "eb99dc95",
   "metadata": {},
   "outputs": [
    {
     "data": {
      "text/plain": [
       "<AxesSubplot:xlabel='TV', ylabel='Count'>"
      ]
     },
     "execution_count": 13,
     "metadata": {},
     "output_type": "execute_result"
    },
    {
     "data": {
      "image/png": "[encoded data removed]",
      "text/plain": [
       "<Figure size 432x288 with 1 Axes>"
      ]
     },
     "metadata": {
      "needs_background": "light"
     },
     "output_type": "display_data"
    }
   ],
   "source": [
    "sns.histplot(df['TV'])"
   ]
  },
  {
   "cell_type": "code",
   "execution_count": 14,
   "id": "4909dd40",
   "metadata": {},
   "outputs": [
    {
     "data": {
      "text/plain": [
       "<AxesSubplot:xlabel='newspaper', ylabel='Count'>"
      ]
     },
     "execution_count": 14,
     "metadata": {},
     "output_type": "execute_result"
    },
    {
     "data": {
      "image/png": "[encoded data removed]",
      "text/plain": [
       "<Figure size 432x288 with 1 Axes>"
      ]
     },
     "metadata": {
      "needs_background": "light"
     },
     "output_type": "display_data"
    }
   ],
   "source": [
    "sns.histplot(df['newspaper'])"
   ]
  },
  {
   "cell_type": "code",
   "execution_count": 15,
   "id": "9463d406",
   "metadata": {},
   "outputs": [
    {
     "name": "stderr",
     "output_type": "stream",
     "text": [
      "C:\\Users\\DANISH GAZI\\anaconda3\\lib\\site-packages\\seaborn\\distributions.py:2619: FutureWarning: `distplot` is a deprecated function and will be removed in a future version. Please adapt your code to use either `displot` (a figure-level function with similar flexibility) or `histplot` (an axes-level function for histograms).\n",
      "  warnings.warn(msg, FutureWarning)\n"
     ]
    },
    {
     "data": {
      "text/plain": [
       "<AxesSubplot:xlabel='sales', ylabel='Density'>"
      ]
     },
     "execution_count": 15,
     "metadata": {},
     "output_type": "execute_result"
    },
    {
     "data": {
      "image/png": "[encoded data removed]",
      "text/plain": [
       "<Figure size 432x288 with 1 Axes>"
      ]
     },
     "metadata": {
      "needs_background": "light"
     },
     "output_type": "display_data"
    }
   ],
   "source": [
    "sns.distplot(df['sales'])"
   ]
  },
  {
   "cell_type": "code",
   "execution_count": 16,
   "id": "053fcb30",
   "metadata": {},
   "outputs": [
    {
     "name": "stderr",
     "output_type": "stream",
     "text": [
      "C:\\Users\\DANISH GAZI\\anaconda3\\lib\\site-packages\\seaborn\\distributions.py:2619: FutureWarning: `distplot` is a deprecated function and will be removed in a future version. Please adapt your code to use either `displot` (a figure-level function with similar flexibility) or `histplot` (an axes-level function for histograms).\n",
      "  warnings.warn(msg, FutureWarning)\n"
     ]
    },
    {
     "data": {
      "text/plain": [
       "<AxesSubplot:xlabel='TV', ylabel='Density'>"
      ]
     },
     "execution_count": 16,
     "metadata": {},
     "output_type": "execute_result"
    },
    {
     "data": {
      "image/png": "[encoded data removed]",
      "text/plain": [
       "<Figure size 432x288 with 1 Axes>"
      ]
     },
     "metadata": {
      "needs_background": "light"
     },
     "output_type": "display_data"
    }
   ],
   "source": [
    "sns.distplot(df['TV'])"
   ]
  },
  {
   "cell_type": "code",
   "execution_count": 17,
   "id": "1e3f9561",
   "metadata": {},
   "outputs": [
    {
     "name": "stderr",
     "output_type": "stream",
     "text": [
      "C:\\Users\\DANISH GAZI\\anaconda3\\lib\\site-packages\\seaborn\\distributions.py:2619: FutureWarning: `distplot` is a deprecated function and will be removed in a future version. Please adapt your code to use either `displot` (a figure-level function with similar flexibility) or `histplot` (an axes-level function for histograms).\n",
      "  warnings.warn(msg, FutureWarning)\n"
     ]
    },
    {
     "data": {
      "text/plain": [
       "<AxesSubplot:xlabel='newspaper', ylabel='Density'>"
      ]
     },
     "execution_count": 17,
     "metadata": {},
     "output_type": "execute_result"
    },
    {
     "data": {
      "image/png": "[encoded data removed]",
      "text/plain": [
       "<Figure size 432x288 with 1 Axes>"
      ]
     },
     "metadata": {
      "needs_background": "light"
     },
     "output_type": "display_data"
    }
   ],
   "source": [
    "sns.distplot(df['newspaper'])"
   ]
  },
  {
   "cell_type": "code",
   "execution_count": 15,
   "id": "a3032f96",
   "metadata": {},
   "outputs": [],
   "source": [
    "# Seperating features and target or label\n",
    "x=df.iloc[:,1:4]"
   ]
  },
  {
   "cell_type": "code",
   "execution_count": 16,
   "id": "2a941bd8",
   "metadata": {},
   "outputs": [],
   "source": [
    "y=df.iloc[:,-1]"
   ]
  },
  {
   "cell_type": "code",
   "execution_count": 20,
   "id": "9c7f9e04",
   "metadata": {},
   "outputs": [],
   "source": [
    "from scipy import stats\n",
    "from statsmodels.stats.outliers_influence import variance_inflation_factor"
   ]
  },
  {
   "cell_type": "code",
   "execution_count": 17,
   "id": "7199daad",
   "metadata": {},
   "outputs": [],
   "source": [
    "#Checking Multicoliniarity\n",
    "def cal_vif(x):\n",
    "    vif=pd.DataFrame()\n",
    "    vif['variables']=x.columns\n",
    "    vif['VIF']=[variance_inflation_factor(x.values,i) for i in range(x.shape[1])]\n",
    "    return(vif)"
   ]
  },
  {
   "cell_type": "code",
   "execution_count": 22,
   "id": "1cbf7c68",
   "metadata": {},
   "outputs": [
    {
     "data": {
      "text/html": [
       "<div>\n",
       "<style scoped>\n",
       "    .dataframe tbody tr th:only-of-type {\n",
       "        vertical-align: middle;\n",
       "    }\n",
       "\n",
       "    .dataframe tbody tr th {\n",
       "        vertical-align: top;\n",
       "    }\n",
       "\n",
       "    .dataframe thead th {\n",
       "        text-align: right;\n",
       "    }\n",
       "</style>\n",
       "<table border=\"1\" class=\"dataframe\">\n",
       "  <thead>\n",
       "    <tr style=\"text-align: right;\">\n",
       "      <th></th>\n",
       "      <th>variables</th>\n",
       "      <th>VIF</th>\n",
       "    </tr>\n",
       "  </thead>\n",
       "  <tbody>\n",
       "    <tr>\n",
       "      <th>0</th>\n",
       "      <td>TV</td>\n",
       "      <td>2.486772</td>\n",
       "    </tr>\n",
       "    <tr>\n",
       "      <th>1</th>\n",
       "      <td>radio</td>\n",
       "      <td>3.285462</td>\n",
       "    </tr>\n",
       "    <tr>\n",
       "      <th>2</th>\n",
       "      <td>newspaper</td>\n",
       "      <td>3.055245</td>\n",
       "    </tr>\n",
       "  </tbody>\n",
       "</table>\n",
       "</div>"
      ],
      "text/plain": [
       "   variables       VIF\n",
       "0         TV  2.486772\n",
       "1      radio  3.285462\n",
       "2  newspaper  3.055245"
      ]
     },
     "execution_count": 22,
     "metadata": {},
     "output_type": "execute_result"
    }
   ],
   "source": [
    "cal_vif(x)"
   ]
  },
  {
   "cell_type": "code",
   "execution_count": 18,
   "id": "8b02c123",
   "metadata": {},
   "outputs": [
    {
     "data": {
      "text/plain": [
       "Unnamed: 0    0.000000\n",
       "TV           -0.069853\n",
       "radio         0.094175\n",
       "newspaper     0.894720\n",
       "sales         0.407571\n",
       "dtype: float64"
      ]
     },
     "execution_count": 18,
     "metadata": {},
     "output_type": "execute_result"
    }
   ],
   "source": [
    "#Checking Skewness\n",
    "df.skew()"
   ]
  },
  {
   "cell_type": "code",
   "execution_count": 20,
   "id": "f2e3e6f2",
   "metadata": {},
   "outputs": [],
   "source": [
    "from sklearn.preprocessing import StandardScaler"
   ]
  },
  {
   "cell_type": "code",
   "execution_count": 21,
   "id": "bda098d6",
   "metadata": {},
   "outputs": [],
   "source": [
    "# Applying sacaling on x\n",
    "st=StandardScaler()\n",
    "x=st.fit_transform(x)"
   ]
  },
  {
   "cell_type": "code",
   "execution_count": 22,
   "id": "76d0596f",
   "metadata": {},
   "outputs": [],
   "source": [
    "x=pd.DataFrame(x)"
   ]
  },
  {
   "cell_type": "code",
   "execution_count": 24,
   "id": "5f98b5b5",
   "metadata": {},
   "outputs": [
    {
     "data": {
      "text/plain": [
       "<AxesSubplot:>"
      ]
     },
     "execution_count": 24,
     "metadata": {},
     "output_type": "execute_result"
    },
    {
     "data": {
      "image/png": "[encoded data removed]",
      "text/plain": [
       "<Figure size 432x288 with 1 Axes>"
      ]
     },
     "metadata": {
      "needs_background": "light"
     },
     "output_type": "display_data"
    }
   ],
   "source": [
    "# Checking outliers through visualization\n",
    "x.boxplot()"
   ]
  },
  {
   "cell_type": "code",
   "execution_count": 25,
   "id": "07457594",
   "metadata": {},
   "outputs": [],
   "source": [
    "# Removing outliers\n",
    "from scipy.stats import zscore"
   ]
  },
  {
   "cell_type": "code",
   "execution_count": 26,
   "id": "55ba21a8",
   "metadata": {},
   "outputs": [],
   "source": [
    "z=np.abs(zscore(x))"
   ]
  },
  {
   "cell_type": "code",
   "execution_count": 27,
   "id": "2b1f2dd7",
   "metadata": {},
   "outputs": [
    {
     "data": {
      "text/html": [
       "<div>\n",
       "<style scoped>\n",
       "    .dataframe tbody tr th:only-of-type {\n",
       "        vertical-align: middle;\n",
       "    }\n",
       "\n",
       "    .dataframe tbody tr th {\n",
       "        vertical-align: top;\n",
       "    }\n",
       "\n",
       "    .dataframe thead th {\n",
       "        text-align: right;\n",
       "    }\n",
       "</style>\n",
       "<table border=\"1\" class=\"dataframe\">\n",
       "  <thead>\n",
       "    <tr style=\"text-align: right;\">\n",
       "      <th></th>\n",
       "      <th>0</th>\n",
       "      <th>1</th>\n",
       "      <th>2</th>\n",
       "    </tr>\n",
       "  </thead>\n",
       "  <tbody>\n",
       "    <tr>\n",
       "      <th>0</th>\n",
       "      <td>0.969852</td>\n",
       "      <td>0.981522</td>\n",
       "      <td>1.778945</td>\n",
       "    </tr>\n",
       "    <tr>\n",
       "      <th>1</th>\n",
       "      <td>1.197376</td>\n",
       "      <td>1.082808</td>\n",
       "      <td>0.669579</td>\n",
       "    </tr>\n",
       "    <tr>\n",
       "      <th>2</th>\n",
       "      <td>1.516155</td>\n",
       "      <td>1.528463</td>\n",
       "      <td>1.783549</td>\n",
       "    </tr>\n",
       "    <tr>\n",
       "      <th>3</th>\n",
       "      <td>0.052050</td>\n",
       "      <td>1.217855</td>\n",
       "      <td>1.286405</td>\n",
       "    </tr>\n",
       "    <tr>\n",
       "      <th>4</th>\n",
       "      <td>0.394182</td>\n",
       "      <td>0.841614</td>\n",
       "      <td>1.281802</td>\n",
       "    </tr>\n",
       "    <tr>\n",
       "      <th>...</th>\n",
       "      <td>...</td>\n",
       "      <td>...</td>\n",
       "      <td>...</td>\n",
       "    </tr>\n",
       "    <tr>\n",
       "      <th>195</th>\n",
       "      <td>1.270941</td>\n",
       "      <td>1.321031</td>\n",
       "      <td>0.771217</td>\n",
       "    </tr>\n",
       "    <tr>\n",
       "      <th>196</th>\n",
       "      <td>0.617035</td>\n",
       "      <td>1.240003</td>\n",
       "      <td>1.033598</td>\n",
       "    </tr>\n",
       "    <tr>\n",
       "      <th>197</th>\n",
       "      <td>0.349810</td>\n",
       "      <td>0.942899</td>\n",
       "      <td>1.111852</td>\n",
       "    </tr>\n",
       "    <tr>\n",
       "      <th>198</th>\n",
       "      <td>1.594565</td>\n",
       "      <td>1.265121</td>\n",
       "      <td>1.640850</td>\n",
       "    </tr>\n",
       "    <tr>\n",
       "      <th>199</th>\n",
       "      <td>0.993206</td>\n",
       "      <td>0.990165</td>\n",
       "      <td>1.005979</td>\n",
       "    </tr>\n",
       "  </tbody>\n",
       "</table>\n",
       "<p>200 rows × 3 columns</p>\n",
       "</div>"
      ],
      "text/plain": [
       "            0         1         2\n",
       "0    0.969852  0.981522  1.778945\n",
       "1    1.197376  1.082808  0.669579\n",
       "2    1.516155  1.528463  1.783549\n",
       "3    0.052050  1.217855  1.286405\n",
       "4    0.394182  0.841614  1.281802\n",
       "..        ...       ...       ...\n",
       "195  1.270941  1.321031  0.771217\n",
       "196  0.617035  1.240003  1.033598\n",
       "197  0.349810  0.942899  1.111852\n",
       "198  1.594565  1.265121  1.640850\n",
       "199  0.993206  0.990165  1.005979\n",
       "\n",
       "[200 rows x 3 columns]"
      ]
     },
     "execution_count": 27,
     "metadata": {},
     "output_type": "execute_result"
    }
   ],
   "source": [
    "z"
   ]
  },
  {
   "cell_type": "code",
   "execution_count": 28,
   "id": "f79e82fc",
   "metadata": {},
   "outputs": [
    {
     "data": {
      "text/plain": [
       "(array([ 16, 101], dtype=int64), array([2, 2], dtype=int64))"
      ]
     },
     "execution_count": 28,
     "metadata": {},
     "output_type": "execute_result"
    }
   ],
   "source": [
    "np.where(z>3)"
   ]
  },
  {
   "cell_type": "code",
   "execution_count": 29,
   "id": "112682a0",
   "metadata": {},
   "outputs": [
    {
     "data": {
      "text/plain": [
       "array([22.1, 10.4,  9.3, 18.5, 12.9,  7.2, 11.8, 13.2,  4.8, 10.6,  8.6,\n",
       "       17.4,  9.2,  9.7, 19. , 22.4, 12.5, 24.4, 11.3, 14.6, 18. ,  5.6,\n",
       "       15.5, 12. , 15. , 15.9, 18.9, 10.5, 21.4, 11.9,  9.6,  9.5, 12.8,\n",
       "       25.4, 14.7, 10.1, 21.5, 16.6, 17.1, 20.7,  8.5, 14.9, 23.2, 14.8,\n",
       "       11.4, 10.7, 22.6, 21.2, 20.2, 23.7,  5.5, 23.8, 18.4,  8.1, 24.2,\n",
       "       15.7, 14. , 13.4, 22.3, 18.3, 12.4,  8.8, 11. , 17. ,  8.7,  6.9,\n",
       "       14.2,  5.3, 12.3, 13.6, 21.7, 15.2, 16. , 16.7, 11.2,  7.3, 19.4,\n",
       "       22.2, 11.5, 16.9, 11.7, 17.2, 19.2, 19.8, 21.8, 14.1, 12.6, 12.2,\n",
       "        9.4,  6.6,  7. , 11.6, 19.7, 24.7,  1.6, 12.7,  5.7, 19.6, 10.8,\n",
       "       20.8, 10.9, 20.1, 10.3, 16.1, 15.6,  3.2, 15.3, 14.4, 13.3,  8. ,\n",
       "        8.4, 14.5,  7.6, 27. , 26.2, 17.6, 17.3,  6.7,  9.9,  5.9, 25.5])"
      ]
     },
     "execution_count": 29,
     "metadata": {},
     "output_type": "execute_result"
    }
   ],
   "source": [
    "y.unique()"
   ]
  },
  {
   "cell_type": "code",
   "execution_count": 30,
   "id": "994d462c",
   "metadata": {},
   "outputs": [
    {
     "data": {
      "text/plain": [
       "(200, 3)"
      ]
     },
     "execution_count": 30,
     "metadata": {},
     "output_type": "execute_result"
    }
   ],
   "source": [
    "x.shape"
   ]
  },
  {
   "cell_type": "code",
   "execution_count": 31,
   "id": "8227c1e0",
   "metadata": {},
   "outputs": [
    {
     "data": {
      "text/plain": [
       "(200,)"
      ]
     },
     "execution_count": 31,
     "metadata": {},
     "output_type": "execute_result"
    }
   ],
   "source": [
    "y.shape"
   ]
  },
  {
   "cell_type": "code",
   "execution_count": 33,
   "id": "5e985d9e",
   "metadata": {},
   "outputs": [],
   "source": [
    "from sklearn.linear_model import LinearRegression\n",
    "from sklearn.metrics import r2_score,mean_squared_error\n",
    "from sklearn.model_selection import train_test_split"
   ]
  },
  {
   "cell_type": "code",
   "execution_count": 34,
   "id": "109dd7eb",
   "metadata": {},
   "outputs": [],
   "source": [
    "#Since we have continious data so using linear regression model first\n",
    "ln=LinearRegression()"
   ]
  },
  {
   "cell_type": "code",
   "execution_count": 35,
   "id": "59fa0d2c",
   "metadata": {},
   "outputs": [
    {
     "name": "stdout",
     "output_type": "stream",
     "text": [
      "The test accuracy is  86.49018906637791  for random state  0\n",
      "The train accuracy is  90.65727532450596  for random state  0\n",
      "\n",
      "\n",
      "The test accuracy is  92.24605706201436  for random state  1\n",
      "The train accuracy is  88.50053786777521  for random state  1\n",
      "\n",
      "\n",
      "The test accuracy is  80.41157295965823  for random state  2\n",
      "The train accuracy is  92.94705638285602  for random state  2\n",
      "\n",
      "\n",
      "The test accuracy is  87.60893953712909  for random state  3\n",
      "The train accuracy is  90.46393841056695  for random state  3\n",
      "\n",
      "\n",
      "The test accuracy is  91.27220729596172  for random state  4\n",
      "The train accuracy is  88.90066696510229  for random state  4\n",
      "\n",
      "\n",
      "The test accuracy is  88.68821951328665  for random state  5\n",
      "The train accuracy is  89.97682984995001  for random state  5\n",
      "\n",
      "\n",
      "The test accuracy is  85.98585513768164  for random state  6\n",
      "The train accuracy is  90.7242024188774  for random state  6\n",
      "\n",
      "\n",
      "The test accuracy is  88.94586465158204  for random state  7\n",
      "The train accuracy is  89.70470429900155  for random state  7\n",
      "\n",
      "\n",
      "The test accuracy is  88.54571881271272  for random state  8\n",
      "The train accuracy is  89.80041394874958  for random state  8\n",
      "\n",
      "\n",
      "The test accuracy is  90.3449500565662  for random state  9\n",
      "The train accuracy is  89.34006397815405  for random state  9\n",
      "\n",
      "\n",
      "The test accuracy is  85.67790678044408  for random state  10\n",
      "The train accuracy is  92.10357287534704  for random state  10\n",
      "\n",
      "\n",
      "The test accuracy is  87.71696073746851  for random state  11\n",
      "The train accuracy is  89.94522204964302  for random state  11\n",
      "\n",
      "\n",
      "The test accuracy is  91.37053125897675  for random state  12\n",
      "The train accuracy is  88.80874408450838  for random state  12\n",
      "\n",
      "\n",
      "The test accuracy is  93.3219070930032  for random state  13\n",
      "The train accuracy is  87.61514926449973  for random state  13\n",
      "\n",
      "\n",
      "The test accuracy is  87.57569848504643  for random state  14\n",
      "The train accuracy is  90.75934547335358  for random state  14\n",
      "\n",
      "\n",
      "The test accuracy is  90.98185997574568  for random state  15\n",
      "The train accuracy is  89.04979068579011  for random state  15\n",
      "\n",
      "\n",
      "The test accuracy is  89.22483569038693  for random state  16\n",
      "The train accuracy is  89.79627188426625  for random state  16\n",
      "\n",
      "\n",
      "The test accuracy is  83.75469513486384  for random state  17\n",
      "The train accuracy is  91.61945917164022  for random state  17\n",
      "\n",
      "\n",
      "The test accuracy is  87.55301322199422  for random state  18\n",
      "The train accuracy is  90.645875916383  for random state  18\n",
      "\n",
      "\n",
      "The test accuracy is  90.5158501814689  for random state  19\n",
      "The train accuracy is  89.09374742282805  for random state  19\n",
      "\n",
      "\n",
      "The test accuracy is  85.68542870042718  for random state  20\n",
      "The train accuracy is  91.49231325447825  for random state  20\n",
      "\n",
      "\n",
      "The test accuracy is  86.93216761737507  for random state  21\n",
      "The train accuracy is  90.84623128271936  for random state  21\n",
      "\n",
      "\n",
      "The test accuracy is  90.48887393988821  for random state  22\n",
      "The train accuracy is  89.1727475158365  for random state  22\n",
      "\n",
      "\n",
      "The test accuracy is  92.66842516167632  for random state  23\n",
      "The train accuracy is  87.49599919887683  for random state  23\n",
      "\n",
      "\n",
      "The test accuracy is  90.12086772570746  for random state  24\n",
      "The train accuracy is  89.53599618964893  for random state  24\n",
      "\n",
      "\n",
      "The test accuracy is  89.26677775783507  for random state  25\n",
      "The train accuracy is  89.81488993765005  for random state  25\n",
      "\n",
      "\n",
      "The test accuracy is  86.65637102148118  for random state  26\n",
      "The train accuracy is  90.37205908937179  for random state  26\n",
      "\n",
      "\n",
      "The test accuracy is  90.24544176509974  for random state  27\n",
      "The train accuracy is  89.44316129016188  for random state  27\n",
      "\n",
      "\n",
      "The test accuracy is  91.28123460719169  for random state  28\n",
      "The train accuracy is  88.81150203063797  for random state  28\n",
      "\n",
      "\n",
      "The test accuracy is  90.52581758950289  for random state  29\n",
      "The train accuracy is  88.88173253368554  for random state  29\n",
      "\n",
      "\n",
      "The test accuracy is  91.51734116027949  for random state  30\n",
      "The train accuracy is  88.23534471730328  for random state  30\n",
      "\n",
      "\n",
      "The test accuracy is  91.2729580728488  for random state  31\n",
      "The train accuracy is  88.73385517505767  for random state  31\n",
      "\n",
      "\n",
      "The test accuracy is  83.2047084948828  for random state  32\n",
      "The train accuracy is  91.6797376054058  for random state  32\n",
      "\n",
      "\n",
      "The test accuracy is  92.77795501438891  for random state  33\n",
      "The train accuracy is  87.95791836220444  for random state  33\n",
      "\n",
      "\n",
      "The test accuracy is  90.82261261765689  for random state  34\n",
      "The train accuracy is  88.89112033232959  for random state  34\n",
      "\n",
      "\n",
      "The test accuracy is  83.66208055158819  for random state  35\n",
      "The train accuracy is  91.47379269687755  for random state  35\n",
      "\n",
      "\n",
      "The test accuracy is  89.99894726669666  for random state  36\n",
      "The train accuracy is  89.45878297184994  for random state  36\n",
      "\n",
      "\n",
      "The test accuracy is  90.01597414347063  for random state  37\n",
      "The train accuracy is  89.52959571632499  for random state  37\n",
      "\n",
      "\n",
      "The test accuracy is  89.65126998177372  for random state  38\n",
      "The train accuracy is  89.66993194367406  for random state  38\n",
      "\n",
      "\n",
      "The test accuracy is  90.21887835495944  for random state  39\n",
      "The train accuracy is  89.34069326766587  for random state  39\n",
      "\n",
      "\n",
      "The test accuracy is  84.28365067609931  for random state  40\n",
      "The train accuracy is  91.7436179066588  for random state  40\n",
      "\n",
      "\n",
      "The test accuracy is  88.79002374422849  for random state  41\n",
      "The train accuracy is  89.94475215747492  for random state  41\n",
      "\n",
      "\n",
      "The test accuracy is  86.09466508230368  for random state  42\n",
      "The train accuracy is  90.55159502227752  for random state  42\n",
      "\n",
      "\n",
      "The test accuracy is  92.20854203535252  for random state  43\n",
      "The train accuracy is  88.44142326775768  for random state  43\n",
      "\n",
      "\n",
      "The test accuracy is  87.32216867861213  for random state  44\n",
      "The train accuracy is  90.33938636437996  for random state  44\n",
      "\n",
      "\n",
      "The test accuracy is  90.4190826557818  for random state  45\n",
      "The train accuracy is  88.96590670217262  for random state  45\n",
      "\n",
      "\n",
      "The test accuracy is  83.64996005112131  for random state  46\n",
      "The train accuracy is  90.57224483240805  for random state  46\n",
      "\n",
      "\n",
      "The test accuracy is  81.90698306457091  for random state  47\n",
      "The train accuracy is  92.0855896213578  for random state  47\n",
      "\n",
      "\n",
      "The test accuracy is  92.68671736178935  for random state  48\n",
      "The train accuracy is  88.3861258701807  for random state  48\n",
      "\n",
      "\n",
      "The test accuracy is  82.99673592332242  for random state  49\n",
      "The train accuracy is  91.83201862339953  for random state  49\n",
      "\n",
      "\n",
      "The test accuracy is  85.90575550977456  for random state  50\n",
      "The train accuracy is  90.28165267955438  for random state  50\n",
      "\n",
      "\n",
      "The test accuracy is  86.14791245277719  for random state  51\n",
      "The train accuracy is  90.83841658997555  for random state  51\n",
      "\n",
      "\n",
      "The test accuracy is  88.82779153207301  for random state  52\n",
      "The train accuracy is  90.11841529667618  for random state  52\n",
      "\n",
      "\n",
      "The test accuracy is  90.80413088174211  for random state  53\n",
      "The train accuracy is  89.05208100441702  for random state  53\n",
      "\n",
      "\n",
      "The test accuracy is  91.9194721712659  for random state  54\n",
      "The train accuracy is  88.60419304410506  for random state  54\n",
      "\n",
      "\n",
      "The test accuracy is  91.33870285542591  for random state  55\n",
      "The train accuracy is  88.90309390096989  for random state  55\n",
      "\n",
      "\n",
      "The test accuracy is  90.55711891498832  for random state  56\n",
      "The train accuracy is  89.18698541173364  for random state  56\n",
      "\n",
      "\n",
      "The test accuracy is  92.91186419843585  for random state  57\n",
      "The train accuracy is  88.32383020415206  for random state  57\n",
      "\n",
      "\n",
      "The test accuracy is  84.7589228347908  for random state  58\n",
      "The train accuracy is  92.0207906713582  for random state  58\n",
      "\n",
      "\n",
      "The test accuracy is  92.43833433664874  for random state  59\n",
      "The train accuracy is  88.39836259148618  for random state  59\n",
      "\n",
      "\n",
      "The test accuracy is  92.12516452529051  for random state  60\n",
      "The train accuracy is  88.14896009802298  for random state  60\n",
      "\n",
      "\n",
      "The test accuracy is  91.4837198298059  for random state  61\n",
      "The train accuracy is  89.07533060418636  for random state  61\n",
      "\n",
      "\n",
      "The test accuracy is  85.95840117802679  for random state  62\n",
      "The train accuracy is  91.28520592403807  for random state  62\n",
      "\n",
      "\n",
      "The test accuracy is  87.41799036058015  for random state  63\n",
      "The train accuracy is  90.04988160586834  for random state  63\n",
      "\n",
      "\n",
      "The test accuracy is  86.76807338735496  for random state  64\n",
      "The train accuracy is  90.74912721163314  for random state  64\n",
      "\n",
      "\n",
      "The test accuracy is  90.6542602311035  for random state  65\n",
      "The train accuracy is  89.18103785654972  for random state  65\n",
      "\n",
      "\n",
      "The test accuracy is  88.34350768489053  for random state  66\n",
      "The train accuracy is  90.27189269675974  for random state  66\n",
      "\n",
      "\n",
      "The test accuracy is  84.77194073613748  for random state  67\n",
      "The train accuracy is  91.46405538127507  for random state  67\n",
      "\n",
      "\n",
      "The test accuracy is  89.42303625531686  for random state  68\n",
      "The train accuracy is  89.32327136340211  for random state  68\n",
      "\n",
      "\n",
      "The test accuracy is  92.87709654995001  for random state  69\n",
      "The train accuracy is  87.97627622043854  for random state  69\n",
      "\n",
      "\n",
      "The test accuracy is  91.78300869023434  for random state  70\n",
      "The train accuracy is  88.05829698835106  for random state  70\n",
      "\n",
      "\n",
      "The test accuracy is  80.5309821152819  for random state  71\n",
      "The train accuracy is  92.5578821805984  for random state  71\n",
      "\n",
      "\n",
      "The test accuracy is  91.78388029278175  for random state  72\n",
      "The train accuracy is  88.66517600935032  for random state  72\n",
      "\n",
      "\n",
      "The test accuracy is  87.08396918566173  for random state  73\n",
      "The train accuracy is  90.74985718849533  for random state  73\n",
      "\n",
      "\n",
      "The test accuracy is  87.67360785770981  for random state  74\n",
      "The train accuracy is  90.25651343425857  for random state  74\n",
      "\n",
      "\n",
      "The test accuracy is  89.95238407931532  for random state  75\n",
      "The train accuracy is  89.39153787606575  for random state  75\n",
      "\n",
      "\n",
      "The test accuracy is  83.28068059454566  for random state  76\n",
      "The train accuracy is  90.95862570815542  for random state  76\n",
      "\n",
      "\n",
      "The test accuracy is  90.36075347224286  for random state  77\n",
      "The train accuracy is  89.36438250243569  for random state  77\n",
      "\n",
      "\n",
      "The test accuracy is  91.33192356867082  for random state  78\n",
      "The train accuracy is  89.05675207733049  for random state  78\n",
      "\n",
      "\n",
      "The test accuracy is  90.93204290680875  for random state  79\n",
      "The train accuracy is  88.72807899098082  for random state  79\n",
      "\n",
      "\n",
      "The test accuracy is  85.97650411813858  for random state  80\n",
      "The train accuracy is  91.0353050069951  for random state  80\n",
      "\n",
      "\n",
      "The test accuracy is  89.41343365705534  for random state  81\n",
      "The train accuracy is  89.7233692789416  for random state  81\n",
      "\n",
      "\n",
      "The test accuracy is  84.53806788757025  for random state  82\n",
      "The train accuracy is  91.49971165365426  for random state  82\n",
      "\n",
      "\n",
      "The test accuracy is  91.05909070849123  for random state  83\n",
      "The train accuracy is  88.7640945761802  for random state  83\n",
      "\n",
      "\n",
      "The test accuracy is  91.76881292904956  for random state  84\n",
      "The train accuracy is  88.6778568215124  for random state  84\n",
      "\n",
      "\n",
      "The test accuracy is  84.49030706769088  for random state  85\n",
      "The train accuracy is  91.37756553549168  for random state  85\n",
      "\n",
      "\n",
      "The test accuracy is  86.47479771853348  for random state  86\n",
      "The train accuracy is  91.17913096321944  for random state  86\n",
      "\n",
      "\n",
      "The test accuracy is  83.57013234311967  for random state  87\n",
      "The train accuracy is  91.37548846341475  for random state  87\n",
      "\n",
      "\n",
      "The test accuracy is  86.94850964426024  for random state  88\n",
      "The train accuracy is  90.64472079113338  for random state  88\n",
      "\n",
      "\n",
      "The test accuracy is  89.57719551392547  for random state  89\n",
      "The train accuracy is  89.46936591305355  for random state  89\n",
      "\n",
      "\n",
      "The test accuracy is  88.67870760148821  for random state  90\n",
      "The train accuracy is  89.78123399212417  for random state  90\n",
      "\n",
      "\n",
      "The test accuracy is  90.24947270891124  for random state  91\n",
      "The train accuracy is  88.688525209592  for random state  91\n",
      "\n",
      "\n",
      "The test accuracy is  90.34627675504751  for random state  92\n",
      "The train accuracy is  89.23837697265168  for random state  92\n",
      "\n",
      "\n",
      "The test accuracy is  89.44590890677715  for random state  93\n",
      "The train accuracy is  89.63036533470343  for random state  93\n",
      "\n",
      "\n",
      "The test accuracy is  89.39050383186229  for random state  94\n",
      "The train accuracy is  89.85038283078059  for random state  94\n",
      "\n",
      "\n",
      "The test accuracy is  90.26524606779117  for random state  95\n",
      "The train accuracy is  88.69632024282323  for random state  95\n",
      "\n",
      "\n",
      "The test accuracy is  88.05597077994877  for random state  96\n",
      "The train accuracy is  89.93515356221556  for random state  96\n",
      "\n",
      "\n",
      "The test accuracy is  89.74226123157008  for random state  97\n",
      "The train accuracy is  89.37193353234841  for random state  97\n",
      "\n",
      "\n",
      "The test accuracy is  92.06266245422205  for random state  98\n",
      "The train accuracy is  88.26959050475497  for random state  98\n",
      "\n",
      "\n",
      "The test accuracy is  91.97848691418976  for random state  99\n",
      "The train accuracy is  88.50092451204061  for random state  99\n",
      "\n",
      "\n"
     ]
    }
   ],
   "source": [
    "#Checking for the best random state\n",
    "for i in range(0,100):\n",
    "    x_train,x_test,y_train,y_test=train_test_split(x,y,test_size=0.3,random_state=i)\n",
    "    ln.fit(x_train,y_train)\n",
    "    train_pred=ln.predict(x_train)\n",
    "    y_pred=ln.predict(x_test)\n",
    "    print('The test accuracy is ',r2_score(y_test,y_pred)*100,' for random state ',i)\n",
    "    print('The train accuracy is ',r2_score(y_train,train_pred)*100,' for random state ',i)\n",
    "    print('\\n')"
   ]
  },
  {
   "cell_type": "code",
   "execution_count": 36,
   "id": "88fb362e",
   "metadata": {},
   "outputs": [],
   "source": [
    "# Since 13 is our best random state so proceding further with this random state\n",
    "x_train,x_test,y_train,y_test=train_test_split(x,y,test_size=0.3,random_state=13)\n",
    "ln.fit(x_train,y_train)\n",
    "train_pred=ln.predict(x_train)\n",
    "y_pred=ln.predict(x_test)\n",
    "test_accuracy=r2_score(y_test,y_pred)*100\n",
    "train_accuracy=r2_score(y_train,train_pred)*100"
   ]
  },
  {
   "cell_type": "code",
   "execution_count": 37,
   "id": "2a9488b8",
   "metadata": {},
   "outputs": [],
   "source": [
    "from sklearn.model_selection import cross_val_score"
   ]
  },
  {
   "cell_type": "code",
   "execution_count": 38,
   "id": "67337caf",
   "metadata": {
    "scrolled": true
   },
   "outputs": [
    {
     "name": "stdout",
     "output_type": "stream",
     "text": [
      "At cv value  2  we are grtting cross val score as  89.08473589845056  training accuracy as  87.61514926449973  and testing accuracy as  93.3219070930032\n",
      "\n",
      "\n",
      "At cv value  3  we are grtting cross val score as  89.16464591145558  training accuracy as  87.61514926449973  and testing accuracy as  93.3219070930032\n",
      "\n",
      "\n",
      "At cv value  4  we are grtting cross val score as  89.00070660549505  training accuracy as  87.61514926449973  and testing accuracy as  93.3219070930032\n",
      "\n",
      "\n",
      "At cv value  5  we are grtting cross val score as  88.71063495438435  training accuracy as  87.61514926449973  and testing accuracy as  93.3219070930032\n",
      "\n",
      "\n",
      "At cv value  6  we are grtting cross val score as  88.99208882186672  training accuracy as  87.61514926449973  and testing accuracy as  93.3219070930032\n",
      "\n",
      "\n",
      "At cv value  7  we are grtting cross val score as  88.59930219823539  training accuracy as  87.61514926449973  and testing accuracy as  93.3219070930032\n",
      "\n",
      "\n",
      "At cv value  8  we are grtting cross val score as  88.26686689919153  training accuracy as  87.61514926449973  and testing accuracy as  93.3219070930032\n",
      "\n",
      "\n",
      "At cv value  9  we are grtting cross val score as  88.22728227103586  training accuracy as  87.61514926449973  and testing accuracy as  93.3219070930032\n",
      "\n",
      "\n"
     ]
    }
   ],
   "source": [
    "#Checking best value of cv for cross validation\n",
    "for i in range(2,10):\n",
    "    cv_score=cross_val_score(ln,x,y,cv=i)\n",
    "    cv_mean=cv_score.mean()\n",
    "    print('At cv value ',i,' we are grtting cross val score as ',cv_mean*100,' training accuracy as ',train_accuracy,' and testing accuracy as ',test_accuracy)\n",
    "    print(\"\\n\")"
   ]
  },
  {
   "cell_type": "code",
   "execution_count": 40,
   "id": "cd5a1738",
   "metadata": {},
   "outputs": [
    {
     "name": "stdout",
     "output_type": "stream",
     "text": [
      "At cv value 3 we are grtting cross val score as  89.16464591145558  and training accuracy as  87.61514926449973  and testing accuracy as  93.3219070930032\n"
     ]
    }
   ],
   "source": [
    "# 3 is the best cv so proceding futher with it\n",
    "cv_score=cross_val_score(ln,x,y,cv=3)\n",
    "cv_mean=cv_score.mean()\n",
    "print('At cv value 3 we are grtting cross val score as ',cv_mean*100,' and training accuracy as ',train_accuracy,' and testing accuracy as ',test_accuracy)"
   ]
  },
  {
   "cell_type": "code",
   "execution_count": 41,
   "id": "8beaeb51",
   "metadata": {},
   "outputs": [],
   "source": [
    "from sklearn.linear_model import Lasso\n",
    "from sklearn.model_selection import GridSearchCV"
   ]
  },
  {
   "cell_type": "code",
   "execution_count": 42,
   "id": "2d4d5887",
   "metadata": {},
   "outputs": [
    {
     "name": "stdout",
     "output_type": "stream",
     "text": [
      "{'alpha': 0.1, 'random_state': 0}\n"
     ]
    }
   ],
   "source": [
    "# Applying Lasso regression along with its best parameters using GridsearchCV\n",
    "ls=Lasso()\n",
    "parameter={'alpha':[0.0001,0.001,0.01,0.1,1,10],'random_state':list(range(0,10))}\n",
    "gscv=GridSearchCV(ls,parameter)\n",
    "gscv.fit(x_train,y_train)\n",
    "print(gscv.best_params_)"
   ]
  },
  {
   "cell_type": "code",
   "execution_count": 43,
   "id": "6be54c5c",
   "metadata": {},
   "outputs": [
    {
     "name": "stdout",
     "output_type": "stream",
     "text": [
      "Accuracy score of lasso is  93.34971957533239\n"
     ]
    }
   ],
   "source": [
    "ls=Lasso(alpha=0.1,random_state=0)\n",
    "ls.fit(x_train,y_train)\n",
    "predy=ls.predict(x_test)\n",
    "lsacc=r2_score(y_test,predy)*100\n",
    "print('Accuracy score of lasso is ',r2_score(y_test,predy)*100)"
   ]
  },
  {
   "cell_type": "code",
   "execution_count": 44,
   "id": "deb19466",
   "metadata": {},
   "outputs": [
    {
     "name": "stdout",
     "output_type": "stream",
     "text": [
      "cross val score at  2  is  89.22626848420668  with Lasso accuracy  93.34971957533239\n",
      "cross val score at  3  is  89.20515650908781  with Lasso accuracy  93.34971957533239\n",
      "cross val score at  4  is  89.07019896473227  with Lasso accuracy  93.34971957533239\n",
      "cross val score at  5  is  88.85933789305031  with Lasso accuracy  93.34971957533239\n",
      "cross val score at  6  is  89.01571732351755  with Lasso accuracy  93.34971957533239\n",
      "cross val score at  7  is  88.6813710238167  with Lasso accuracy  93.34971957533239\n",
      "cross val score at  8  is  88.38480693745079  with Lasso accuracy  93.34971957533239\n",
      "cross val score at  9  is  88.32392451912233  with Lasso accuracy  93.34971957533239\n"
     ]
    }
   ],
   "source": [
    "#Cross validating score for Lasso\n",
    "for i in range(2,10):\n",
    "    cvl=cross_val_score(ls,x,y,cv=i)\n",
    "    cvl_mean=cvl.mean()\n",
    "    print('cross val score at ',i,' is ',cvl_mean*100,' with Lasso accuracy ',r2_score(y_test,predy)*100)"
   ]
  },
  {
   "cell_type": "code",
   "execution_count": 45,
   "id": "d030df6d",
   "metadata": {},
   "outputs": [
    {
     "name": "stdout",
     "output_type": "stream",
     "text": [
      "cross val score at 2 is  89.22626848420668  with Lasso accuracy  93.34971957533239\n"
     ]
    }
   ],
   "source": [
    "cvl=cross_val_score(ls,x,y,cv=2)\n",
    "cvl_mean=cvl.mean()\n",
    "print('cross val score at 2 is ',cvl_mean*100,' with Lasso accuracy ',r2_score(y_test,predy)*100)"
   ]
  },
  {
   "cell_type": "code",
   "execution_count": 48,
   "id": "471f6a88",
   "metadata": {},
   "outputs": [],
   "source": [
    "from sklearn.linear_model import Ridge"
   ]
  },
  {
   "cell_type": "code",
   "execution_count": 49,
   "id": "f7f7cf2d",
   "metadata": {},
   "outputs": [],
   "source": [
    "rg=Ridge()"
   ]
  },
  {
   "cell_type": "code",
   "execution_count": 50,
   "id": "a02b0135",
   "metadata": {},
   "outputs": [
    {
     "name": "stdout",
     "output_type": "stream",
     "text": [
      "{'alpha': 0.1, 'random_state': 0}\n"
     ]
    }
   ],
   "source": [
    "# Using Ridge regression model along with its best parameters using GridsearchCV\n",
    "parameter={'alpha':[0.0001,0.001,0.01,0.1,1,10],'random_state':list(range(0,10))}\n",
    "gsrg=GridSearchCV(rg,parameter)\n",
    "gsrg.fit(x_train,y_train)\n",
    "print(gsrg.best_params_)"
   ]
  },
  {
   "cell_type": "code",
   "execution_count": 51,
   "id": "97eca77e",
   "metadata": {},
   "outputs": [
    {
     "name": "stdout",
     "output_type": "stream",
     "text": [
      "Accuracy score of Ridge is  93.32568936185733\n"
     ]
    }
   ],
   "source": [
    "rg=Ridge(alpha=0.1,random_state=0)\n",
    "rg.fit(x_train,y_train)\n",
    "predyrg=rg.predict(x_test)\n",
    "rgacc=r2_score(y_test,predyrg)*100\n",
    "print('Accuracy score of Ridge is ',r2_score(y_test,predyrg)*100)"
   ]
  },
  {
   "cell_type": "code",
   "execution_count": 52,
   "id": "3c192adf",
   "metadata": {},
   "outputs": [
    {
     "name": "stdout",
     "output_type": "stream",
     "text": [
      "At cv  2  the cross val score is  89.08389746792544  with Ridge accuracy  93.32568936185733\n",
      "At cv  3  the cross val score is  89.1647824368505  with Ridge accuracy  93.32568936185733\n",
      "At cv  4  the cross val score is  89.00082226509949  with Ridge accuracy  93.32568936185733\n",
      "At cv  5  the cross val score is  88.71137602531853  with Ridge accuracy  93.32568936185733\n",
      "At cv  6  the cross val score is  88.99170425649535  with Ridge accuracy  93.32568936185733\n",
      "At cv  7  the cross val score is  88.59917566368026  with Ridge accuracy  93.32568936185733\n",
      "At cv  8  the cross val score is  88.26790260251931  with Ridge accuracy  93.32568936185733\n",
      "At cv  9  the cross val score is  88.22791012288559  with Ridge accuracy  93.32568936185733\n"
     ]
    }
   ],
   "source": [
    "# Cross validation for ridge with its best cv value\n",
    "for i in range(2,10):\n",
    "    cvrg=cross_val_score(rg,x,y,cv=i)\n",
    "    cvrg_mean=cvrg.mean()\n",
    "    print('At cv ',i,' the cross val score is ',cvrg_mean*100,' with Ridge accuracy ',r2_score(y_test,predyrg)*100)"
   ]
  },
  {
   "cell_type": "code",
   "execution_count": 53,
   "id": "340a80cb",
   "metadata": {},
   "outputs": [
    {
     "name": "stdout",
     "output_type": "stream",
     "text": [
      "At cv 3 the cross val score is  89.1647824368505  with Ridge accuracy  93.32568936185733\n"
     ]
    }
   ],
   "source": [
    "cvrg=cross_val_score(rg,x,y,cv=3)\n",
    "cvrg_mean=cvrg.mean()\n",
    "print('At cv 3 the cross val score is ',cvrg_mean*100,' with Ridge accuracy ',r2_score(y_test,predyrg)*100)"
   ]
  },
  {
   "cell_type": "code",
   "execution_count": 55,
   "id": "63915f3b",
   "metadata": {},
   "outputs": [],
   "source": [
    "from sklearn.linear_model import ElasticNet"
   ]
  },
  {
   "cell_type": "code",
   "execution_count": 56,
   "id": "ed76e20d",
   "metadata": {},
   "outputs": [],
   "source": [
    "en=ElasticNet()"
   ]
  },
  {
   "cell_type": "code",
   "execution_count": 57,
   "id": "654a898b",
   "metadata": {},
   "outputs": [
    {
     "name": "stdout",
     "output_type": "stream",
     "text": [
      "{'alpha': 0.01, 'random_state': 0}\n"
     ]
    }
   ],
   "source": [
    "#Applying model elasticnet and finding best parameters using GridSearchCV\n",
    "parameter={'alpha':[0.0001,0.001,0.01,0.1,1,10],'random_state':list(range(0,10))}\n",
    "gsen=GridSearchCV(en,parameter)\n",
    "gsen.fit(x_train,y_train)\n",
    "print(gsen.best_params_)"
   ]
  },
  {
   "cell_type": "code",
   "execution_count": 58,
   "id": "3cadcdb7",
   "metadata": {},
   "outputs": [
    {
     "name": "stdout",
     "output_type": "stream",
     "text": [
      "Accuracy score of Elastic Net is  93.35121509781621\n"
     ]
    }
   ],
   "source": [
    "en=ElasticNet(alpha=0.01,random_state=0)\n",
    "en.fit(x_train,y_train)\n",
    "predyen=en.predict(x_test)\n",
    "enacc=r2_score(y_test,predyen)\n",
    "print('Accuracy score of Elastic Net is ',r2_score(y_test,predyen)*100)"
   ]
  },
  {
   "cell_type": "code",
   "execution_count": 59,
   "id": "46ac5255",
   "metadata": {},
   "outputs": [
    {
     "name": "stdout",
     "output_type": "stream",
     "text": [
      "At cv  2  Cross Val Score is  89.09143649697889  with ELastic Net accuracy  93.35121509781621\n",
      "At cv  3  Cross Val Score is  89.17189935365548  with ELastic Net accuracy  93.35121509781621\n",
      "At cv  4  Cross Val Score is  89.00730386702637  with ELastic Net accuracy  93.35121509781621\n",
      "At cv  5  Cross Val Score is  88.72672337108588  with ELastic Net accuracy  93.35121509781621\n",
      "At cv  6  Cross Val Score is  88.99610388145469  with ELastic Net accuracy  93.35121509781621\n",
      "At cv  7  Cross Val Score is  88.60786544858819  with ELastic Net accuracy  93.35121509781621\n",
      "At cv  8  Cross Val Score is  88.28588653630284  with ELastic Net accuracy  93.35121509781621\n",
      "At cv  9  Cross Val Score is  88.2452552947944  with ELastic Net accuracy  93.35121509781621\n"
     ]
    }
   ],
   "source": [
    "# Finding best cv for cross validation of elastic net\n",
    "for i in range(2,10):\n",
    "    cven=cross_val_score(en,x,y,cv=i)\n",
    "    cven_mean=cven.mean()\n",
    "    print('At cv ',i,' Cross Val Score is ',cven_mean*100,' with ELastic Net accuracy ',enacc*100)"
   ]
  },
  {
   "cell_type": "code",
   "execution_count": 60,
   "id": "4c2d8b2c",
   "metadata": {},
   "outputs": [
    {
     "name": "stdout",
     "output_type": "stream",
     "text": [
      "At cv 3 Cross Val Score is  89.17189935365548  with ELastic Net accuracy  93.35121509781621\n"
     ]
    }
   ],
   "source": [
    "cven=cross_val_score(en,x,y,cv=3)\n",
    "cven_mean=cven.mean()\n",
    "print('At cv 3 Cross Val Score is ',cven_mean*100,' with ELastic Net accuracy ',enacc*100)"
   ]
  },
  {
   "cell_type": "code",
   "execution_count": 62,
   "id": "fab5aacf",
   "metadata": {},
   "outputs": [],
   "source": [
    "from sklearn.ensemble import RandomForestRegressor"
   ]
  },
  {
   "cell_type": "code",
   "execution_count": 63,
   "id": "cbe2b853",
   "metadata": {},
   "outputs": [],
   "source": [
    "rf=RandomForestRegressor()"
   ]
  },
  {
   "cell_type": "code",
   "execution_count": 66,
   "id": "45a199de",
   "metadata": {},
   "outputs": [
    {
     "name": "stdout",
     "output_type": "stream",
     "text": [
      "{'criterion': 'absolute_error', 'max_features': 'auto'}\n"
     ]
    }
   ],
   "source": [
    "# Applying Random Forest Regressor with its best parameters using Grid Search CV\n",
    "parameter={'criterion':['squared_error','absolute_error','poisson'],'max_features':['auto','sqrt','log2']}\n",
    "gsrf=GridSearchCV(rf,parameter)\n",
    "gsrf.fit(x_train,y_train)\n",
    "print(gsrf.best_params_)"
   ]
  },
  {
   "cell_type": "code",
   "execution_count": 67,
   "id": "c07cbc0d",
   "metadata": {},
   "outputs": [
    {
     "name": "stdout",
     "output_type": "stream",
     "text": [
      "Accurracy score of random forest regressor is  97.97115799654823\n"
     ]
    }
   ],
   "source": [
    "# Checking Accuracy of Random Forest Regressor\n",
    "rf=RandomForestRegressor(criterion='absolute_error',max_features='auto')\n",
    "rf.fit(x_train,y_train)\n",
    "predyrf=rf.predict(x_test)\n",
    "rfacc=r2_score(y_test,predyrf)\n",
    "print('Accurracy score of random forest regressor is ',rfacc*100)"
   ]
  },
  {
   "cell_type": "code",
   "execution_count": 76,
   "id": "cbcfd1de",
   "metadata": {},
   "outputs": [
    {
     "name": "stdout",
     "output_type": "stream",
     "text": [
      "At cv  2  Cross Val Score is  97.18869850437197  with RandomForestRegressor having accuracy  97.97052929802189\n",
      "At cv  3  Cross Val Score is  97.59327369461886  with RandomForestRegressor having accuracy  97.97052929802189\n",
      "At cv  4  Cross Val Score is  97.72690860895207  with RandomForestRegressor having accuracy  97.97052929802189\n",
      "At cv  5  Cross Val Score is  97.56750808261555  with RandomForestRegressor having accuracy  97.97052929802189\n",
      "At cv  6  Cross Val Score is  97.89028926834185  with RandomForestRegressor having accuracy  97.97052929802189\n",
      "At cv  7  Cross Val Score is  97.77076850805206  with RandomForestRegressor having accuracy  97.97052929802189\n",
      "At cv  8  Cross Val Score is  97.77226057653141  with RandomForestRegressor having accuracy  97.97052929802189\n",
      "At cv  9  Cross Val Score is  97.80626328415585  with RandomForestRegressor having accuracy  97.97052929802189\n"
     ]
    }
   ],
   "source": [
    "for i in range(2,10):\n",
    "    cvrf=cross_val_score(rf,x,y,cv=i)\n",
    "    cvrf_mean=cvrf.mean()\n",
    "    print('At cv ',i,' Cross Val Score is ',cvrf_mean*100,' with RandomForestRegressor having accuracy ',rfacc*100)"
   ]
  },
  {
   "cell_type": "code",
   "execution_count": 68,
   "id": "6a0660a7",
   "metadata": {},
   "outputs": [
    {
     "name": "stdout",
     "output_type": "stream",
     "text": [
      "At cv 6 Cross Val Score is  97.90653824429381  with RandomForestRegressor having accuracy  97.97115799654823\n"
     ]
    }
   ],
   "source": [
    "# Applying best cv value for cross validation of randomforestregressor\n",
    "cvrf=cross_val_score(rf,x,y,cv=6)\n",
    "cvrf_mean=cvrf.mean()\n",
    "print('At cv 6 Cross Val Score is ',cvrf_mean*100,' with RandomForestRegressor having accuracy ',rfacc*100)"
   ]
  },
  {
   "cell_type": "code",
   "execution_count": 70,
   "id": "4ab0f9d2",
   "metadata": {},
   "outputs": [],
   "source": [
    "from sklearn.ensemble import AdaBoostRegressor"
   ]
  },
  {
   "cell_type": "code",
   "execution_count": 71,
   "id": "d1b23aad",
   "metadata": {},
   "outputs": [],
   "source": [
    "abr=AdaBoostRegressor()"
   ]
  },
  {
   "cell_type": "code",
   "execution_count": 72,
   "id": "4d89726f",
   "metadata": {},
   "outputs": [
    {
     "name": "stdout",
     "output_type": "stream",
     "text": [
      "{'loss': 'square'}\n"
     ]
    }
   ],
   "source": [
    "#Applying AdaBoost regresor with its best parameters using grid search cv\n",
    "parameter={'loss':['linear','square','exponential']}\n",
    "gscvabr=GridSearchCV(abr,parameter)\n",
    "gscvabr.fit(x_train,y_train)\n",
    "print(gscvabr.best_params_)"
   ]
  },
  {
   "cell_type": "code",
   "execution_count": 73,
   "id": "5aa4238d",
   "metadata": {},
   "outputs": [
    {
     "name": "stdout",
     "output_type": "stream",
     "text": [
      "Accuracy of AdaBoostRegressor is  95.46762637251771\n"
     ]
    }
   ],
   "source": [
    "abr=AdaBoostRegressor(loss='square')\n",
    "abr.fit(x_train,y_train)\n",
    "predyabr=abr.predict(x_test)\n",
    "abracc=r2_score(y_test,predyabr)\n",
    "print(\"Accuracy of AdaBoostRegressor is \",abracc*100)"
   ]
  },
  {
   "cell_type": "code",
   "execution_count": 74,
   "id": "58d5adc1",
   "metadata": {},
   "outputs": [
    {
     "name": "stdout",
     "output_type": "stream",
     "text": [
      "At cv  2  cross val score is  89.16464591145558  with Adaboostregressor accuracy  95.46762637251771\n",
      "At cv  3  cross val score is  89.16464591145558  with Adaboostregressor accuracy  95.46762637251771\n",
      "At cv  4  cross val score is  89.16464591145558  with Adaboostregressor accuracy  95.46762637251771\n",
      "At cv  5  cross val score is  89.16464591145558  with Adaboostregressor accuracy  95.46762637251771\n",
      "At cv  6  cross val score is  89.16464591145558  with Adaboostregressor accuracy  95.46762637251771\n",
      "At cv  7  cross val score is  89.16464591145558  with Adaboostregressor accuracy  95.46762637251771\n",
      "At cv  8  cross val score is  89.16464591145558  with Adaboostregressor accuracy  95.46762637251771\n",
      "At cv  9  cross val score is  89.16464591145558  with Adaboostregressor accuracy  95.46762637251771\n"
     ]
    }
   ],
   "source": [
    "for i in range(2,10):\n",
    "    cvabr=cross_val_score(abr,x,y,cv=i)\n",
    "    cvabr_mean=cvabr.mean()\n",
    "    print('At cv ',i,' cross val score is ',cv_mean*100,' with Adaboostregressor accuracy ',abracc*100)"
   ]
  },
  {
   "cell_type": "code",
   "execution_count": 75,
   "id": "9aa21d9e",
   "metadata": {},
   "outputs": [
    {
     "name": "stdout",
     "output_type": "stream",
     "text": [
      "At cv 6 cross val score is  89.16464591145558  with Adaboostregressor accuracy  95.46762637251771\n"
     ]
    }
   ],
   "source": [
    "# checking its best cv and cross validating adaboost regressor\n",
    "cvabr=cross_val_score(abr,x,y,cv=6)\n",
    "cvabr_mean=cvabr.mean()\n",
    "print('At cv 6 cross val score is ',cv_mean*100,' with Adaboostregressor accuracy ',abracc*100)"
   ]
  },
  {
   "cell_type": "markdown",
   "id": "1d74549b",
   "metadata": {},
   "source": [
    "Since, Random Forest Regressor comes out as our best model performing so saving it using pickle library "
   ]
  },
  {
   "cell_type": "code",
   "execution_count": 90,
   "id": "cfb43f60",
   "metadata": {},
   "outputs": [],
   "source": [
    "import pickle\n",
    "filename='sale.pkl'\n",
    "pickle.dump(rf,open(filename,'wb'))"
   ]
  },
  {
   "cell_type": "code",
   "execution_count": 92,
   "id": "8cdc3df4",
   "metadata": {},
   "outputs": [
    {
     "name": "stdout",
     "output_type": "stream",
     "text": [
      "97.97052929802189\n"
     ]
    }
   ],
   "source": [
    "sales=pickle.load(open('sale.pkl','rb'))\n",
    "result=sales.score(x_test,y_test)\n",
    "print(result*100)"
   ]
  },
  {
   "cell_type": "code",
   "execution_count": 94,
   "id": "94a2f343",
   "metadata": {},
   "outputs": [
    {
     "data": {
      "text/html": [
       "<div>\n",
       "<style scoped>\n",
       "    .dataframe tbody tr th:only-of-type {\n",
       "        vertical-align: middle;\n",
       "    }\n",
       "\n",
       "    .dataframe tbody tr th {\n",
       "        vertical-align: top;\n",
       "    }\n",
       "\n",
       "    .dataframe thead th {\n",
       "        text-align: right;\n",
       "    }\n",
       "</style>\n",
       "<table border=\"1\" class=\"dataframe\">\n",
       "  <thead>\n",
       "    <tr style=\"text-align: right;\">\n",
       "      <th></th>\n",
       "      <th>original</th>\n",
       "      <th>predicted</th>\n",
       "    </tr>\n",
       "  </thead>\n",
       "  <tbody>\n",
       "    <tr>\n",
       "      <th>0</th>\n",
       "      <td>12.9640</td>\n",
       "      <td>12.9640</td>\n",
       "    </tr>\n",
       "    <tr>\n",
       "      <th>1</th>\n",
       "      <td>4.5850</td>\n",
       "      <td>4.5850</td>\n",
       "    </tr>\n",
       "    <tr>\n",
       "      <th>2</th>\n",
       "      <td>15.4880</td>\n",
       "      <td>15.4880</td>\n",
       "    </tr>\n",
       "    <tr>\n",
       "      <th>3</th>\n",
       "      <td>12.9900</td>\n",
       "      <td>12.9900</td>\n",
       "    </tr>\n",
       "    <tr>\n",
       "      <th>4</th>\n",
       "      <td>11.9120</td>\n",
       "      <td>11.9120</td>\n",
       "    </tr>\n",
       "    <tr>\n",
       "      <th>5</th>\n",
       "      <td>24.8050</td>\n",
       "      <td>24.8050</td>\n",
       "    </tr>\n",
       "    <tr>\n",
       "      <th>6</th>\n",
       "      <td>19.8370</td>\n",
       "      <td>19.8370</td>\n",
       "    </tr>\n",
       "    <tr>\n",
       "      <th>7</th>\n",
       "      <td>12.6900</td>\n",
       "      <td>12.6900</td>\n",
       "    </tr>\n",
       "    <tr>\n",
       "      <th>8</th>\n",
       "      <td>23.1660</td>\n",
       "      <td>23.1660</td>\n",
       "    </tr>\n",
       "    <tr>\n",
       "      <th>9</th>\n",
       "      <td>15.1920</td>\n",
       "      <td>15.1920</td>\n",
       "    </tr>\n",
       "    <tr>\n",
       "      <th>10</th>\n",
       "      <td>17.7595</td>\n",
       "      <td>17.7595</td>\n",
       "    </tr>\n",
       "    <tr>\n",
       "      <th>11</th>\n",
       "      <td>7.3120</td>\n",
       "      <td>7.3120</td>\n",
       "    </tr>\n",
       "    <tr>\n",
       "      <th>12</th>\n",
       "      <td>9.9480</td>\n",
       "      <td>9.9480</td>\n",
       "    </tr>\n",
       "    <tr>\n",
       "      <th>13</th>\n",
       "      <td>16.2170</td>\n",
       "      <td>16.2170</td>\n",
       "    </tr>\n",
       "    <tr>\n",
       "      <th>14</th>\n",
       "      <td>13.9150</td>\n",
       "      <td>13.9150</td>\n",
       "    </tr>\n",
       "    <tr>\n",
       "      <th>15</th>\n",
       "      <td>15.0080</td>\n",
       "      <td>15.0080</td>\n",
       "    </tr>\n",
       "    <tr>\n",
       "      <th>16</th>\n",
       "      <td>5.3970</td>\n",
       "      <td>5.3970</td>\n",
       "    </tr>\n",
       "    <tr>\n",
       "      <th>17</th>\n",
       "      <td>11.0620</td>\n",
       "      <td>11.0620</td>\n",
       "    </tr>\n",
       "    <tr>\n",
       "      <th>18</th>\n",
       "      <td>19.9820</td>\n",
       "      <td>19.9820</td>\n",
       "    </tr>\n",
       "    <tr>\n",
       "      <th>19</th>\n",
       "      <td>18.2170</td>\n",
       "      <td>18.2170</td>\n",
       "    </tr>\n",
       "    <tr>\n",
       "      <th>20</th>\n",
       "      <td>12.3300</td>\n",
       "      <td>12.3300</td>\n",
       "    </tr>\n",
       "    <tr>\n",
       "      <th>21</th>\n",
       "      <td>9.8780</td>\n",
       "      <td>9.8780</td>\n",
       "    </tr>\n",
       "    <tr>\n",
       "      <th>22</th>\n",
       "      <td>20.0770</td>\n",
       "      <td>20.0770</td>\n",
       "    </tr>\n",
       "    <tr>\n",
       "      <th>23</th>\n",
       "      <td>12.8260</td>\n",
       "      <td>12.8260</td>\n",
       "    </tr>\n",
       "    <tr>\n",
       "      <th>24</th>\n",
       "      <td>16.9210</td>\n",
       "      <td>16.9210</td>\n",
       "    </tr>\n",
       "    <tr>\n",
       "      <th>25</th>\n",
       "      <td>19.9760</td>\n",
       "      <td>19.9760</td>\n",
       "    </tr>\n",
       "    <tr>\n",
       "      <th>26</th>\n",
       "      <td>10.6460</td>\n",
       "      <td>10.6460</td>\n",
       "    </tr>\n",
       "    <tr>\n",
       "      <th>27</th>\n",
       "      <td>11.7830</td>\n",
       "      <td>11.7830</td>\n",
       "    </tr>\n",
       "    <tr>\n",
       "      <th>28</th>\n",
       "      <td>21.7260</td>\n",
       "      <td>21.7260</td>\n",
       "    </tr>\n",
       "    <tr>\n",
       "      <th>29</th>\n",
       "      <td>5.6510</td>\n",
       "      <td>5.6510</td>\n",
       "    </tr>\n",
       "    <tr>\n",
       "      <th>30</th>\n",
       "      <td>14.3775</td>\n",
       "      <td>14.3775</td>\n",
       "    </tr>\n",
       "    <tr>\n",
       "      <th>31</th>\n",
       "      <td>18.3895</td>\n",
       "      <td>18.3895</td>\n",
       "    </tr>\n",
       "    <tr>\n",
       "      <th>32</th>\n",
       "      <td>17.5220</td>\n",
       "      <td>17.5220</td>\n",
       "    </tr>\n",
       "    <tr>\n",
       "      <th>33</th>\n",
       "      <td>9.2500</td>\n",
       "      <td>9.2500</td>\n",
       "    </tr>\n",
       "    <tr>\n",
       "      <th>34</th>\n",
       "      <td>17.0680</td>\n",
       "      <td>17.0680</td>\n",
       "    </tr>\n",
       "    <tr>\n",
       "      <th>35</th>\n",
       "      <td>10.2610</td>\n",
       "      <td>10.2610</td>\n",
       "    </tr>\n",
       "    <tr>\n",
       "      <th>36</th>\n",
       "      <td>11.1730</td>\n",
       "      <td>11.1730</td>\n",
       "    </tr>\n",
       "    <tr>\n",
       "      <th>37</th>\n",
       "      <td>23.1600</td>\n",
       "      <td>23.1600</td>\n",
       "    </tr>\n",
       "    <tr>\n",
       "      <th>38</th>\n",
       "      <td>8.5340</td>\n",
       "      <td>8.5340</td>\n",
       "    </tr>\n",
       "    <tr>\n",
       "      <th>39</th>\n",
       "      <td>12.1850</td>\n",
       "      <td>12.1850</td>\n",
       "    </tr>\n",
       "    <tr>\n",
       "      <th>40</th>\n",
       "      <td>10.3560</td>\n",
       "      <td>10.3560</td>\n",
       "    </tr>\n",
       "    <tr>\n",
       "      <th>41</th>\n",
       "      <td>19.2250</td>\n",
       "      <td>19.2250</td>\n",
       "    </tr>\n",
       "    <tr>\n",
       "      <th>42</th>\n",
       "      <td>22.3290</td>\n",
       "      <td>22.3290</td>\n",
       "    </tr>\n",
       "    <tr>\n",
       "      <th>43</th>\n",
       "      <td>6.1780</td>\n",
       "      <td>6.1780</td>\n",
       "    </tr>\n",
       "    <tr>\n",
       "      <th>44</th>\n",
       "      <td>11.6490</td>\n",
       "      <td>11.6490</td>\n",
       "    </tr>\n",
       "    <tr>\n",
       "      <th>45</th>\n",
       "      <td>22.1270</td>\n",
       "      <td>22.1270</td>\n",
       "    </tr>\n",
       "    <tr>\n",
       "      <th>46</th>\n",
       "      <td>19.0800</td>\n",
       "      <td>19.0800</td>\n",
       "    </tr>\n",
       "    <tr>\n",
       "      <th>47</th>\n",
       "      <td>11.6670</td>\n",
       "      <td>11.6670</td>\n",
       "    </tr>\n",
       "    <tr>\n",
       "      <th>48</th>\n",
       "      <td>8.3930</td>\n",
       "      <td>8.3930</td>\n",
       "    </tr>\n",
       "    <tr>\n",
       "      <th>49</th>\n",
       "      <td>21.0030</td>\n",
       "      <td>21.0030</td>\n",
       "    </tr>\n",
       "    <tr>\n",
       "      <th>50</th>\n",
       "      <td>20.6310</td>\n",
       "      <td>20.6310</td>\n",
       "    </tr>\n",
       "    <tr>\n",
       "      <th>51</th>\n",
       "      <td>10.6470</td>\n",
       "      <td>10.6470</td>\n",
       "    </tr>\n",
       "    <tr>\n",
       "      <th>52</th>\n",
       "      <td>10.8340</td>\n",
       "      <td>10.8340</td>\n",
       "    </tr>\n",
       "    <tr>\n",
       "      <th>53</th>\n",
       "      <td>12.2280</td>\n",
       "      <td>12.2280</td>\n",
       "    </tr>\n",
       "    <tr>\n",
       "      <th>54</th>\n",
       "      <td>9.6470</td>\n",
       "      <td>9.6470</td>\n",
       "    </tr>\n",
       "    <tr>\n",
       "      <th>55</th>\n",
       "      <td>15.6400</td>\n",
       "      <td>15.6400</td>\n",
       "    </tr>\n",
       "    <tr>\n",
       "      <th>56</th>\n",
       "      <td>23.1880</td>\n",
       "      <td>23.1880</td>\n",
       "    </tr>\n",
       "    <tr>\n",
       "      <th>57</th>\n",
       "      <td>7.4590</td>\n",
       "      <td>7.4590</td>\n",
       "    </tr>\n",
       "    <tr>\n",
       "      <th>58</th>\n",
       "      <td>6.9580</td>\n",
       "      <td>6.9580</td>\n",
       "    </tr>\n",
       "    <tr>\n",
       "      <th>59</th>\n",
       "      <td>10.1210</td>\n",
       "      <td>10.1210</td>\n",
       "    </tr>\n",
       "  </tbody>\n",
       "</table>\n",
       "</div>"
      ],
      "text/plain": [
       "    original  predicted\n",
       "0    12.9640    12.9640\n",
       "1     4.5850     4.5850\n",
       "2    15.4880    15.4880\n",
       "3    12.9900    12.9900\n",
       "4    11.9120    11.9120\n",
       "5    24.8050    24.8050\n",
       "6    19.8370    19.8370\n",
       "7    12.6900    12.6900\n",
       "8    23.1660    23.1660\n",
       "9    15.1920    15.1920\n",
       "10   17.7595    17.7595\n",
       "11    7.3120     7.3120\n",
       "12    9.9480     9.9480\n",
       "13   16.2170    16.2170\n",
       "14   13.9150    13.9150\n",
       "15   15.0080    15.0080\n",
       "16    5.3970     5.3970\n",
       "17   11.0620    11.0620\n",
       "18   19.9820    19.9820\n",
       "19   18.2170    18.2170\n",
       "20   12.3300    12.3300\n",
       "21    9.8780     9.8780\n",
       "22   20.0770    20.0770\n",
       "23   12.8260    12.8260\n",
       "24   16.9210    16.9210\n",
       "25   19.9760    19.9760\n",
       "26   10.6460    10.6460\n",
       "27   11.7830    11.7830\n",
       "28   21.7260    21.7260\n",
       "29    5.6510     5.6510\n",
       "30   14.3775    14.3775\n",
       "31   18.3895    18.3895\n",
       "32   17.5220    17.5220\n",
       "33    9.2500     9.2500\n",
       "34   17.0680    17.0680\n",
       "35   10.2610    10.2610\n",
       "36   11.1730    11.1730\n",
       "37   23.1600    23.1600\n",
       "38    8.5340     8.5340\n",
       "39   12.1850    12.1850\n",
       "40   10.3560    10.3560\n",
       "41   19.2250    19.2250\n",
       "42   22.3290    22.3290\n",
       "43    6.1780     6.1780\n",
       "44   11.6490    11.6490\n",
       "45   22.1270    22.1270\n",
       "46   19.0800    19.0800\n",
       "47   11.6670    11.6670\n",
       "48    8.3930     8.3930\n",
       "49   21.0030    21.0030\n",
       "50   20.6310    20.6310\n",
       "51   10.6470    10.6470\n",
       "52   10.8340    10.8340\n",
       "53   12.2280    12.2280\n",
       "54    9.6470     9.6470\n",
       "55   15.6400    15.6400\n",
       "56   23.1880    23.1880\n",
       "57    7.4590     7.4590\n",
       "58    6.9580     6.9580\n",
       "59   10.1210    10.1210"
      ]
     },
     "execution_count": 94,
     "metadata": {},
     "output_type": "execute_result"
    }
   ],
   "source": [
    "sales_model=pd.DataFrame([sales.predict(x_test)[:],(predyrf)[:]],index=['original','predicted'])\n",
    "sales_model.transpose()"
   ]
  },
  {
   "cell_type": "code",
   "execution_count": 76,
   "id": "3f1e441e",
   "metadata": {},
   "outputs": [],
   "source": [
    "# This is our final saved model\n",
    "# Thank you"
   ]
  },
  {
   "cell_type": "code",
   "execution_count": null,
   "id": "7f4416f6",
   "metadata": {},
   "outputs": [],
   "source": []
  },
  {
   "cell_type": "code",
   "execution_count": null,
   "id": "7fd03a3f",
   "metadata": {},
   "outputs": [],
   "source": []
  },
  {
   "cell_type": "code",
   "execution_count": null,
   "id": "48dbd62b",
   "metadata": {},
   "outputs": [],
   "source": []
  },
  {
   "cell_type": "code",
   "execution_count": null,
   "id": "5d5919a1",
   "metadata": {},
   "outputs": [],
   "source": []
  },
  {
   "cell_type": "code",
   "execution_count": null,
   "id": "967e8381",
   "metadata": {},
   "outputs": [],
   "source": []
  },
  {
   "cell_type": "code",
   "execution_count": null,
   "id": "3a38918e",
   "metadata": {},
   "outputs": [],
   "source": []
  },
  {
   "cell_type": "code",
   "execution_count": null,
   "id": "055826a2",
   "metadata": {},
   "outputs": [],
   "source": []
  },
  {
   "cell_type": "code",
   "execution_count": null,
   "id": "6f1d8540",
   "metadata": {},
   "outputs": [],
   "source": []
  },
  {
   "cell_type": "code",
   "execution_count": null,
   "id": "238684e4",
   "metadata": {},
   "outputs": [],
   "source": []
  },
  {
   "cell_type": "code",
   "execution_count": null,
   "id": "991aa2bb",
   "metadata": {},
   "outputs": [],
   "source": []
  },
  {
   "cell_type": "code",
   "execution_count": null,
   "id": "0573ef59",
   "metadata": {},
   "outputs": [],
   "source": []
  },
  {
   "cell_type": "code",
   "execution_count": null,
   "id": "19d90249",
   "metadata": {},
   "outputs": [],
   "source": []
  },
  {
   "cell_type": "code",
   "execution_count": null,
   "id": "791f1729",
   "metadata": {},
   "outputs": [],
   "source": []
  },
  {
   "cell_type": "code",
   "execution_count": null,
   "id": "c745f27b",
   "metadata": {},
   "outputs": [],
   "source": []
  },
  {
   "cell_type": "code",
   "execution_count": null,
   "id": "d9c987fe",
   "metadata": {},
   "outputs": [],
   "source": []
  }
 ],
 "metadata": {
  "kernelspec": {
   "display_name": "Python 3 (ipykernel)",
   "language": "python",
   "name": "python3"
  },
  "language_info": {
   "codemirror_mode": {
    "name": "ipython",
    "version": 3
   },
   "file_extension": ".py",
   "mimetype": "text/x-python",
   "name": "python",
   "nbconvert_exporter": "python",
   "pygments_lexer": "ipython3",
   "version": "3.9.12"
  }
 },
 "nbformat": 4,
 "nbformat_minor": 5
}
