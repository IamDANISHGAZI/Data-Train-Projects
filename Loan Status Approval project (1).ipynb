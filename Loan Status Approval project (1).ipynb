{
 "cells": [
  {
   "cell_type": "code",
   "execution_count": 101,
   "id": "2f76c955",
   "metadata": {},
   "outputs": [],
   "source": [
    "# importing libraries to load Dataset"
   ]
  },
  {
   "cell_type": "code",
   "execution_count": 102,
   "id": "0a0b6c56",
   "metadata": {},
   "outputs": [],
   "source": [
    "import pandas as pd \n",
    "import numpy as np\n",
    "import warnings\n",
    "warnings.filterwarnings('ignore')"
   ]
  },
  {
   "cell_type": "code",
   "execution_count": 103,
   "id": "5334f4c1",
   "metadata": {},
   "outputs": [],
   "source": [
    "df=pd.read_csv('loanstatus.csv')"
   ]
  },
  {
   "cell_type": "code",
   "execution_count": 104,
   "id": "1f9ab326",
   "metadata": {},
   "outputs": [
    {
     "data": {
      "text/html": [
       "<div>\n",
       "<style scoped>\n",
       "    .dataframe tbody tr th:only-of-type {\n",
       "        vertical-align: middle;\n",
       "    }\n",
       "\n",
       "    .dataframe tbody tr th {\n",
       "        vertical-align: top;\n",
       "    }\n",
       "\n",
       "    .dataframe thead th {\n",
       "        text-align: right;\n",
       "    }\n",
       "</style>\n",
       "<table border=\"1\" class=\"dataframe\">\n",
       "  <thead>\n",
       "    <tr style=\"text-align: right;\">\n",
       "      <th></th>\n",
       "      <th>Loan_ID</th>\n",
       "      <th>Gender</th>\n",
       "      <th>Married</th>\n",
       "      <th>Dependents</th>\n",
       "      <th>Education</th>\n",
       "      <th>Self_Employed</th>\n",
       "      <th>ApplicantIncome</th>\n",
       "      <th>CoapplicantIncome</th>\n",
       "      <th>LoanAmount</th>\n",
       "      <th>Loan_Amount_Term</th>\n",
       "      <th>Credit_History</th>\n",
       "      <th>Property_Area</th>\n",
       "      <th>Loan_Status</th>\n",
       "    </tr>\n",
       "  </thead>\n",
       "  <tbody>\n",
       "    <tr>\n",
       "      <th>0</th>\n",
       "      <td>LP001002</td>\n",
       "      <td>Male</td>\n",
       "      <td>No</td>\n",
       "      <td>0</td>\n",
       "      <td>Graduate</td>\n",
       "      <td>No</td>\n",
       "      <td>5849</td>\n",
       "      <td>0.0</td>\n",
       "      <td>NaN</td>\n",
       "      <td>360.0</td>\n",
       "      <td>1.0</td>\n",
       "      <td>Urban</td>\n",
       "      <td>Y</td>\n",
       "    </tr>\n",
       "    <tr>\n",
       "      <th>1</th>\n",
       "      <td>LP001003</td>\n",
       "      <td>Male</td>\n",
       "      <td>Yes</td>\n",
       "      <td>1</td>\n",
       "      <td>Graduate</td>\n",
       "      <td>No</td>\n",
       "      <td>4583</td>\n",
       "      <td>1508.0</td>\n",
       "      <td>128.0</td>\n",
       "      <td>360.0</td>\n",
       "      <td>1.0</td>\n",
       "      <td>Rural</td>\n",
       "      <td>N</td>\n",
       "    </tr>\n",
       "    <tr>\n",
       "      <th>2</th>\n",
       "      <td>LP001005</td>\n",
       "      <td>Male</td>\n",
       "      <td>Yes</td>\n",
       "      <td>0</td>\n",
       "      <td>Graduate</td>\n",
       "      <td>Yes</td>\n",
       "      <td>3000</td>\n",
       "      <td>0.0</td>\n",
       "      <td>66.0</td>\n",
       "      <td>360.0</td>\n",
       "      <td>1.0</td>\n",
       "      <td>Urban</td>\n",
       "      <td>Y</td>\n",
       "    </tr>\n",
       "    <tr>\n",
       "      <th>3</th>\n",
       "      <td>LP001006</td>\n",
       "      <td>Male</td>\n",
       "      <td>Yes</td>\n",
       "      <td>0</td>\n",
       "      <td>Not Graduate</td>\n",
       "      <td>No</td>\n",
       "      <td>2583</td>\n",
       "      <td>2358.0</td>\n",
       "      <td>120.0</td>\n",
       "      <td>360.0</td>\n",
       "      <td>1.0</td>\n",
       "      <td>Urban</td>\n",
       "      <td>Y</td>\n",
       "    </tr>\n",
       "    <tr>\n",
       "      <th>4</th>\n",
       "      <td>LP001008</td>\n",
       "      <td>Male</td>\n",
       "      <td>No</td>\n",
       "      <td>0</td>\n",
       "      <td>Graduate</td>\n",
       "      <td>No</td>\n",
       "      <td>6000</td>\n",
       "      <td>0.0</td>\n",
       "      <td>141.0</td>\n",
       "      <td>360.0</td>\n",
       "      <td>1.0</td>\n",
       "      <td>Urban</td>\n",
       "      <td>Y</td>\n",
       "    </tr>\n",
       "    <tr>\n",
       "      <th>...</th>\n",
       "      <td>...</td>\n",
       "      <td>...</td>\n",
       "      <td>...</td>\n",
       "      <td>...</td>\n",
       "      <td>...</td>\n",
       "      <td>...</td>\n",
       "      <td>...</td>\n",
       "      <td>...</td>\n",
       "      <td>...</td>\n",
       "      <td>...</td>\n",
       "      <td>...</td>\n",
       "      <td>...</td>\n",
       "      <td>...</td>\n",
       "    </tr>\n",
       "    <tr>\n",
       "      <th>609</th>\n",
       "      <td>LP002978</td>\n",
       "      <td>Female</td>\n",
       "      <td>No</td>\n",
       "      <td>0</td>\n",
       "      <td>Graduate</td>\n",
       "      <td>No</td>\n",
       "      <td>2900</td>\n",
       "      <td>0.0</td>\n",
       "      <td>71.0</td>\n",
       "      <td>360.0</td>\n",
       "      <td>1.0</td>\n",
       "      <td>Rural</td>\n",
       "      <td>Y</td>\n",
       "    </tr>\n",
       "    <tr>\n",
       "      <th>610</th>\n",
       "      <td>LP002979</td>\n",
       "      <td>Male</td>\n",
       "      <td>Yes</td>\n",
       "      <td>3+</td>\n",
       "      <td>Graduate</td>\n",
       "      <td>No</td>\n",
       "      <td>4106</td>\n",
       "      <td>0.0</td>\n",
       "      <td>40.0</td>\n",
       "      <td>180.0</td>\n",
       "      <td>1.0</td>\n",
       "      <td>Rural</td>\n",
       "      <td>Y</td>\n",
       "    </tr>\n",
       "    <tr>\n",
       "      <th>611</th>\n",
       "      <td>LP002983</td>\n",
       "      <td>Male</td>\n",
       "      <td>Yes</td>\n",
       "      <td>1</td>\n",
       "      <td>Graduate</td>\n",
       "      <td>No</td>\n",
       "      <td>8072</td>\n",
       "      <td>240.0</td>\n",
       "      <td>253.0</td>\n",
       "      <td>360.0</td>\n",
       "      <td>1.0</td>\n",
       "      <td>Urban</td>\n",
       "      <td>Y</td>\n",
       "    </tr>\n",
       "    <tr>\n",
       "      <th>612</th>\n",
       "      <td>LP002984</td>\n",
       "      <td>Male</td>\n",
       "      <td>Yes</td>\n",
       "      <td>2</td>\n",
       "      <td>Graduate</td>\n",
       "      <td>No</td>\n",
       "      <td>7583</td>\n",
       "      <td>0.0</td>\n",
       "      <td>187.0</td>\n",
       "      <td>360.0</td>\n",
       "      <td>1.0</td>\n",
       "      <td>Urban</td>\n",
       "      <td>Y</td>\n",
       "    </tr>\n",
       "    <tr>\n",
       "      <th>613</th>\n",
       "      <td>LP002990</td>\n",
       "      <td>Female</td>\n",
       "      <td>No</td>\n",
       "      <td>0</td>\n",
       "      <td>Graduate</td>\n",
       "      <td>Yes</td>\n",
       "      <td>4583</td>\n",
       "      <td>0.0</td>\n",
       "      <td>133.0</td>\n",
       "      <td>360.0</td>\n",
       "      <td>0.0</td>\n",
       "      <td>Semiurban</td>\n",
       "      <td>N</td>\n",
       "    </tr>\n",
       "  </tbody>\n",
       "</table>\n",
       "<p>614 rows × 13 columns</p>\n",
       "</div>"
      ],
      "text/plain": [
       "      Loan_ID  Gender Married Dependents     Education Self_Employed  \\\n",
       "0    LP001002    Male      No          0      Graduate            No   \n",
       "1    LP001003    Male     Yes          1      Graduate            No   \n",
       "2    LP001005    Male     Yes          0      Graduate           Yes   \n",
       "3    LP001006    Male     Yes          0  Not Graduate            No   \n",
       "4    LP001008    Male      No          0      Graduate            No   \n",
       "..        ...     ...     ...        ...           ...           ...   \n",
       "609  LP002978  Female      No          0      Graduate            No   \n",
       "610  LP002979    Male     Yes         3+      Graduate            No   \n",
       "611  LP002983    Male     Yes          1      Graduate            No   \n",
       "612  LP002984    Male     Yes          2      Graduate            No   \n",
       "613  LP002990  Female      No          0      Graduate           Yes   \n",
       "\n",
       "     ApplicantIncome  CoapplicantIncome  LoanAmount  Loan_Amount_Term  \\\n",
       "0               5849                0.0         NaN             360.0   \n",
       "1               4583             1508.0       128.0             360.0   \n",
       "2               3000                0.0        66.0             360.0   \n",
       "3               2583             2358.0       120.0             360.0   \n",
       "4               6000                0.0       141.0             360.0   \n",
       "..               ...                ...         ...               ...   \n",
       "609             2900                0.0        71.0             360.0   \n",
       "610             4106                0.0        40.0             180.0   \n",
       "611             8072              240.0       253.0             360.0   \n",
       "612             7583                0.0       187.0             360.0   \n",
       "613             4583                0.0       133.0             360.0   \n",
       "\n",
       "     Credit_History Property_Area Loan_Status  \n",
       "0               1.0         Urban           Y  \n",
       "1               1.0         Rural           N  \n",
       "2               1.0         Urban           Y  \n",
       "3               1.0         Urban           Y  \n",
       "4               1.0         Urban           Y  \n",
       "..              ...           ...         ...  \n",
       "609             1.0         Rural           Y  \n",
       "610             1.0         Rural           Y  \n",
       "611             1.0         Urban           Y  \n",
       "612             1.0         Urban           Y  \n",
       "613             0.0     Semiurban           N  \n",
       "\n",
       "[614 rows x 13 columns]"
      ]
     },
     "execution_count": 104,
     "metadata": {},
     "output_type": "execute_result"
    }
   ],
   "source": [
    "df"
   ]
  },
  {
   "cell_type": "code",
   "execution_count": 105,
   "id": "00b47453",
   "metadata": {},
   "outputs": [],
   "source": [
    "# Now Checking The Datatypes in Dataset"
   ]
  },
  {
   "cell_type": "code",
   "execution_count": 106,
   "id": "1bc00950",
   "metadata": {},
   "outputs": [
    {
     "data": {
      "text/plain": [
       "Loan_ID               object\n",
       "Gender                object\n",
       "Married               object\n",
       "Dependents            object\n",
       "Education             object\n",
       "Self_Employed         object\n",
       "ApplicantIncome        int64\n",
       "CoapplicantIncome    float64\n",
       "LoanAmount           float64\n",
       "Loan_Amount_Term     float64\n",
       "Credit_History       float64\n",
       "Property_Area         object\n",
       "Loan_Status           object\n",
       "dtype: object"
      ]
     },
     "execution_count": 106,
     "metadata": {},
     "output_type": "execute_result"
    }
   ],
   "source": [
    "df.dtypes"
   ]
  },
  {
   "cell_type": "code",
   "execution_count": 107,
   "id": "5bd155ad",
   "metadata": {},
   "outputs": [],
   "source": [
    "# Checking for Null Values"
   ]
  },
  {
   "cell_type": "code",
   "execution_count": 108,
   "id": "45562fdb",
   "metadata": {},
   "outputs": [
    {
     "data": {
      "text/plain": [
       "Loan_ID               0\n",
       "Gender               13\n",
       "Married               3\n",
       "Dependents           15\n",
       "Education             0\n",
       "Self_Employed        32\n",
       "ApplicantIncome       0\n",
       "CoapplicantIncome     0\n",
       "LoanAmount           22\n",
       "Loan_Amount_Term     14\n",
       "Credit_History       50\n",
       "Property_Area         0\n",
       "Loan_Status           0\n",
       "dtype: int64"
      ]
     },
     "execution_count": 108,
     "metadata": {},
     "output_type": "execute_result"
    }
   ],
   "source": [
    "df.isnull().sum()"
   ]
  },
  {
   "cell_type": "code",
   "execution_count": 109,
   "id": "87920307",
   "metadata": {},
   "outputs": [],
   "source": [
    "# There are Null Values present in our Data Set"
   ]
  },
  {
   "cell_type": "code",
   "execution_count": 110,
   "id": "838c1a58",
   "metadata": {},
   "outputs": [],
   "source": [
    "# Removing Null Values using Simple Imputer"
   ]
  },
  {
   "cell_type": "code",
   "execution_count": 111,
   "id": "a7f9eedf",
   "metadata": {},
   "outputs": [],
   "source": [
    "from sklearn.impute import SimpleImputer"
   ]
  },
  {
   "cell_type": "code",
   "execution_count": 112,
   "id": "6f645358",
   "metadata": {},
   "outputs": [],
   "source": [
    "sime=SimpleImputer(strategy='mean')\n",
    "simo=SimpleImputer(strategy='most_frequent')"
   ]
  },
  {
   "cell_type": "code",
   "execution_count": 113,
   "id": "156cd9b4",
   "metadata": {},
   "outputs": [],
   "source": [
    "list1=['Gender','Married','Dependents','Self_Employed']\n",
    "list2=['LoanAmount','Loan_Amount_Term','Credit_History']\n",
    "for i in list1:\n",
    "    df[i]=simo.fit_transform(df[i].values.reshape(-1,1))\n",
    "for i in list2:\n",
    "    df[i]=sime.fit_transform(df[i].values.reshape(-1,1))"
   ]
  },
  {
   "cell_type": "code",
   "execution_count": 114,
   "id": "22de6f5b",
   "metadata": {},
   "outputs": [
    {
     "data": {
      "text/plain": [
       "Loan_ID              0\n",
       "Gender               0\n",
       "Married              0\n",
       "Dependents           0\n",
       "Education            0\n",
       "Self_Employed        0\n",
       "ApplicantIncome      0\n",
       "CoapplicantIncome    0\n",
       "LoanAmount           0\n",
       "Loan_Amount_Term     0\n",
       "Credit_History       0\n",
       "Property_Area        0\n",
       "Loan_Status          0\n",
       "dtype: int64"
      ]
     },
     "execution_count": 114,
     "metadata": {},
     "output_type": "execute_result"
    }
   ],
   "source": [
    "df.isnull().sum()"
   ]
  },
  {
   "cell_type": "code",
   "execution_count": 115,
   "id": "022e1ecd",
   "metadata": {},
   "outputs": [],
   "source": [
    "# Now Null Values are imputed from our Dataset"
   ]
  },
  {
   "cell_type": "code",
   "execution_count": 116,
   "id": "c304f978",
   "metadata": {},
   "outputs": [],
   "source": [
    "# Now CHecking Duplicate Values"
   ]
  },
  {
   "cell_type": "code",
   "execution_count": 117,
   "id": "df042dae",
   "metadata": {},
   "outputs": [
    {
     "data": {
      "text/plain": [
       "False    614\n",
       "dtype: int64"
      ]
     },
     "execution_count": 117,
     "metadata": {},
     "output_type": "execute_result"
    }
   ],
   "source": [
    "df.duplicated().value_counts()"
   ]
  },
  {
   "cell_type": "code",
   "execution_count": 118,
   "id": "94d83e04",
   "metadata": {},
   "outputs": [],
   "source": [
    "# So There are no duplicate values present in our Dataset"
   ]
  },
  {
   "cell_type": "code",
   "execution_count": 119,
   "id": "db8d861f",
   "metadata": {},
   "outputs": [],
   "source": [
    "# Now lets apply Label Encoder to convert obj Data type into int Datatype"
   ]
  },
  {
   "cell_type": "code",
   "execution_count": 120,
   "id": "104947e0",
   "metadata": {},
   "outputs": [],
   "source": [
    "from sklearn.preprocessing import LabelEncoder"
   ]
  },
  {
   "cell_type": "code",
   "execution_count": 121,
   "id": "0861c03b",
   "metadata": {},
   "outputs": [],
   "source": [
    "le=LabelEncoder()"
   ]
  },
  {
   "cell_type": "code",
   "execution_count": 122,
   "id": "45d7a0df",
   "metadata": {},
   "outputs": [],
   "source": [
    "list3=['Gender','Married','Dependents','Self_Employed','Loan_ID','Education','Property_Area','Loan_Status']\n",
    "for i in list3:\n",
    "    df[i]=le.fit_transform(df[i].astype(str))"
   ]
  },
  {
   "cell_type": "code",
   "execution_count": 123,
   "id": "cde32629",
   "metadata": {},
   "outputs": [
    {
     "data": {
      "text/plain": [
       "Loan_ID                int32\n",
       "Gender                 int32\n",
       "Married                int32\n",
       "Dependents             int32\n",
       "Education              int32\n",
       "Self_Employed          int32\n",
       "ApplicantIncome        int64\n",
       "CoapplicantIncome    float64\n",
       "LoanAmount           float64\n",
       "Loan_Amount_Term     float64\n",
       "Credit_History       float64\n",
       "Property_Area          int32\n",
       "Loan_Status            int32\n",
       "dtype: object"
      ]
     },
     "execution_count": 123,
     "metadata": {},
     "output_type": "execute_result"
    }
   ],
   "source": [
    "df.dtypes"
   ]
  },
  {
   "cell_type": "code",
   "execution_count": 124,
   "id": "fd680d84",
   "metadata": {},
   "outputs": [],
   "source": [
    "# Now all our columns are in int and float Datatype"
   ]
  },
  {
   "cell_type": "code",
   "execution_count": 125,
   "id": "79685d1f",
   "metadata": {},
   "outputs": [
    {
     "data": {
      "text/html": [
       "<div>\n",
       "<style scoped>\n",
       "    .dataframe tbody tr th:only-of-type {\n",
       "        vertical-align: middle;\n",
       "    }\n",
       "\n",
       "    .dataframe tbody tr th {\n",
       "        vertical-align: top;\n",
       "    }\n",
       "\n",
       "    .dataframe thead th {\n",
       "        text-align: right;\n",
       "    }\n",
       "</style>\n",
       "<table border=\"1\" class=\"dataframe\">\n",
       "  <thead>\n",
       "    <tr style=\"text-align: right;\">\n",
       "      <th></th>\n",
       "      <th>Loan_ID</th>\n",
       "      <th>Gender</th>\n",
       "      <th>Married</th>\n",
       "      <th>Dependents</th>\n",
       "      <th>Education</th>\n",
       "      <th>Self_Employed</th>\n",
       "      <th>ApplicantIncome</th>\n",
       "      <th>CoapplicantIncome</th>\n",
       "      <th>LoanAmount</th>\n",
       "      <th>Loan_Amount_Term</th>\n",
       "      <th>Credit_History</th>\n",
       "      <th>Property_Area</th>\n",
       "      <th>Loan_Status</th>\n",
       "    </tr>\n",
       "  </thead>\n",
       "  <tbody>\n",
       "    <tr>\n",
       "      <th>0</th>\n",
       "      <td>0</td>\n",
       "      <td>1</td>\n",
       "      <td>0</td>\n",
       "      <td>0</td>\n",
       "      <td>0</td>\n",
       "      <td>0</td>\n",
       "      <td>5849</td>\n",
       "      <td>0.0</td>\n",
       "      <td>146.412162</td>\n",
       "      <td>360.0</td>\n",
       "      <td>1.0</td>\n",
       "      <td>2</td>\n",
       "      <td>1</td>\n",
       "    </tr>\n",
       "    <tr>\n",
       "      <th>1</th>\n",
       "      <td>1</td>\n",
       "      <td>1</td>\n",
       "      <td>1</td>\n",
       "      <td>1</td>\n",
       "      <td>0</td>\n",
       "      <td>0</td>\n",
       "      <td>4583</td>\n",
       "      <td>1508.0</td>\n",
       "      <td>128.000000</td>\n",
       "      <td>360.0</td>\n",
       "      <td>1.0</td>\n",
       "      <td>0</td>\n",
       "      <td>0</td>\n",
       "    </tr>\n",
       "    <tr>\n",
       "      <th>2</th>\n",
       "      <td>2</td>\n",
       "      <td>1</td>\n",
       "      <td>1</td>\n",
       "      <td>0</td>\n",
       "      <td>0</td>\n",
       "      <td>1</td>\n",
       "      <td>3000</td>\n",
       "      <td>0.0</td>\n",
       "      <td>66.000000</td>\n",
       "      <td>360.0</td>\n",
       "      <td>1.0</td>\n",
       "      <td>2</td>\n",
       "      <td>1</td>\n",
       "    </tr>\n",
       "    <tr>\n",
       "      <th>3</th>\n",
       "      <td>3</td>\n",
       "      <td>1</td>\n",
       "      <td>1</td>\n",
       "      <td>0</td>\n",
       "      <td>1</td>\n",
       "      <td>0</td>\n",
       "      <td>2583</td>\n",
       "      <td>2358.0</td>\n",
       "      <td>120.000000</td>\n",
       "      <td>360.0</td>\n",
       "      <td>1.0</td>\n",
       "      <td>2</td>\n",
       "      <td>1</td>\n",
       "    </tr>\n",
       "    <tr>\n",
       "      <th>4</th>\n",
       "      <td>4</td>\n",
       "      <td>1</td>\n",
       "      <td>0</td>\n",
       "      <td>0</td>\n",
       "      <td>0</td>\n",
       "      <td>0</td>\n",
       "      <td>6000</td>\n",
       "      <td>0.0</td>\n",
       "      <td>141.000000</td>\n",
       "      <td>360.0</td>\n",
       "      <td>1.0</td>\n",
       "      <td>2</td>\n",
       "      <td>1</td>\n",
       "    </tr>\n",
       "    <tr>\n",
       "      <th>...</th>\n",
       "      <td>...</td>\n",
       "      <td>...</td>\n",
       "      <td>...</td>\n",
       "      <td>...</td>\n",
       "      <td>...</td>\n",
       "      <td>...</td>\n",
       "      <td>...</td>\n",
       "      <td>...</td>\n",
       "      <td>...</td>\n",
       "      <td>...</td>\n",
       "      <td>...</td>\n",
       "      <td>...</td>\n",
       "      <td>...</td>\n",
       "    </tr>\n",
       "    <tr>\n",
       "      <th>609</th>\n",
       "      <td>609</td>\n",
       "      <td>0</td>\n",
       "      <td>0</td>\n",
       "      <td>0</td>\n",
       "      <td>0</td>\n",
       "      <td>0</td>\n",
       "      <td>2900</td>\n",
       "      <td>0.0</td>\n",
       "      <td>71.000000</td>\n",
       "      <td>360.0</td>\n",
       "      <td>1.0</td>\n",
       "      <td>0</td>\n",
       "      <td>1</td>\n",
       "    </tr>\n",
       "    <tr>\n",
       "      <th>610</th>\n",
       "      <td>610</td>\n",
       "      <td>1</td>\n",
       "      <td>1</td>\n",
       "      <td>3</td>\n",
       "      <td>0</td>\n",
       "      <td>0</td>\n",
       "      <td>4106</td>\n",
       "      <td>0.0</td>\n",
       "      <td>40.000000</td>\n",
       "      <td>180.0</td>\n",
       "      <td>1.0</td>\n",
       "      <td>0</td>\n",
       "      <td>1</td>\n",
       "    </tr>\n",
       "    <tr>\n",
       "      <th>611</th>\n",
       "      <td>611</td>\n",
       "      <td>1</td>\n",
       "      <td>1</td>\n",
       "      <td>1</td>\n",
       "      <td>0</td>\n",
       "      <td>0</td>\n",
       "      <td>8072</td>\n",
       "      <td>240.0</td>\n",
       "      <td>253.000000</td>\n",
       "      <td>360.0</td>\n",
       "      <td>1.0</td>\n",
       "      <td>2</td>\n",
       "      <td>1</td>\n",
       "    </tr>\n",
       "    <tr>\n",
       "      <th>612</th>\n",
       "      <td>612</td>\n",
       "      <td>1</td>\n",
       "      <td>1</td>\n",
       "      <td>2</td>\n",
       "      <td>0</td>\n",
       "      <td>0</td>\n",
       "      <td>7583</td>\n",
       "      <td>0.0</td>\n",
       "      <td>187.000000</td>\n",
       "      <td>360.0</td>\n",
       "      <td>1.0</td>\n",
       "      <td>2</td>\n",
       "      <td>1</td>\n",
       "    </tr>\n",
       "    <tr>\n",
       "      <th>613</th>\n",
       "      <td>613</td>\n",
       "      <td>0</td>\n",
       "      <td>0</td>\n",
       "      <td>0</td>\n",
       "      <td>0</td>\n",
       "      <td>1</td>\n",
       "      <td>4583</td>\n",
       "      <td>0.0</td>\n",
       "      <td>133.000000</td>\n",
       "      <td>360.0</td>\n",
       "      <td>0.0</td>\n",
       "      <td>1</td>\n",
       "      <td>0</td>\n",
       "    </tr>\n",
       "  </tbody>\n",
       "</table>\n",
       "<p>614 rows × 13 columns</p>\n",
       "</div>"
      ],
      "text/plain": [
       "     Loan_ID  Gender  Married  Dependents  Education  Self_Employed  \\\n",
       "0          0       1        0           0          0              0   \n",
       "1          1       1        1           1          0              0   \n",
       "2          2       1        1           0          0              1   \n",
       "3          3       1        1           0          1              0   \n",
       "4          4       1        0           0          0              0   \n",
       "..       ...     ...      ...         ...        ...            ...   \n",
       "609      609       0        0           0          0              0   \n",
       "610      610       1        1           3          0              0   \n",
       "611      611       1        1           1          0              0   \n",
       "612      612       1        1           2          0              0   \n",
       "613      613       0        0           0          0              1   \n",
       "\n",
       "     ApplicantIncome  CoapplicantIncome  LoanAmount  Loan_Amount_Term  \\\n",
       "0               5849                0.0  146.412162             360.0   \n",
       "1               4583             1508.0  128.000000             360.0   \n",
       "2               3000                0.0   66.000000             360.0   \n",
       "3               2583             2358.0  120.000000             360.0   \n",
       "4               6000                0.0  141.000000             360.0   \n",
       "..               ...                ...         ...               ...   \n",
       "609             2900                0.0   71.000000             360.0   \n",
       "610             4106                0.0   40.000000             180.0   \n",
       "611             8072              240.0  253.000000             360.0   \n",
       "612             7583                0.0  187.000000             360.0   \n",
       "613             4583                0.0  133.000000             360.0   \n",
       "\n",
       "     Credit_History  Property_Area  Loan_Status  \n",
       "0               1.0              2            1  \n",
       "1               1.0              0            0  \n",
       "2               1.0              2            1  \n",
       "3               1.0              2            1  \n",
       "4               1.0              2            1  \n",
       "..              ...            ...          ...  \n",
       "609             1.0              0            1  \n",
       "610             1.0              0            1  \n",
       "611             1.0              2            1  \n",
       "612             1.0              2            1  \n",
       "613             0.0              1            0  \n",
       "\n",
       "[614 rows x 13 columns]"
      ]
     },
     "execution_count": 125,
     "metadata": {},
     "output_type": "execute_result"
    }
   ],
   "source": [
    "df"
   ]
  },
  {
   "cell_type": "code",
   "execution_count": 126,
   "id": "5dd2c62c",
   "metadata": {},
   "outputs": [],
   "source": [
    "# Now lets see statistical summary of Dataset"
   ]
  },
  {
   "cell_type": "code",
   "execution_count": 127,
   "id": "63ed553b",
   "metadata": {},
   "outputs": [
    {
     "data": {
      "text/html": [
       "<div>\n",
       "<style scoped>\n",
       "    .dataframe tbody tr th:only-of-type {\n",
       "        vertical-align: middle;\n",
       "    }\n",
       "\n",
       "    .dataframe tbody tr th {\n",
       "        vertical-align: top;\n",
       "    }\n",
       "\n",
       "    .dataframe thead th {\n",
       "        text-align: right;\n",
       "    }\n",
       "</style>\n",
       "<table border=\"1\" class=\"dataframe\">\n",
       "  <thead>\n",
       "    <tr style=\"text-align: right;\">\n",
       "      <th></th>\n",
       "      <th>Loan_ID</th>\n",
       "      <th>Gender</th>\n",
       "      <th>Married</th>\n",
       "      <th>Dependents</th>\n",
       "      <th>Education</th>\n",
       "      <th>Self_Employed</th>\n",
       "      <th>ApplicantIncome</th>\n",
       "      <th>CoapplicantIncome</th>\n",
       "      <th>LoanAmount</th>\n",
       "      <th>Loan_Amount_Term</th>\n",
       "      <th>Credit_History</th>\n",
       "      <th>Property_Area</th>\n",
       "      <th>Loan_Status</th>\n",
       "    </tr>\n",
       "  </thead>\n",
       "  <tbody>\n",
       "    <tr>\n",
       "      <th>count</th>\n",
       "      <td>614.000000</td>\n",
       "      <td>614.000000</td>\n",
       "      <td>614.000000</td>\n",
       "      <td>614.000000</td>\n",
       "      <td>614.000000</td>\n",
       "      <td>614.000000</td>\n",
       "      <td>614.000000</td>\n",
       "      <td>614.000000</td>\n",
       "      <td>614.000000</td>\n",
       "      <td>614.000000</td>\n",
       "      <td>614.000000</td>\n",
       "      <td>614.000000</td>\n",
       "      <td>614.000000</td>\n",
       "    </tr>\n",
       "    <tr>\n",
       "      <th>mean</th>\n",
       "      <td>306.500000</td>\n",
       "      <td>0.817590</td>\n",
       "      <td>0.653094</td>\n",
       "      <td>0.744300</td>\n",
       "      <td>0.218241</td>\n",
       "      <td>0.133550</td>\n",
       "      <td>5403.459283</td>\n",
       "      <td>1621.245798</td>\n",
       "      <td>146.412162</td>\n",
       "      <td>342.000000</td>\n",
       "      <td>0.842199</td>\n",
       "      <td>1.037459</td>\n",
       "      <td>0.687296</td>\n",
       "    </tr>\n",
       "    <tr>\n",
       "      <th>std</th>\n",
       "      <td>177.390811</td>\n",
       "      <td>0.386497</td>\n",
       "      <td>0.476373</td>\n",
       "      <td>1.009623</td>\n",
       "      <td>0.413389</td>\n",
       "      <td>0.340446</td>\n",
       "      <td>6109.041673</td>\n",
       "      <td>2926.248369</td>\n",
       "      <td>84.037468</td>\n",
       "      <td>64.372489</td>\n",
       "      <td>0.349681</td>\n",
       "      <td>0.787482</td>\n",
       "      <td>0.463973</td>\n",
       "    </tr>\n",
       "    <tr>\n",
       "      <th>min</th>\n",
       "      <td>0.000000</td>\n",
       "      <td>0.000000</td>\n",
       "      <td>0.000000</td>\n",
       "      <td>0.000000</td>\n",
       "      <td>0.000000</td>\n",
       "      <td>0.000000</td>\n",
       "      <td>150.000000</td>\n",
       "      <td>0.000000</td>\n",
       "      <td>9.000000</td>\n",
       "      <td>12.000000</td>\n",
       "      <td>0.000000</td>\n",
       "      <td>0.000000</td>\n",
       "      <td>0.000000</td>\n",
       "    </tr>\n",
       "    <tr>\n",
       "      <th>25%</th>\n",
       "      <td>153.250000</td>\n",
       "      <td>1.000000</td>\n",
       "      <td>0.000000</td>\n",
       "      <td>0.000000</td>\n",
       "      <td>0.000000</td>\n",
       "      <td>0.000000</td>\n",
       "      <td>2877.500000</td>\n",
       "      <td>0.000000</td>\n",
       "      <td>100.250000</td>\n",
       "      <td>360.000000</td>\n",
       "      <td>1.000000</td>\n",
       "      <td>0.000000</td>\n",
       "      <td>0.000000</td>\n",
       "    </tr>\n",
       "    <tr>\n",
       "      <th>50%</th>\n",
       "      <td>306.500000</td>\n",
       "      <td>1.000000</td>\n",
       "      <td>1.000000</td>\n",
       "      <td>0.000000</td>\n",
       "      <td>0.000000</td>\n",
       "      <td>0.000000</td>\n",
       "      <td>3812.500000</td>\n",
       "      <td>1188.500000</td>\n",
       "      <td>129.000000</td>\n",
       "      <td>360.000000</td>\n",
       "      <td>1.000000</td>\n",
       "      <td>1.000000</td>\n",
       "      <td>1.000000</td>\n",
       "    </tr>\n",
       "    <tr>\n",
       "      <th>75%</th>\n",
       "      <td>459.750000</td>\n",
       "      <td>1.000000</td>\n",
       "      <td>1.000000</td>\n",
       "      <td>1.000000</td>\n",
       "      <td>0.000000</td>\n",
       "      <td>0.000000</td>\n",
       "      <td>5795.000000</td>\n",
       "      <td>2297.250000</td>\n",
       "      <td>164.750000</td>\n",
       "      <td>360.000000</td>\n",
       "      <td>1.000000</td>\n",
       "      <td>2.000000</td>\n",
       "      <td>1.000000</td>\n",
       "    </tr>\n",
       "    <tr>\n",
       "      <th>max</th>\n",
       "      <td>613.000000</td>\n",
       "      <td>1.000000</td>\n",
       "      <td>1.000000</td>\n",
       "      <td>3.000000</td>\n",
       "      <td>1.000000</td>\n",
       "      <td>1.000000</td>\n",
       "      <td>81000.000000</td>\n",
       "      <td>41667.000000</td>\n",
       "      <td>700.000000</td>\n",
       "      <td>480.000000</td>\n",
       "      <td>1.000000</td>\n",
       "      <td>2.000000</td>\n",
       "      <td>1.000000</td>\n",
       "    </tr>\n",
       "  </tbody>\n",
       "</table>\n",
       "</div>"
      ],
      "text/plain": [
       "          Loan_ID      Gender     Married  Dependents   Education  \\\n",
       "count  614.000000  614.000000  614.000000  614.000000  614.000000   \n",
       "mean   306.500000    0.817590    0.653094    0.744300    0.218241   \n",
       "std    177.390811    0.386497    0.476373    1.009623    0.413389   \n",
       "min      0.000000    0.000000    0.000000    0.000000    0.000000   \n",
       "25%    153.250000    1.000000    0.000000    0.000000    0.000000   \n",
       "50%    306.500000    1.000000    1.000000    0.000000    0.000000   \n",
       "75%    459.750000    1.000000    1.000000    1.000000    0.000000   \n",
       "max    613.000000    1.000000    1.000000    3.000000    1.000000   \n",
       "\n",
       "       Self_Employed  ApplicantIncome  CoapplicantIncome  LoanAmount  \\\n",
       "count     614.000000       614.000000         614.000000  614.000000   \n",
       "mean        0.133550      5403.459283        1621.245798  146.412162   \n",
       "std         0.340446      6109.041673        2926.248369   84.037468   \n",
       "min         0.000000       150.000000           0.000000    9.000000   \n",
       "25%         0.000000      2877.500000           0.000000  100.250000   \n",
       "50%         0.000000      3812.500000        1188.500000  129.000000   \n",
       "75%         0.000000      5795.000000        2297.250000  164.750000   \n",
       "max         1.000000     81000.000000       41667.000000  700.000000   \n",
       "\n",
       "       Loan_Amount_Term  Credit_History  Property_Area  Loan_Status  \n",
       "count        614.000000      614.000000     614.000000   614.000000  \n",
       "mean         342.000000        0.842199       1.037459     0.687296  \n",
       "std           64.372489        0.349681       0.787482     0.463973  \n",
       "min           12.000000        0.000000       0.000000     0.000000  \n",
       "25%          360.000000        1.000000       0.000000     0.000000  \n",
       "50%          360.000000        1.000000       1.000000     1.000000  \n",
       "75%          360.000000        1.000000       2.000000     1.000000  \n",
       "max          480.000000        1.000000       2.000000     1.000000  "
      ]
     },
     "execution_count": 127,
     "metadata": {},
     "output_type": "execute_result"
    }
   ],
   "source": [
    "df.describe()"
   ]
  },
  {
   "cell_type": "code",
   "execution_count": 128,
   "id": "cc98650f",
   "metadata": {},
   "outputs": [],
   "source": [
    "# Now Lets see Correlation"
   ]
  },
  {
   "cell_type": "code",
   "execution_count": 129,
   "id": "d0b2d2ef",
   "metadata": {},
   "outputs": [
    {
     "data": {
      "text/html": [
       "<div>\n",
       "<style scoped>\n",
       "    .dataframe tbody tr th:only-of-type {\n",
       "        vertical-align: middle;\n",
       "    }\n",
       "\n",
       "    .dataframe tbody tr th {\n",
       "        vertical-align: top;\n",
       "    }\n",
       "\n",
       "    .dataframe thead th {\n",
       "        text-align: right;\n",
       "    }\n",
       "</style>\n",
       "<table border=\"1\" class=\"dataframe\">\n",
       "  <thead>\n",
       "    <tr style=\"text-align: right;\">\n",
       "      <th></th>\n",
       "      <th>Loan_ID</th>\n",
       "      <th>Gender</th>\n",
       "      <th>Married</th>\n",
       "      <th>Dependents</th>\n",
       "      <th>Education</th>\n",
       "      <th>Self_Employed</th>\n",
       "      <th>ApplicantIncome</th>\n",
       "      <th>CoapplicantIncome</th>\n",
       "      <th>LoanAmount</th>\n",
       "      <th>Loan_Amount_Term</th>\n",
       "      <th>Credit_History</th>\n",
       "      <th>Property_Area</th>\n",
       "      <th>Loan_Status</th>\n",
       "    </tr>\n",
       "  </thead>\n",
       "  <tbody>\n",
       "    <tr>\n",
       "      <th>Loan_ID</th>\n",
       "      <td>1.000000</td>\n",
       "      <td>-0.028029</td>\n",
       "      <td>-0.016013</td>\n",
       "      <td>0.051559</td>\n",
       "      <td>0.039442</td>\n",
       "      <td>0.032874</td>\n",
       "      <td>0.016925</td>\n",
       "      <td>0.039211</td>\n",
       "      <td>0.035684</td>\n",
       "      <td>-0.028945</td>\n",
       "      <td>-0.032429</td>\n",
       "      <td>-0.155416</td>\n",
       "      <td>0.011773</td>\n",
       "    </tr>\n",
       "    <tr>\n",
       "      <th>Gender</th>\n",
       "      <td>-0.028029</td>\n",
       "      <td>1.000000</td>\n",
       "      <td>0.364569</td>\n",
       "      <td>0.172914</td>\n",
       "      <td>0.045364</td>\n",
       "      <td>-0.000525</td>\n",
       "      <td>0.058809</td>\n",
       "      <td>0.082912</td>\n",
       "      <td>0.107930</td>\n",
       "      <td>-0.073567</td>\n",
       "      <td>0.012819</td>\n",
       "      <td>-0.025752</td>\n",
       "      <td>0.017987</td>\n",
       "    </tr>\n",
       "    <tr>\n",
       "      <th>Married</th>\n",
       "      <td>-0.016013</td>\n",
       "      <td>0.364569</td>\n",
       "      <td>1.000000</td>\n",
       "      <td>0.334216</td>\n",
       "      <td>0.012304</td>\n",
       "      <td>0.004489</td>\n",
       "      <td>0.051708</td>\n",
       "      <td>0.075948</td>\n",
       "      <td>0.147141</td>\n",
       "      <td>-0.100863</td>\n",
       "      <td>0.005852</td>\n",
       "      <td>0.004257</td>\n",
       "      <td>0.091478</td>\n",
       "    </tr>\n",
       "    <tr>\n",
       "      <th>Dependents</th>\n",
       "      <td>0.051559</td>\n",
       "      <td>0.172914</td>\n",
       "      <td>0.334216</td>\n",
       "      <td>1.000000</td>\n",
       "      <td>0.055752</td>\n",
       "      <td>0.056798</td>\n",
       "      <td>0.118202</td>\n",
       "      <td>0.030430</td>\n",
       "      <td>0.163106</td>\n",
       "      <td>-0.101054</td>\n",
       "      <td>-0.037392</td>\n",
       "      <td>-0.000244</td>\n",
       "      <td>0.010118</td>\n",
       "    </tr>\n",
       "    <tr>\n",
       "      <th>Education</th>\n",
       "      <td>0.039442</td>\n",
       "      <td>0.045364</td>\n",
       "      <td>0.012304</td>\n",
       "      <td>0.055752</td>\n",
       "      <td>1.000000</td>\n",
       "      <td>-0.010383</td>\n",
       "      <td>-0.140760</td>\n",
       "      <td>-0.062290</td>\n",
       "      <td>-0.166998</td>\n",
       "      <td>-0.077242</td>\n",
       "      <td>-0.077936</td>\n",
       "      <td>-0.065243</td>\n",
       "      <td>-0.085884</td>\n",
       "    </tr>\n",
       "    <tr>\n",
       "      <th>Self_Employed</th>\n",
       "      <td>0.032874</td>\n",
       "      <td>-0.000525</td>\n",
       "      <td>0.004489</td>\n",
       "      <td>0.056798</td>\n",
       "      <td>-0.010383</td>\n",
       "      <td>1.000000</td>\n",
       "      <td>0.127180</td>\n",
       "      <td>-0.016100</td>\n",
       "      <td>0.115260</td>\n",
       "      <td>-0.033943</td>\n",
       "      <td>-0.002260</td>\n",
       "      <td>-0.030860</td>\n",
       "      <td>-0.003700</td>\n",
       "    </tr>\n",
       "    <tr>\n",
       "      <th>ApplicantIncome</th>\n",
       "      <td>0.016925</td>\n",
       "      <td>0.058809</td>\n",
       "      <td>0.051708</td>\n",
       "      <td>0.118202</td>\n",
       "      <td>-0.140760</td>\n",
       "      <td>0.127180</td>\n",
       "      <td>1.000000</td>\n",
       "      <td>-0.116605</td>\n",
       "      <td>0.565620</td>\n",
       "      <td>-0.045242</td>\n",
       "      <td>-0.014477</td>\n",
       "      <td>-0.009500</td>\n",
       "      <td>-0.004710</td>\n",
       "    </tr>\n",
       "    <tr>\n",
       "      <th>CoapplicantIncome</th>\n",
       "      <td>0.039211</td>\n",
       "      <td>0.082912</td>\n",
       "      <td>0.075948</td>\n",
       "      <td>0.030430</td>\n",
       "      <td>-0.062290</td>\n",
       "      <td>-0.016100</td>\n",
       "      <td>-0.116605</td>\n",
       "      <td>1.000000</td>\n",
       "      <td>0.187828</td>\n",
       "      <td>-0.059675</td>\n",
       "      <td>-0.001665</td>\n",
       "      <td>0.010522</td>\n",
       "      <td>-0.059187</td>\n",
       "    </tr>\n",
       "    <tr>\n",
       "      <th>LoanAmount</th>\n",
       "      <td>0.035684</td>\n",
       "      <td>0.107930</td>\n",
       "      <td>0.147141</td>\n",
       "      <td>0.163106</td>\n",
       "      <td>-0.166998</td>\n",
       "      <td>0.115260</td>\n",
       "      <td>0.565620</td>\n",
       "      <td>0.187828</td>\n",
       "      <td>1.000000</td>\n",
       "      <td>0.038801</td>\n",
       "      <td>-0.007738</td>\n",
       "      <td>-0.044776</td>\n",
       "      <td>-0.036416</td>\n",
       "    </tr>\n",
       "    <tr>\n",
       "      <th>Loan_Amount_Term</th>\n",
       "      <td>-0.028945</td>\n",
       "      <td>-0.073567</td>\n",
       "      <td>-0.100863</td>\n",
       "      <td>-0.101054</td>\n",
       "      <td>-0.077242</td>\n",
       "      <td>-0.033943</td>\n",
       "      <td>-0.045242</td>\n",
       "      <td>-0.059675</td>\n",
       "      <td>0.038801</td>\n",
       "      <td>1.000000</td>\n",
       "      <td>0.001395</td>\n",
       "      <td>-0.077620</td>\n",
       "      <td>-0.020974</td>\n",
       "    </tr>\n",
       "    <tr>\n",
       "      <th>Credit_History</th>\n",
       "      <td>-0.032429</td>\n",
       "      <td>0.012819</td>\n",
       "      <td>0.005852</td>\n",
       "      <td>-0.037392</td>\n",
       "      <td>-0.077936</td>\n",
       "      <td>-0.002260</td>\n",
       "      <td>-0.014477</td>\n",
       "      <td>-0.001665</td>\n",
       "      <td>-0.007738</td>\n",
       "      <td>0.001395</td>\n",
       "      <td>1.000000</td>\n",
       "      <td>-0.001880</td>\n",
       "      <td>0.540483</td>\n",
       "    </tr>\n",
       "    <tr>\n",
       "      <th>Property_Area</th>\n",
       "      <td>-0.155416</td>\n",
       "      <td>-0.025752</td>\n",
       "      <td>0.004257</td>\n",
       "      <td>-0.000244</td>\n",
       "      <td>-0.065243</td>\n",
       "      <td>-0.030860</td>\n",
       "      <td>-0.009500</td>\n",
       "      <td>0.010522</td>\n",
       "      <td>-0.044776</td>\n",
       "      <td>-0.077620</td>\n",
       "      <td>-0.001880</td>\n",
       "      <td>1.000000</td>\n",
       "      <td>0.032112</td>\n",
       "    </tr>\n",
       "    <tr>\n",
       "      <th>Loan_Status</th>\n",
       "      <td>0.011773</td>\n",
       "      <td>0.017987</td>\n",
       "      <td>0.091478</td>\n",
       "      <td>0.010118</td>\n",
       "      <td>-0.085884</td>\n",
       "      <td>-0.003700</td>\n",
       "      <td>-0.004710</td>\n",
       "      <td>-0.059187</td>\n",
       "      <td>-0.036416</td>\n",
       "      <td>-0.020974</td>\n",
       "      <td>0.540483</td>\n",
       "      <td>0.032112</td>\n",
       "      <td>1.000000</td>\n",
       "    </tr>\n",
       "  </tbody>\n",
       "</table>\n",
       "</div>"
      ],
      "text/plain": [
       "                    Loan_ID    Gender   Married  Dependents  Education  \\\n",
       "Loan_ID            1.000000 -0.028029 -0.016013    0.051559   0.039442   \n",
       "Gender            -0.028029  1.000000  0.364569    0.172914   0.045364   \n",
       "Married           -0.016013  0.364569  1.000000    0.334216   0.012304   \n",
       "Dependents         0.051559  0.172914  0.334216    1.000000   0.055752   \n",
       "Education          0.039442  0.045364  0.012304    0.055752   1.000000   \n",
       "Self_Employed      0.032874 -0.000525  0.004489    0.056798  -0.010383   \n",
       "ApplicantIncome    0.016925  0.058809  0.051708    0.118202  -0.140760   \n",
       "CoapplicantIncome  0.039211  0.082912  0.075948    0.030430  -0.062290   \n",
       "LoanAmount         0.035684  0.107930  0.147141    0.163106  -0.166998   \n",
       "Loan_Amount_Term  -0.028945 -0.073567 -0.100863   -0.101054  -0.077242   \n",
       "Credit_History    -0.032429  0.012819  0.005852   -0.037392  -0.077936   \n",
       "Property_Area     -0.155416 -0.025752  0.004257   -0.000244  -0.065243   \n",
       "Loan_Status        0.011773  0.017987  0.091478    0.010118  -0.085884   \n",
       "\n",
       "                   Self_Employed  ApplicantIncome  CoapplicantIncome  \\\n",
       "Loan_ID                 0.032874         0.016925           0.039211   \n",
       "Gender                 -0.000525         0.058809           0.082912   \n",
       "Married                 0.004489         0.051708           0.075948   \n",
       "Dependents              0.056798         0.118202           0.030430   \n",
       "Education              -0.010383        -0.140760          -0.062290   \n",
       "Self_Employed           1.000000         0.127180          -0.016100   \n",
       "ApplicantIncome         0.127180         1.000000          -0.116605   \n",
       "CoapplicantIncome      -0.016100        -0.116605           1.000000   \n",
       "LoanAmount              0.115260         0.565620           0.187828   \n",
       "Loan_Amount_Term       -0.033943        -0.045242          -0.059675   \n",
       "Credit_History         -0.002260        -0.014477          -0.001665   \n",
       "Property_Area          -0.030860        -0.009500           0.010522   \n",
       "Loan_Status            -0.003700        -0.004710          -0.059187   \n",
       "\n",
       "                   LoanAmount  Loan_Amount_Term  Credit_History  \\\n",
       "Loan_ID              0.035684         -0.028945       -0.032429   \n",
       "Gender               0.107930         -0.073567        0.012819   \n",
       "Married              0.147141         -0.100863        0.005852   \n",
       "Dependents           0.163106         -0.101054       -0.037392   \n",
       "Education           -0.166998         -0.077242       -0.077936   \n",
       "Self_Employed        0.115260         -0.033943       -0.002260   \n",
       "ApplicantIncome      0.565620         -0.045242       -0.014477   \n",
       "CoapplicantIncome    0.187828         -0.059675       -0.001665   \n",
       "LoanAmount           1.000000          0.038801       -0.007738   \n",
       "Loan_Amount_Term     0.038801          1.000000        0.001395   \n",
       "Credit_History      -0.007738          0.001395        1.000000   \n",
       "Property_Area       -0.044776         -0.077620       -0.001880   \n",
       "Loan_Status         -0.036416         -0.020974        0.540483   \n",
       "\n",
       "                   Property_Area  Loan_Status  \n",
       "Loan_ID                -0.155416     0.011773  \n",
       "Gender                 -0.025752     0.017987  \n",
       "Married                 0.004257     0.091478  \n",
       "Dependents             -0.000244     0.010118  \n",
       "Education              -0.065243    -0.085884  \n",
       "Self_Employed          -0.030860    -0.003700  \n",
       "ApplicantIncome        -0.009500    -0.004710  \n",
       "CoapplicantIncome       0.010522    -0.059187  \n",
       "LoanAmount             -0.044776    -0.036416  \n",
       "Loan_Amount_Term       -0.077620    -0.020974  \n",
       "Credit_History         -0.001880     0.540483  \n",
       "Property_Area           1.000000     0.032112  \n",
       "Loan_Status             0.032112     1.000000  "
      ]
     },
     "execution_count": 129,
     "metadata": {},
     "output_type": "execute_result"
    }
   ],
   "source": [
    "df.corr()"
   ]
  },
  {
   "cell_type": "code",
   "execution_count": 130,
   "id": "18290854",
   "metadata": {},
   "outputs": [
    {
     "data": {
      "text/plain": [
       "Loan_Status          1.000000\n",
       "Credit_History       0.540483\n",
       "Married              0.091478\n",
       "Property_Area        0.032112\n",
       "Gender               0.017987\n",
       "Loan_ID              0.011773\n",
       "Dependents           0.010118\n",
       "Self_Employed       -0.003700\n",
       "ApplicantIncome     -0.004710\n",
       "Loan_Amount_Term    -0.020974\n",
       "LoanAmount          -0.036416\n",
       "CoapplicantIncome   -0.059187\n",
       "Education           -0.085884\n",
       "Name: Loan_Status, dtype: float64"
      ]
     },
     "execution_count": 130,
     "metadata": {},
     "output_type": "execute_result"
    }
   ],
   "source": [
    "df.corr()['Loan_Status'].sort_values(ascending=False)"
   ]
  },
  {
   "cell_type": "code",
   "execution_count": 131,
   "id": "c9dd24fb",
   "metadata": {},
   "outputs": [],
   "source": [
    "# Now importing some libraries for visualisation of Data"
   ]
  },
  {
   "cell_type": "code",
   "execution_count": 132,
   "id": "828a6da8",
   "metadata": {},
   "outputs": [],
   "source": [
    "import seaborn as sns\n",
    "import matplotlib.pyplot as plt"
   ]
  },
  {
   "cell_type": "code",
   "execution_count": 133,
   "id": "b02e3947",
   "metadata": {},
   "outputs": [
    {
     "data": {
      "text/plain": [
       "<AxesSubplot:>"
      ]
     },
     "execution_count": 133,
     "metadata": {},
     "output_type": "execute_result"
    },
    {
     "data": {
      "image/png": "[encoded data removed]",
      "text/plain": [
       "<Figure size 1080x576 with 2 Axes>"
      ]
     },
     "metadata": {
      "needs_background": "light"
     },
     "output_type": "display_data"
    }
   ],
   "source": [
    "plt.figure(figsize=(15,8))\n",
    "sns.heatmap(df.corr(),annot=True,cmap='Blues')"
   ]
  },
  {
   "cell_type": "code",
   "execution_count": 134,
   "id": "57430062",
   "metadata": {},
   "outputs": [
    {
     "data": {
      "text/plain": [
       "<AxesSubplot:>"
      ]
     },
     "execution_count": 134,
     "metadata": {},
     "output_type": "execute_result"
    },
    {
     "data": {
      "image/png": "[encoded data removed]",
      "text/plain": [
       "<Figure size 1080x576 with 2 Axes>"
      ]
     },
     "metadata": {
      "needs_background": "light"
     },
     "output_type": "display_data"
    }
   ],
   "source": [
    "plt.figure(figsize=(15,8))\n",
    "sns.heatmap(df.describe(),annot=True)"
   ]
  },
  {
   "cell_type": "code",
   "execution_count": 135,
   "id": "100362b9",
   "metadata": {},
   "outputs": [
    {
     "data": {
      "text/plain": [
       "<AxesSubplot:xlabel='Loan_Status', ylabel='Count'>"
      ]
     },
     "execution_count": 135,
     "metadata": {},
     "output_type": "execute_result"
    },
    {
     "data": {
      "image/png": "[encoded data removed]",
      "text/plain": [
       "<Figure size 432x288 with 1 Axes>"
      ]
     },
     "metadata": {
      "needs_background": "light"
     },
     "output_type": "display_data"
    }
   ],
   "source": [
    "sns.histplot(df['Loan_Status'],bins=20)"
   ]
  },
  {
   "cell_type": "code",
   "execution_count": 136,
   "id": "300abaec",
   "metadata": {},
   "outputs": [
    {
     "data": {
      "text/plain": [
       "<AxesSubplot:xlabel='Married', ylabel='Count'>"
      ]
     },
     "execution_count": 136,
     "metadata": {},
     "output_type": "execute_result"
    },
    {
     "data": {
      "image/png": "[encoded data removed]",
      "text/plain": [
       "<Figure size 432x288 with 1 Axes>"
      ]
     },
     "metadata": {
      "needs_background": "light"
     },
     "output_type": "display_data"
    }
   ],
   "source": [
    "sns.histplot(df['Married'])"
   ]
  },
  {
   "cell_type": "code",
   "execution_count": 137,
   "id": "d8d9a895",
   "metadata": {},
   "outputs": [
    {
     "data": {
      "text/plain": [
       "<AxesSubplot:xlabel='Gender', ylabel='Count'>"
      ]
     },
     "execution_count": 137,
     "metadata": {},
     "output_type": "execute_result"
    },
    {
     "data": {
      "image/png": "[encoded data removed]",
      "text/plain": [
       "<Figure size 432x288 with 1 Axes>"
      ]
     },
     "metadata": {
      "needs_background": "light"
     },
     "output_type": "display_data"
    }
   ],
   "source": [
    "sns.histplot(df['Gender'])"
   ]
  },
  {
   "cell_type": "code",
   "execution_count": 138,
   "id": "7af31ffe",
   "metadata": {},
   "outputs": [
    {
     "data": {
      "text/plain": [
       "<AxesSubplot:xlabel='Loan_ID', ylabel='Count'>"
      ]
     },
     "execution_count": 138,
     "metadata": {},
     "output_type": "execute_result"
    },
    {
     "data": {
      "image/png": "[encoded data removed]",
      "text/plain": [
       "<Figure size 432x288 with 1 Axes>"
      ]
     },
     "metadata": {
      "needs_background": "light"
     },
     "output_type": "display_data"
    }
   ],
   "source": [
    "sns.histplot(df['Loan_ID'],bins=30,color='darkorange')"
   ]
  },
  {
   "cell_type": "code",
   "execution_count": 139,
   "id": "834539e1",
   "metadata": {},
   "outputs": [
    {
     "data": {
      "text/plain": [
       "<AxesSubplot:xlabel='Education', ylabel='Count'>"
      ]
     },
     "execution_count": 139,
     "metadata": {},
     "output_type": "execute_result"
    },
    {
     "data": {
      "image/png": "[encoded data removed]",
      "text/plain": [
       "<Figure size 432x288 with 1 Axes>"
      ]
     },
     "metadata": {
      "needs_background": "light"
     },
     "output_type": "display_data"
    }
   ],
   "source": [
    "sns.histplot(x='Education',data=df,hue='Loan_Status')"
   ]
  },
  {
   "cell_type": "code",
   "execution_count": 140,
   "id": "05c81c96",
   "metadata": {},
   "outputs": [],
   "source": [
    "# People Who are More Educated are getting Loans more than people who are less Educated"
   ]
  },
  {
   "cell_type": "code",
   "execution_count": 141,
   "id": "0ea37a75",
   "metadata": {},
   "outputs": [
    {
     "data": {
      "text/plain": [
       "<AxesSubplot:xlabel='Loan_Status', ylabel='Count'>"
      ]
     },
     "execution_count": 141,
     "metadata": {},
     "output_type": "execute_result"
    },
    {
     "data": {
      "image/png": "[encoded data removed]",
      "text/plain": [
       "<Figure size 432x288 with 1 Axes>"
      ]
     },
     "metadata": {
      "needs_background": "light"
     },
     "output_type": "display_data"
    }
   ],
   "source": [
    "sns.histplot(x='Loan_Status',data=df,hue='Married')"
   ]
  },
  {
   "cell_type": "code",
   "execution_count": 142,
   "id": "3f9f24f9",
   "metadata": {},
   "outputs": [],
   "source": [
    "# Married People Getting more Loans than unmarried people"
   ]
  },
  {
   "cell_type": "code",
   "execution_count": 143,
   "id": "443e8b20",
   "metadata": {},
   "outputs": [
    {
     "data": {
      "text/plain": [
       "<AxesSubplot:xlabel='Dependents', ylabel='Count'>"
      ]
     },
     "execution_count": 143,
     "metadata": {},
     "output_type": "execute_result"
    },
    {
     "data": {
      "image/png": "[encoded data removed]",
      "text/plain": [
       "<Figure size 432x288 with 1 Axes>"
      ]
     },
     "metadata": {
      "needs_background": "light"
     },
     "output_type": "display_data"
    }
   ],
   "source": [
    "sns.histplot(x='Dependents',data=df,hue='Loan_Status')"
   ]
  },
  {
   "cell_type": "code",
   "execution_count": 144,
   "id": "2ef46ec0",
   "metadata": {},
   "outputs": [],
   "source": [
    "# So People having 0 dependants are having more loans followed by people having 2 and 1 dependents and people having 3+ dependents are getting least Loans"
   ]
  },
  {
   "cell_type": "code",
   "execution_count": 145,
   "id": "8f579bd6",
   "metadata": {},
   "outputs": [
    {
     "data": {
      "text/plain": [
       "<AxesSubplot:xlabel='Credit_History', ylabel='Count'>"
      ]
     },
     "execution_count": 145,
     "metadata": {},
     "output_type": "execute_result"
    },
    {
     "data": {
      "image/png": "[encoded data removed]",
      "text/plain": [
       "<Figure size 432x288 with 1 Axes>"
      ]
     },
     "metadata": {
      "needs_background": "light"
     },
     "output_type": "display_data"
    }
   ],
   "source": [
    "sns.histplot(x='Credit_History',data=df,hue='Loan_Status')"
   ]
  },
  {
   "cell_type": "code",
   "execution_count": 146,
   "id": "9daf7b0b",
   "metadata": {},
   "outputs": [],
   "source": [
    "# So People having a good credit history are having a Higher Chance for Loan Than people not having creditHistory"
   ]
  },
  {
   "cell_type": "code",
   "execution_count": 205,
   "id": "3e3ba10f",
   "metadata": {},
   "outputs": [
    {
     "data": {
      "text/plain": [
       "<AxesSubplot:xlabel='Self_Employed', ylabel='Count'>"
      ]
     },
     "execution_count": 205,
     "metadata": {},
     "output_type": "execute_result"
    },
    {
     "data": {
      "image/png": "[encoded data removed]",
      "text/plain": [
       "<Figure size 432x288 with 1 Axes>"
      ]
     },
     "metadata": {
      "needs_background": "light"
     },
     "output_type": "display_data"
    }
   ],
   "source": [
    "sns.histplot(x='Self_Employed',data=df,hue='Loan_Status')"
   ]
  },
  {
   "cell_type": "code",
   "execution_count": 206,
   "id": "0ff42b9e",
   "metadata": {},
   "outputs": [],
   "source": [
    "# Self Employed people has less chance of Loan Approval than Non self Employed people"
   ]
  },
  {
   "cell_type": "code",
   "execution_count": 147,
   "id": "de6281a3",
   "metadata": {},
   "outputs": [],
   "source": [
    "# Now Lets do some Bivariate Analysis"
   ]
  },
  {
   "cell_type": "code",
   "execution_count": 148,
   "id": "79bc9eb6",
   "metadata": {},
   "outputs": [
    {
     "data": {
      "text/plain": [
       "<AxesSubplot:xlabel='Married', ylabel='Loan_Status'>"
      ]
     },
     "execution_count": 148,
     "metadata": {},
     "output_type": "execute_result"
    },
    {
     "data": {
      "image/png": "[encoded data removed]",
      "text/plain": [
       "<Figure size 432x288 with 1 Axes>"
      ]
     },
     "metadata": {
      "needs_background": "light"
     },
     "output_type": "display_data"
    }
   ],
   "source": [
    "sns.barplot(y='Loan_Status',x='Married',data=df)"
   ]
  },
  {
   "cell_type": "code",
   "execution_count": 149,
   "id": "51200278",
   "metadata": {},
   "outputs": [
    {
     "data": {
      "text/plain": [
       "<AxesSubplot:xlabel='Education', ylabel='Loan_Status'>"
      ]
     },
     "execution_count": 149,
     "metadata": {},
     "output_type": "execute_result"
    },
    {
     "data": {
      "image/png": "[encoded data removed]",
      "text/plain": [
       "<Figure size 432x288 with 1 Axes>"
      ]
     },
     "metadata": {
      "needs_background": "light"
     },
     "output_type": "display_data"
    }
   ],
   "source": [
    "sns.barplot(x='Education',y='Loan_Status',data=df)"
   ]
  },
  {
   "cell_type": "code",
   "execution_count": 150,
   "id": "3519cbfa",
   "metadata": {},
   "outputs": [],
   "source": [
    "# Again More Educated People have high chance for loan approval than people who are less educated"
   ]
  },
  {
   "cell_type": "code",
   "execution_count": 151,
   "id": "52784ae8",
   "metadata": {},
   "outputs": [
    {
     "data": {
      "text/plain": [
       "<AxesSubplot:xlabel='Credit_History', ylabel='Loan_Status'>"
      ]
     },
     "execution_count": 151,
     "metadata": {},
     "output_type": "execute_result"
    },
    {
     "data": {
      "image/png": "[encoded data removed]",
      "text/plain": [
       "<Figure size 432x288 with 1 Axes>"
      ]
     },
     "metadata": {
      "needs_background": "light"
     },
     "output_type": "display_data"
    }
   ],
   "source": [
    "sns.barplot(y='Loan_Status',x='Credit_History',data=df)"
   ]
  },
  {
   "cell_type": "code",
   "execution_count": 152,
   "id": "dca347c0",
   "metadata": {},
   "outputs": [],
   "source": [
    "# So People having credit history have more chance of loan approval than people having no credit History"
   ]
  },
  {
   "cell_type": "code",
   "execution_count": 153,
   "id": "ed36211c",
   "metadata": {},
   "outputs": [
    {
     "data": {
      "text/plain": [
       "<AxesSubplot:xlabel='Property_Area', ylabel='Loan_Status'>"
      ]
     },
     "execution_count": 153,
     "metadata": {},
     "output_type": "execute_result"
    },
    {
     "data": {
      "image/png": "[encoded data removed]",
      "text/plain": [
       "<Figure size 432x288 with 1 Axes>"
      ]
     },
     "metadata": {
      "needs_background": "light"
     },
     "output_type": "display_data"
    }
   ],
   "source": [
    "sns.barplot(y='Loan_Status',x='Property_Area',data=df)"
   ]
  },
  {
   "cell_type": "code",
   "execution_count": 154,
   "id": "640b9eea",
   "metadata": {},
   "outputs": [],
   "source": [
    "# 2=urban\n",
    "# 0=rural\n",
    "# 1=Semiurban\n",
    "\n",
    "# So People of Semiurban have higher chance for Loan_approval followed by urban and then rural people "
   ]
  },
  {
   "cell_type": "code",
   "execution_count": 207,
   "id": "1a18759e",
   "metadata": {},
   "outputs": [
    {
     "data": {
      "text/plain": [
       "<AxesSubplot:xlabel='Self_Employed', ylabel='Loan_Status'>"
      ]
     },
     "execution_count": 207,
     "metadata": {},
     "output_type": "execute_result"
    },
    {
     "data": {
      "image/png": "[encoded data removed]",
      "text/plain": [
       "<Figure size 432x288 with 1 Axes>"
      ]
     },
     "metadata": {
      "needs_background": "light"
     },
     "output_type": "display_data"
    }
   ],
   "source": [
    "sns.barplot(y='Loan_Status',x='Self_Employed',data=df)"
   ]
  },
  {
   "cell_type": "code",
   "execution_count": 208,
   "id": "aa62e9bd",
   "metadata": {},
   "outputs": [],
   "source": [
    "# People who are not self Employed have slightly higher chance of loan approval than people  who are self employed "
   ]
  },
  {
   "cell_type": "code",
   "execution_count": 90,
   "id": "731ecb2c",
   "metadata": {},
   "outputs": [],
   "source": [
    "# Now Writing a programme to check the distribution function"
   ]
  },
  {
   "cell_type": "code",
   "execution_count": 155,
   "id": "6bb217af",
   "metadata": {},
   "outputs": [
    {
     "data": {
      "image/png": "[encoded data removed]",
      "text/plain": [
       "<Figure size 432x288 with 1 Axes>"
      ]
     },
     "metadata": {
      "needs_background": "light"
     },
     "output_type": "display_data"
    },
    {
     "data": {
      "image/png": "[encoded data removed]",
      "text/plain": [
       "<Figure size 432x288 with 1 Axes>"
      ]
     },
     "metadata": {
      "needs_background": "light"
     },
     "output_type": "display_data"
    },
    {
     "data": {
      "image/png": "[encoded data removed]",
      "text/plain": [
       "<Figure size 432x288 with 1 Axes>"
      ]
     },
     "metadata": {
      "needs_background": "light"
     },
     "output_type": "display_data"
    },
    {
     "data": {
      "image/png": "[encoded data removed]",
      "text/plain": [
       "<Figure size 432x288 with 1 Axes>"
      ]
     },
     "metadata": {
      "needs_background": "light"
     },
     "output_type": "display_data"
    },
    {
     "data": {
      "image/png": "[encoded data removed]",
      "text/plain": [
       "<Figure size 432x288 with 1 Axes>"
      ]
     },
     "metadata": {
      "needs_background": "light"
     },
     "output_type": "display_data"
    },
    {
     "data": {
      "image/png": "[encoded data removed]",
      "text/plain": [
       "<Figure size 432x288 with 1 Axes>"
      ]
     },
     "metadata": {
      "needs_background": "light"
     },
     "output_type": "display_data"
    },
    {
     "data": {
      "image/png": "[encoded data removed]",
      "text/plain": [
       "<Figure size 432x288 with 1 Axes>"
      ]
     },
     "metadata": {
      "needs_background": "light"
     },
     "output_type": "display_data"
    },
    {
     "data": {
      "image/png": "[encoded data removed]",
      "text/plain": [
       "<Figure size 432x288 with 1 Axes>"
      ]
     },
     "metadata": {
      "needs_background": "light"
     },
     "output_type": "display_data"
    },
    {
     "data": {
      "image/png": "[encoded data removed]",
      "text/plain": [
       "<Figure size 432x288 with 1 Axes>"
      ]
     },
     "metadata": {
      "needs_background": "light"
     },
     "output_type": "display_data"
    },
    {
     "data": {
      "image/png": "[encoded data removed]",
      "text/plain": [
       "<Figure size 432x288 with 1 Axes>"
      ]
     },
     "metadata": {
      "needs_background": "light"
     },
     "output_type": "display_data"
    },
    {
     "data": {
      "image/png": "[encoded data removed]",
      "text/plain": [
       "<Figure size 432x288 with 1 Axes>"
      ]
     },
     "metadata": {
      "needs_background": "light"
     },
     "output_type": "display_data"
    },
    {
     "data": {
      "image/png": "[encoded data removed]",
      "text/plain": [
       "<Figure size 432x288 with 1 Axes>"
      ]
     },
     "metadata": {
      "needs_background": "light"
     },
     "output_type": "display_data"
    },
    {
     "data": {
      "image/png": "[encoded data removed]",
      "text/plain": [
       "<Figure size 432x288 with 1 Axes>"
      ]
     },
     "metadata": {
      "needs_background": "light"
     },
     "output_type": "display_data"
    }
   ],
   "source": [
    "for i in df:\n",
    "    sns.distplot(df[i])\n",
    "    plt.show()"
   ]
  },
  {
   "cell_type": "code",
   "execution_count": 156,
   "id": "0237f75f",
   "metadata": {},
   "outputs": [],
   "source": [
    "# From above Graphs we can see that they are not normally distributed and some skewness is also present"
   ]
  },
  {
   "cell_type": "code",
   "execution_count": 157,
   "id": "c3e56c55",
   "metadata": {},
   "outputs": [],
   "source": [
    "# Now lets see if some outliers are present"
   ]
  },
  {
   "cell_type": "code",
   "execution_count": 158,
   "id": "fc7f8951",
   "metadata": {},
   "outputs": [
    {
     "data": {
      "text/plain": [
       "Loan_ID                int32\n",
       "Gender                 int32\n",
       "Married                int32\n",
       "Dependents             int32\n",
       "Education              int32\n",
       "Self_Employed          int32\n",
       "ApplicantIncome        int64\n",
       "CoapplicantIncome    float64\n",
       "LoanAmount           float64\n",
       "Loan_Amount_Term     float64\n",
       "Credit_History       float64\n",
       "Property_Area          int32\n",
       "Loan_Status            int32\n",
       "dtype: object"
      ]
     },
     "execution_count": 158,
     "metadata": {},
     "output_type": "execute_result"
    }
   ],
   "source": [
    "df.dtypes"
   ]
  },
  {
   "cell_type": "code",
   "execution_count": 160,
   "id": "e572894a",
   "metadata": {},
   "outputs": [
    {
     "data": {
      "image/png": "[encoded data removed]",
      "text/plain": [
       "<Figure size 432x288 with 1 Axes>"
      ]
     },
     "metadata": {
      "needs_background": "light"
     },
     "output_type": "display_data"
    }
   ],
   "source": [
    "plt.boxplot(df)\n",
    "plt.show()"
   ]
  },
  {
   "cell_type": "code",
   "execution_count": 161,
   "id": "52c7624a",
   "metadata": {},
   "outputs": [],
   "source": [
    "# Now Lets See each Column individually"
   ]
  },
  {
   "cell_type": "code",
   "execution_count": 163,
   "id": "3aa8bdfb",
   "metadata": {},
   "outputs": [
    {
     "data": {
      "image/png": "[encoded data removed]",
      "text/plain": [
       "<Figure size 432x288 with 1 Axes>"
      ]
     },
     "metadata": {
      "needs_background": "light"
     },
     "output_type": "display_data"
    },
    {
     "data": {
      "image/png": "[encoded data removed]",
      "text/plain": [
       "<Figure size 432x288 with 1 Axes>"
      ]
     },
     "metadata": {
      "needs_background": "light"
     },
     "output_type": "display_data"
    },
    {
     "data": {
      "image/png": "[encoded data removed]",
      "text/plain": [
       "<Figure size 432x288 with 1 Axes>"
      ]
     },
     "metadata": {
      "needs_background": "light"
     },
     "output_type": "display_data"
    },
    {
     "data": {
      "image/png": "[encoded data removed]",
      "text/plain": [
       "<Figure size 432x288 with 1 Axes>"
      ]
     },
     "metadata": {
      "needs_background": "light"
     },
     "output_type": "display_data"
    },
    {
     "data": {
      "image/png": "[encoded data removed]",
      "text/plain": [
       "<Figure size 432x288 with 1 Axes>"
      ]
     },
     "metadata": {
      "needs_background": "light"
     },
     "output_type": "display_data"
    },
    {
     "data": {
      "image/png": "[encoded data removed]",
      "text/plain": [
       "<Figure size 432x288 with 1 Axes>"
      ]
     },
     "metadata": {
      "needs_background": "light"
     },
     "output_type": "display_data"
    },
    {
     "data": {
      "image/png": "[encoded data removed]",
      "text/plain": [
       "<Figure size 432x288 with 1 Axes>"
      ]
     },
     "metadata": {
      "needs_background": "light"
     },
     "output_type": "display_data"
    },
    {
     "data": {
      "image/png": "[encoded data removed]",
      "text/plain": [
       "<Figure size 432x288 with 1 Axes>"
      ]
     },
     "metadata": {
      "needs_background": "light"
     },
     "output_type": "display_data"
    },
    {
     "data": {
      "image/png": "[encoded data removed]",
      "text/plain": [
       "<Figure size 432x288 with 1 Axes>"
      ]
     },
     "metadata": {
      "needs_background": "light"
     },
     "output_type": "display_data"
    },
    {
     "data": {
      "image/png": "[encoded data removed]",
      "text/plain": [
       "<Figure size 432x288 with 1 Axes>"
      ]
     },
     "metadata": {
      "needs_background": "light"
     },
     "output_type": "display_data"
    },
    {
     "data": {
      "image/png": "[encoded data removed]",
      "text/plain": [
       "<Figure size 432x288 with 1 Axes>"
      ]
     },
     "metadata": {
      "needs_background": "light"
     },
     "output_type": "display_data"
    },
    {
     "data": {
      "image/png": "[encoded data removed]",
      "text/plain": [
       "<Figure size 432x288 with 1 Axes>"
      ]
     },
     "metadata": {
      "needs_background": "light"
     },
     "output_type": "display_data"
    },
    {
     "data": {
      "image/png": "[encoded data removed]",
      "text/plain": [
       "<Figure size 432x288 with 1 Axes>"
      ]
     },
     "metadata": {
      "needs_background": "light"
     },
     "output_type": "display_data"
    }
   ],
   "source": [
    "for i in df:\n",
    "    plt.boxplot(df[i])\n",
    "    plt.show()"
   ]
  },
  {
   "cell_type": "code",
   "execution_count": 164,
   "id": "ffb388a6",
   "metadata": {},
   "outputs": [],
   "source": [
    "# So it is clear that there are some outliers present"
   ]
  },
  {
   "cell_type": "code",
   "execution_count": 165,
   "id": "3471c208",
   "metadata": {},
   "outputs": [],
   "source": [
    "# Now Removing these outliers using ZScore"
   ]
  },
  {
   "cell_type": "code",
   "execution_count": 166,
   "id": "a41e4027",
   "metadata": {},
   "outputs": [],
   "source": [
    "from scipy.stats import zscore"
   ]
  },
  {
   "cell_type": "code",
   "execution_count": 167,
   "id": "42862ff1",
   "metadata": {},
   "outputs": [],
   "source": [
    "z=np.abs(zscore(df))"
   ]
  },
  {
   "cell_type": "code",
   "execution_count": 168,
   "id": "d967777c",
   "metadata": {},
   "outputs": [
    {
     "data": {
      "text/plain": [
       "(array([  9,  14,  68,  94, 126, 130, 133, 155, 155, 171, 171, 177, 177,\n",
       "        183, 185, 242, 262, 278, 308, 313, 333, 333, 369, 402, 409, 417,\n",
       "        432, 443, 487, 495, 497, 506, 523, 525, 546, 561, 575, 581, 585,\n",
       "        600, 604], dtype=int64),\n",
       " array([7, 9, 9, 9, 6, 8, 9, 6, 8, 6, 8, 7, 8, 6, 6, 9, 9, 8, 8, 9, 6, 8,\n",
       "        8, 7, 6, 7, 8, 6, 8, 9, 9, 8, 8, 8, 9, 8, 9, 7, 9, 7, 8],\n",
       "       dtype=int64))"
      ]
     },
     "execution_count": 168,
     "metadata": {},
     "output_type": "execute_result"
    }
   ],
   "source": [
    "np.where(z>3)"
   ]
  },
  {
   "cell_type": "code",
   "execution_count": 169,
   "id": "7c743f4e",
   "metadata": {},
   "outputs": [],
   "source": [
    "df=df[(z<3).all(axis=1)]"
   ]
  },
  {
   "cell_type": "code",
   "execution_count": 170,
   "id": "e426d751",
   "metadata": {},
   "outputs": [
    {
     "data": {
      "text/html": [
       "<div>\n",
       "<style scoped>\n",
       "    .dataframe tbody tr th:only-of-type {\n",
       "        vertical-align: middle;\n",
       "    }\n",
       "\n",
       "    .dataframe tbody tr th {\n",
       "        vertical-align: top;\n",
       "    }\n",
       "\n",
       "    .dataframe thead th {\n",
       "        text-align: right;\n",
       "    }\n",
       "</style>\n",
       "<table border=\"1\" class=\"dataframe\">\n",
       "  <thead>\n",
       "    <tr style=\"text-align: right;\">\n",
       "      <th></th>\n",
       "      <th>Loan_ID</th>\n",
       "      <th>Gender</th>\n",
       "      <th>Married</th>\n",
       "      <th>Dependents</th>\n",
       "      <th>Education</th>\n",
       "      <th>Self_Employed</th>\n",
       "      <th>ApplicantIncome</th>\n",
       "      <th>CoapplicantIncome</th>\n",
       "      <th>LoanAmount</th>\n",
       "      <th>Loan_Amount_Term</th>\n",
       "      <th>Credit_History</th>\n",
       "      <th>Property_Area</th>\n",
       "      <th>Loan_Status</th>\n",
       "    </tr>\n",
       "  </thead>\n",
       "  <tbody>\n",
       "    <tr>\n",
       "      <th>0</th>\n",
       "      <td>0</td>\n",
       "      <td>1</td>\n",
       "      <td>0</td>\n",
       "      <td>0</td>\n",
       "      <td>0</td>\n",
       "      <td>0</td>\n",
       "      <td>5849</td>\n",
       "      <td>0.0</td>\n",
       "      <td>146.412162</td>\n",
       "      <td>360.0</td>\n",
       "      <td>1.0</td>\n",
       "      <td>2</td>\n",
       "      <td>1</td>\n",
       "    </tr>\n",
       "    <tr>\n",
       "      <th>1</th>\n",
       "      <td>1</td>\n",
       "      <td>1</td>\n",
       "      <td>1</td>\n",
       "      <td>1</td>\n",
       "      <td>0</td>\n",
       "      <td>0</td>\n",
       "      <td>4583</td>\n",
       "      <td>1508.0</td>\n",
       "      <td>128.000000</td>\n",
       "      <td>360.0</td>\n",
       "      <td>1.0</td>\n",
       "      <td>0</td>\n",
       "      <td>0</td>\n",
       "    </tr>\n",
       "    <tr>\n",
       "      <th>2</th>\n",
       "      <td>2</td>\n",
       "      <td>1</td>\n",
       "      <td>1</td>\n",
       "      <td>0</td>\n",
       "      <td>0</td>\n",
       "      <td>1</td>\n",
       "      <td>3000</td>\n",
       "      <td>0.0</td>\n",
       "      <td>66.000000</td>\n",
       "      <td>360.0</td>\n",
       "      <td>1.0</td>\n",
       "      <td>2</td>\n",
       "      <td>1</td>\n",
       "    </tr>\n",
       "    <tr>\n",
       "      <th>3</th>\n",
       "      <td>3</td>\n",
       "      <td>1</td>\n",
       "      <td>1</td>\n",
       "      <td>0</td>\n",
       "      <td>1</td>\n",
       "      <td>0</td>\n",
       "      <td>2583</td>\n",
       "      <td>2358.0</td>\n",
       "      <td>120.000000</td>\n",
       "      <td>360.0</td>\n",
       "      <td>1.0</td>\n",
       "      <td>2</td>\n",
       "      <td>1</td>\n",
       "    </tr>\n",
       "    <tr>\n",
       "      <th>4</th>\n",
       "      <td>4</td>\n",
       "      <td>1</td>\n",
       "      <td>0</td>\n",
       "      <td>0</td>\n",
       "      <td>0</td>\n",
       "      <td>0</td>\n",
       "      <td>6000</td>\n",
       "      <td>0.0</td>\n",
       "      <td>141.000000</td>\n",
       "      <td>360.0</td>\n",
       "      <td>1.0</td>\n",
       "      <td>2</td>\n",
       "      <td>1</td>\n",
       "    </tr>\n",
       "    <tr>\n",
       "      <th>...</th>\n",
       "      <td>...</td>\n",
       "      <td>...</td>\n",
       "      <td>...</td>\n",
       "      <td>...</td>\n",
       "      <td>...</td>\n",
       "      <td>...</td>\n",
       "      <td>...</td>\n",
       "      <td>...</td>\n",
       "      <td>...</td>\n",
       "      <td>...</td>\n",
       "      <td>...</td>\n",
       "      <td>...</td>\n",
       "      <td>...</td>\n",
       "    </tr>\n",
       "    <tr>\n",
       "      <th>609</th>\n",
       "      <td>609</td>\n",
       "      <td>0</td>\n",
       "      <td>0</td>\n",
       "      <td>0</td>\n",
       "      <td>0</td>\n",
       "      <td>0</td>\n",
       "      <td>2900</td>\n",
       "      <td>0.0</td>\n",
       "      <td>71.000000</td>\n",
       "      <td>360.0</td>\n",
       "      <td>1.0</td>\n",
       "      <td>0</td>\n",
       "      <td>1</td>\n",
       "    </tr>\n",
       "    <tr>\n",
       "      <th>610</th>\n",
       "      <td>610</td>\n",
       "      <td>1</td>\n",
       "      <td>1</td>\n",
       "      <td>3</td>\n",
       "      <td>0</td>\n",
       "      <td>0</td>\n",
       "      <td>4106</td>\n",
       "      <td>0.0</td>\n",
       "      <td>40.000000</td>\n",
       "      <td>180.0</td>\n",
       "      <td>1.0</td>\n",
       "      <td>0</td>\n",
       "      <td>1</td>\n",
       "    </tr>\n",
       "    <tr>\n",
       "      <th>611</th>\n",
       "      <td>611</td>\n",
       "      <td>1</td>\n",
       "      <td>1</td>\n",
       "      <td>1</td>\n",
       "      <td>0</td>\n",
       "      <td>0</td>\n",
       "      <td>8072</td>\n",
       "      <td>240.0</td>\n",
       "      <td>253.000000</td>\n",
       "      <td>360.0</td>\n",
       "      <td>1.0</td>\n",
       "      <td>2</td>\n",
       "      <td>1</td>\n",
       "    </tr>\n",
       "    <tr>\n",
       "      <th>612</th>\n",
       "      <td>612</td>\n",
       "      <td>1</td>\n",
       "      <td>1</td>\n",
       "      <td>2</td>\n",
       "      <td>0</td>\n",
       "      <td>0</td>\n",
       "      <td>7583</td>\n",
       "      <td>0.0</td>\n",
       "      <td>187.000000</td>\n",
       "      <td>360.0</td>\n",
       "      <td>1.0</td>\n",
       "      <td>2</td>\n",
       "      <td>1</td>\n",
       "    </tr>\n",
       "    <tr>\n",
       "      <th>613</th>\n",
       "      <td>613</td>\n",
       "      <td>0</td>\n",
       "      <td>0</td>\n",
       "      <td>0</td>\n",
       "      <td>0</td>\n",
       "      <td>1</td>\n",
       "      <td>4583</td>\n",
       "      <td>0.0</td>\n",
       "      <td>133.000000</td>\n",
       "      <td>360.0</td>\n",
       "      <td>0.0</td>\n",
       "      <td>1</td>\n",
       "      <td>0</td>\n",
       "    </tr>\n",
       "  </tbody>\n",
       "</table>\n",
       "<p>577 rows × 13 columns</p>\n",
       "</div>"
      ],
      "text/plain": [
       "     Loan_ID  Gender  Married  Dependents  Education  Self_Employed  \\\n",
       "0          0       1        0           0          0              0   \n",
       "1          1       1        1           1          0              0   \n",
       "2          2       1        1           0          0              1   \n",
       "3          3       1        1           0          1              0   \n",
       "4          4       1        0           0          0              0   \n",
       "..       ...     ...      ...         ...        ...            ...   \n",
       "609      609       0        0           0          0              0   \n",
       "610      610       1        1           3          0              0   \n",
       "611      611       1        1           1          0              0   \n",
       "612      612       1        1           2          0              0   \n",
       "613      613       0        0           0          0              1   \n",
       "\n",
       "     ApplicantIncome  CoapplicantIncome  LoanAmount  Loan_Amount_Term  \\\n",
       "0               5849                0.0  146.412162             360.0   \n",
       "1               4583             1508.0  128.000000             360.0   \n",
       "2               3000                0.0   66.000000             360.0   \n",
       "3               2583             2358.0  120.000000             360.0   \n",
       "4               6000                0.0  141.000000             360.0   \n",
       "..               ...                ...         ...               ...   \n",
       "609             2900                0.0   71.000000             360.0   \n",
       "610             4106                0.0   40.000000             180.0   \n",
       "611             8072              240.0  253.000000             360.0   \n",
       "612             7583                0.0  187.000000             360.0   \n",
       "613             4583                0.0  133.000000             360.0   \n",
       "\n",
       "     Credit_History  Property_Area  Loan_Status  \n",
       "0               1.0              2            1  \n",
       "1               1.0              0            0  \n",
       "2               1.0              2            1  \n",
       "3               1.0              2            1  \n",
       "4               1.0              2            1  \n",
       "..              ...            ...          ...  \n",
       "609             1.0              0            1  \n",
       "610             1.0              0            1  \n",
       "611             1.0              2            1  \n",
       "612             1.0              2            1  \n",
       "613             0.0              1            0  \n",
       "\n",
       "[577 rows x 13 columns]"
      ]
     },
     "execution_count": 170,
     "metadata": {},
     "output_type": "execute_result"
    }
   ],
   "source": [
    "df"
   ]
  },
  {
   "cell_type": "code",
   "execution_count": 171,
   "id": "1a27b099",
   "metadata": {},
   "outputs": [],
   "source": [
    "# Now Lets CHeck DataLoss Percentage"
   ]
  },
  {
   "cell_type": "code",
   "execution_count": 172,
   "id": "59107198",
   "metadata": {},
   "outputs": [],
   "source": [
    "loss_per=(614-577)/614*100"
   ]
  },
  {
   "cell_type": "code",
   "execution_count": 174,
   "id": "f12d1dff",
   "metadata": {},
   "outputs": [
    {
     "name": "stdout",
     "output_type": "stream",
     "text": [
      " Data Loss is 6.026058631921824 Percent\n"
     ]
    }
   ],
   "source": [
    "print(' Data Loss is',loss_per,'Percent')"
   ]
  },
  {
   "cell_type": "code",
   "execution_count": 175,
   "id": "45b9d1cb",
   "metadata": {},
   "outputs": [],
   "source": [
    "# So only 6 percent Data is lost after removing Outliers"
   ]
  },
  {
   "cell_type": "code",
   "execution_count": 176,
   "id": "00fa857e",
   "metadata": {},
   "outputs": [
    {
     "data": {
      "text/plain": [
       "<AxesSubplot:xlabel='Loan_Status', ylabel='count'>"
      ]
     },
     "execution_count": 176,
     "metadata": {},
     "output_type": "execute_result"
    },
    {
     "data": {
      "image/png": "[encoded data removed]",
      "text/plain": [
       "<Figure size 432x288 with 1 Axes>"
      ]
     },
     "metadata": {
      "needs_background": "light"
     },
     "output_type": "display_data"
    }
   ],
   "source": [
    "sns.countplot(df['Loan_Status'])"
   ]
  },
  {
   "cell_type": "code",
   "execution_count": 177,
   "id": "86e0dddc",
   "metadata": {},
   "outputs": [],
   "source": [
    "# Clearly we can see that our Data is Imbalanced and balancing is required"
   ]
  },
  {
   "cell_type": "code",
   "execution_count": 357,
   "id": "41cf4ecd",
   "metadata": {},
   "outputs": [],
   "source": [
    "x=df.iloc[:,:12]"
   ]
  },
  {
   "cell_type": "code",
   "execution_count": 358,
   "id": "0fec5a86",
   "metadata": {},
   "outputs": [
    {
     "data": {
      "text/plain": [
       "(577, 12)"
      ]
     },
     "execution_count": 358,
     "metadata": {},
     "output_type": "execute_result"
    }
   ],
   "source": [
    "x.shape"
   ]
  },
  {
   "cell_type": "code",
   "execution_count": 359,
   "id": "b8d51b16",
   "metadata": {},
   "outputs": [],
   "source": [
    "y=df.iloc[:,12]"
   ]
  },
  {
   "cell_type": "code",
   "execution_count": 360,
   "id": "9e4ce365",
   "metadata": {},
   "outputs": [
    {
     "data": {
      "text/plain": [
       "(577,)"
      ]
     },
     "execution_count": 360,
     "metadata": {},
     "output_type": "execute_result"
    }
   ],
   "source": [
    "y.shape"
   ]
  },
  {
   "cell_type": "code",
   "execution_count": 361,
   "id": "df45459d",
   "metadata": {},
   "outputs": [],
   "source": [
    "from imblearn.over_sampling import SMOTE"
   ]
  },
  {
   "cell_type": "code",
   "execution_count": 362,
   "id": "5a327afd",
   "metadata": {},
   "outputs": [],
   "source": [
    "smt=SMOTE()"
   ]
  },
  {
   "cell_type": "code",
   "execution_count": 363,
   "id": "b4845313",
   "metadata": {},
   "outputs": [],
   "source": [
    "x,y=smt.fit_resample(x,y)"
   ]
  },
  {
   "cell_type": "code",
   "execution_count": 364,
   "id": "8f356c85",
   "metadata": {},
   "outputs": [
    {
     "data": {
      "text/plain": [
       "(796, 12)"
      ]
     },
     "execution_count": 364,
     "metadata": {},
     "output_type": "execute_result"
    }
   ],
   "source": [
    "x.shape"
   ]
  },
  {
   "cell_type": "code",
   "execution_count": 365,
   "id": "a79efc19",
   "metadata": {},
   "outputs": [
    {
     "data": {
      "text/plain": [
       "(796,)"
      ]
     },
     "execution_count": 365,
     "metadata": {},
     "output_type": "execute_result"
    }
   ],
   "source": [
    "y.shape"
   ]
  },
  {
   "cell_type": "code",
   "execution_count": 366,
   "id": "11e204bf",
   "metadata": {},
   "outputs": [],
   "source": [
    "# Now our Dataset is Balanced"
   ]
  },
  {
   "cell_type": "code",
   "execution_count": 367,
   "id": "fcb7aa58",
   "metadata": {},
   "outputs": [],
   "source": [
    "# Now Lets Check for multi collinearity"
   ]
  },
  {
   "cell_type": "code",
   "execution_count": 368,
   "id": "a1545af7",
   "metadata": {},
   "outputs": [],
   "source": [
    "from statsmodels.stats.outliers_influence import variance_inflation_factor "
   ]
  },
  {
   "cell_type": "code",
   "execution_count": 369,
   "id": "ea8bb0ab",
   "metadata": {},
   "outputs": [],
   "source": [
    "def cal_vif(x):\n",
    "    vif=pd.DataFrame()\n",
    "    vif['Variables']=x.columns\n",
    "    vif['VIF']=[variance_inflation_factor(x.values,i) for i in range(x.shape[1])]\n",
    "    return (vif)"
   ]
  },
  {
   "cell_type": "code",
   "execution_count": 370,
   "id": "d47d6921",
   "metadata": {},
   "outputs": [
    {
     "data": {
      "text/html": [
       "<div>\n",
       "<style scoped>\n",
       "    .dataframe tbody tr th:only-of-type {\n",
       "        vertical-align: middle;\n",
       "    }\n",
       "\n",
       "    .dataframe tbody tr th {\n",
       "        vertical-align: top;\n",
       "    }\n",
       "\n",
       "    .dataframe thead th {\n",
       "        text-align: right;\n",
       "    }\n",
       "</style>\n",
       "<table border=\"1\" class=\"dataframe\">\n",
       "  <thead>\n",
       "    <tr style=\"text-align: right;\">\n",
       "      <th></th>\n",
       "      <th>Variables</th>\n",
       "      <th>VIF</th>\n",
       "    </tr>\n",
       "  </thead>\n",
       "  <tbody>\n",
       "    <tr>\n",
       "      <th>0</th>\n",
       "      <td>Loan_ID</td>\n",
       "      <td>3.982938</td>\n",
       "    </tr>\n",
       "    <tr>\n",
       "      <th>1</th>\n",
       "      <td>Gender</td>\n",
       "      <td>5.331409</td>\n",
       "    </tr>\n",
       "    <tr>\n",
       "      <th>2</th>\n",
       "      <td>Married</td>\n",
       "      <td>3.207209</td>\n",
       "    </tr>\n",
       "    <tr>\n",
       "      <th>3</th>\n",
       "      <td>Dependents</td>\n",
       "      <td>1.736735</td>\n",
       "    </tr>\n",
       "    <tr>\n",
       "      <th>4</th>\n",
       "      <td>Education</td>\n",
       "      <td>1.300428</td>\n",
       "    </tr>\n",
       "    <tr>\n",
       "      <th>5</th>\n",
       "      <td>Self_Employed</td>\n",
       "      <td>1.181484</td>\n",
       "    </tr>\n",
       "    <tr>\n",
       "      <th>6</th>\n",
       "      <td>ApplicantIncome</td>\n",
       "      <td>5.913500</td>\n",
       "    </tr>\n",
       "    <tr>\n",
       "      <th>7</th>\n",
       "      <td>CoapplicantIncome</td>\n",
       "      <td>2.597714</td>\n",
       "    </tr>\n",
       "    <tr>\n",
       "      <th>8</th>\n",
       "      <td>LoanAmount</td>\n",
       "      <td>12.614258</td>\n",
       "    </tr>\n",
       "    <tr>\n",
       "      <th>9</th>\n",
       "      <td>Loan_Amount_Term</td>\n",
       "      <td>14.258861</td>\n",
       "    </tr>\n",
       "    <tr>\n",
       "      <th>10</th>\n",
       "      <td>Credit_History</td>\n",
       "      <td>4.751930</td>\n",
       "    </tr>\n",
       "    <tr>\n",
       "      <th>11</th>\n",
       "      <td>Property_Area</td>\n",
       "      <td>2.395241</td>\n",
       "    </tr>\n",
       "  </tbody>\n",
       "</table>\n",
       "</div>"
      ],
      "text/plain": [
       "            Variables        VIF\n",
       "0             Loan_ID   3.982938\n",
       "1              Gender   5.331409\n",
       "2             Married   3.207209\n",
       "3          Dependents   1.736735\n",
       "4           Education   1.300428\n",
       "5       Self_Employed   1.181484\n",
       "6     ApplicantIncome   5.913500\n",
       "7   CoapplicantIncome   2.597714\n",
       "8          LoanAmount  12.614258\n",
       "9    Loan_Amount_Term  14.258861\n",
       "10     Credit_History   4.751930\n",
       "11      Property_Area   2.395241"
      ]
     },
     "execution_count": 370,
     "metadata": {},
     "output_type": "execute_result"
    }
   ],
   "source": [
    "cal_vif(x)"
   ]
  },
  {
   "cell_type": "code",
   "execution_count": 371,
   "id": "a018528e",
   "metadata": {},
   "outputs": [],
   "source": [
    "# There is multicollinearity in 2 columns which are LoanAmount and Loan_Amount_Term so removing them and again \n",
    "#check multicollinearity"
   ]
  },
  {
   "cell_type": "code",
   "execution_count": 372,
   "id": "d27f2a9e",
   "metadata": {},
   "outputs": [],
   "source": [
    "x.drop(['Loan_Amount_Term'],axis=1,inplace=True)"
   ]
  },
  {
   "cell_type": "code",
   "execution_count": 373,
   "id": "b9b20971",
   "metadata": {},
   "outputs": [
    {
     "data": {
      "text/html": [
       "<div>\n",
       "<style scoped>\n",
       "    .dataframe tbody tr th:only-of-type {\n",
       "        vertical-align: middle;\n",
       "    }\n",
       "\n",
       "    .dataframe tbody tr th {\n",
       "        vertical-align: top;\n",
       "    }\n",
       "\n",
       "    .dataframe thead th {\n",
       "        text-align: right;\n",
       "    }\n",
       "</style>\n",
       "<table border=\"1\" class=\"dataframe\">\n",
       "  <thead>\n",
       "    <tr style=\"text-align: right;\">\n",
       "      <th></th>\n",
       "      <th>Variables</th>\n",
       "      <th>VIF</th>\n",
       "    </tr>\n",
       "  </thead>\n",
       "  <tbody>\n",
       "    <tr>\n",
       "      <th>0</th>\n",
       "      <td>Loan_ID</td>\n",
       "      <td>3.309460</td>\n",
       "    </tr>\n",
       "    <tr>\n",
       "      <th>1</th>\n",
       "      <td>Gender</td>\n",
       "      <td>5.109471</td>\n",
       "    </tr>\n",
       "    <tr>\n",
       "      <th>2</th>\n",
       "      <td>Married</td>\n",
       "      <td>3.206897</td>\n",
       "    </tr>\n",
       "    <tr>\n",
       "      <th>3</th>\n",
       "      <td>Dependents</td>\n",
       "      <td>1.728991</td>\n",
       "    </tr>\n",
       "    <tr>\n",
       "      <th>4</th>\n",
       "      <td>Education</td>\n",
       "      <td>1.291055</td>\n",
       "    </tr>\n",
       "    <tr>\n",
       "      <th>5</th>\n",
       "      <td>Self_Employed</td>\n",
       "      <td>1.178762</td>\n",
       "    </tr>\n",
       "    <tr>\n",
       "      <th>6</th>\n",
       "      <td>ApplicantIncome</td>\n",
       "      <td>5.908419</td>\n",
       "    </tr>\n",
       "    <tr>\n",
       "      <th>7</th>\n",
       "      <td>CoapplicantIncome</td>\n",
       "      <td>2.593686</td>\n",
       "    </tr>\n",
       "    <tr>\n",
       "      <th>8</th>\n",
       "      <td>LoanAmount</td>\n",
       "      <td>10.681894</td>\n",
       "    </tr>\n",
       "    <tr>\n",
       "      <th>9</th>\n",
       "      <td>Credit_History</td>\n",
       "      <td>3.972776</td>\n",
       "    </tr>\n",
       "    <tr>\n",
       "      <th>10</th>\n",
       "      <td>Property_Area</td>\n",
       "      <td>2.207443</td>\n",
       "    </tr>\n",
       "  </tbody>\n",
       "</table>\n",
       "</div>"
      ],
      "text/plain": [
       "            Variables        VIF\n",
       "0             Loan_ID   3.309460\n",
       "1              Gender   5.109471\n",
       "2             Married   3.206897\n",
       "3          Dependents   1.728991\n",
       "4           Education   1.291055\n",
       "5       Self_Employed   1.178762\n",
       "6     ApplicantIncome   5.908419\n",
       "7   CoapplicantIncome   2.593686\n",
       "8          LoanAmount  10.681894\n",
       "9      Credit_History   3.972776\n",
       "10      Property_Area   2.207443"
      ]
     },
     "execution_count": 373,
     "metadata": {},
     "output_type": "execute_result"
    }
   ],
   "source": [
    "cal_vif(x)"
   ]
  },
  {
   "cell_type": "code",
   "execution_count": 374,
   "id": "7c3cb2b9",
   "metadata": {},
   "outputs": [],
   "source": [
    "x.drop(['LoanAmount'],axis=1,inplace=True)"
   ]
  },
  {
   "cell_type": "code",
   "execution_count": 375,
   "id": "06f26adf",
   "metadata": {},
   "outputs": [
    {
     "data": {
      "text/html": [
       "<div>\n",
       "<style scoped>\n",
       "    .dataframe tbody tr th:only-of-type {\n",
       "        vertical-align: middle;\n",
       "    }\n",
       "\n",
       "    .dataframe tbody tr th {\n",
       "        vertical-align: top;\n",
       "    }\n",
       "\n",
       "    .dataframe thead th {\n",
       "        text-align: right;\n",
       "    }\n",
       "</style>\n",
       "<table border=\"1\" class=\"dataframe\">\n",
       "  <thead>\n",
       "    <tr style=\"text-align: right;\">\n",
       "      <th></th>\n",
       "      <th>Variables</th>\n",
       "      <th>VIF</th>\n",
       "    </tr>\n",
       "  </thead>\n",
       "  <tbody>\n",
       "    <tr>\n",
       "      <th>0</th>\n",
       "      <td>Loan_ID</td>\n",
       "      <td>3.202262</td>\n",
       "    </tr>\n",
       "    <tr>\n",
       "      <th>1</th>\n",
       "      <td>Gender</td>\n",
       "      <td>5.027717</td>\n",
       "    </tr>\n",
       "    <tr>\n",
       "      <th>2</th>\n",
       "      <td>Married</td>\n",
       "      <td>3.206145</td>\n",
       "    </tr>\n",
       "    <tr>\n",
       "      <th>3</th>\n",
       "      <td>Dependents</td>\n",
       "      <td>1.715510</td>\n",
       "    </tr>\n",
       "    <tr>\n",
       "      <th>4</th>\n",
       "      <td>Education</td>\n",
       "      <td>1.290845</td>\n",
       "    </tr>\n",
       "    <tr>\n",
       "      <th>5</th>\n",
       "      <td>Self_Employed</td>\n",
       "      <td>1.178256</td>\n",
       "    </tr>\n",
       "    <tr>\n",
       "      <th>6</th>\n",
       "      <td>ApplicantIncome</td>\n",
       "      <td>3.380676</td>\n",
       "    </tr>\n",
       "    <tr>\n",
       "      <th>7</th>\n",
       "      <td>CoapplicantIncome</td>\n",
       "      <td>1.902103</td>\n",
       "    </tr>\n",
       "    <tr>\n",
       "      <th>8</th>\n",
       "      <td>Credit_History</td>\n",
       "      <td>3.832985</td>\n",
       "    </tr>\n",
       "    <tr>\n",
       "      <th>9</th>\n",
       "      <td>Property_Area</td>\n",
       "      <td>2.188290</td>\n",
       "    </tr>\n",
       "  </tbody>\n",
       "</table>\n",
       "</div>"
      ],
      "text/plain": [
       "           Variables       VIF\n",
       "0            Loan_ID  3.202262\n",
       "1             Gender  5.027717\n",
       "2            Married  3.206145\n",
       "3         Dependents  1.715510\n",
       "4          Education  1.290845\n",
       "5      Self_Employed  1.178256\n",
       "6    ApplicantIncome  3.380676\n",
       "7  CoapplicantIncome  1.902103\n",
       "8     Credit_History  3.832985\n",
       "9      Property_Area  2.188290"
      ]
     },
     "execution_count": 375,
     "metadata": {},
     "output_type": "execute_result"
    }
   ],
   "source": [
    "cal_vif(x)"
   ]
  },
  {
   "cell_type": "code",
   "execution_count": 376,
   "id": "7d262e66",
   "metadata": {},
   "outputs": [],
   "source": [
    "# Now our Data doesnot suffer multi collinearity"
   ]
  },
  {
   "cell_type": "code",
   "execution_count": 377,
   "id": "a9cc2ce2",
   "metadata": {},
   "outputs": [],
   "source": [
    "# Now Lets Check for skewness"
   ]
  },
  {
   "cell_type": "code",
   "execution_count": 378,
   "id": "26cf2fb2",
   "metadata": {},
   "outputs": [
    {
     "data": {
      "text/plain": [
       "Loan_ID             -0.026650\n",
       "Gender              -1.329132\n",
       "Married             -0.264064\n",
       "Dependents           1.246761\n",
       "Education            1.534662\n",
       "Self_Employed        2.758242\n",
       "ApplicantIncome      2.098056\n",
       "CoapplicantIncome    1.319377\n",
       "Credit_History      -1.255985\n",
       "Property_Area        0.105644\n",
       "dtype: float64"
      ]
     },
     "execution_count": 378,
     "metadata": {},
     "output_type": "execute_result"
    }
   ],
   "source": [
    "x.skew()"
   ]
  },
  {
   "cell_type": "code",
   "execution_count": 379,
   "id": "1cf18315",
   "metadata": {},
   "outputs": [],
   "source": [
    "# Now Removing Skewness using Power Transform"
   ]
  },
  {
   "cell_type": "code",
   "execution_count": 380,
   "id": "2a84dd6e",
   "metadata": {},
   "outputs": [],
   "source": [
    "from sklearn.preprocessing import power_transform"
   ]
  },
  {
   "cell_type": "code",
   "execution_count": 381,
   "id": "8f8ec158",
   "metadata": {},
   "outputs": [],
   "source": [
    "x_new=power_transform(x)"
   ]
  },
  {
   "cell_type": "code",
   "execution_count": 382,
   "id": "abcc8094",
   "metadata": {},
   "outputs": [
    {
     "data": {
      "text/plain": [
       "Self_Employed        2.758242\n",
       "Education            1.534662\n",
       "Dependents           0.593207\n",
       "ApplicantIncome      0.024072\n",
       "Property_Area       -0.099129\n",
       "CoapplicantIncome   -0.140572\n",
       "Married             -0.264064\n",
       "Loan_ID             -0.278686\n",
       "Credit_History      -0.980261\n",
       "Gender              -1.329132\n",
       "dtype: float64"
      ]
     },
     "execution_count": 382,
     "metadata": {},
     "output_type": "execute_result"
    }
   ],
   "source": [
    "pd.DataFrame(x_new,columns=x.columns).skew().sort_values(ascending=False)"
   ]
  },
  {
   "cell_type": "code",
   "execution_count": 383,
   "id": "73da2a4e",
   "metadata": {},
   "outputs": [],
   "source": [
    "x=pd.DataFrame(x_new,columns=x.columns)"
   ]
  },
  {
   "cell_type": "code",
   "execution_count": 384,
   "id": "f1eb3105",
   "metadata": {},
   "outputs": [],
   "source": [
    "# Now Applying Scaling technique"
   ]
  },
  {
   "cell_type": "code",
   "execution_count": 385,
   "id": "ae6a82ca",
   "metadata": {},
   "outputs": [],
   "source": [
    "from sklearn.preprocessing import StandardScaler"
   ]
  },
  {
   "cell_type": "code",
   "execution_count": 386,
   "id": "7d7c9073",
   "metadata": {},
   "outputs": [],
   "source": [
    "ss=StandardScaler()"
   ]
  },
  {
   "cell_type": "code",
   "execution_count": 387,
   "id": "93cd0b3f",
   "metadata": {},
   "outputs": [],
   "source": [
    "x=ss.fit_transform(x)"
   ]
  },
  {
   "cell_type": "code",
   "execution_count": 388,
   "id": "63a7fb78",
   "metadata": {},
   "outputs": [],
   "source": [
    "# Now Our EDA is complete and lets move ahead toward model Building with first model logistic regression"
   ]
  },
  {
   "cell_type": "code",
   "execution_count": 558,
   "id": "4f4b7ef1",
   "metadata": {},
   "outputs": [],
   "source": [
    "from sklearn.linear_model import LogisticRegression\n",
    "from sklearn.model_selection import train_test_split,GridSearchCV,cross_val_score\n",
    "from sklearn.metrics import accuracy_score,classification_report,confusion_matrix,roc_curve,f1_score,roc_auc_score"
   ]
  },
  {
   "cell_type": "code",
   "execution_count": 390,
   "id": "5ca3ebbe",
   "metadata": {},
   "outputs": [],
   "source": [
    "# Now finding best random state"
   ]
  },
  {
   "cell_type": "code",
   "execution_count": 391,
   "id": "18266fc7",
   "metadata": {},
   "outputs": [],
   "source": [
    "lr=LogisticRegression()"
   ]
  },
  {
   "cell_type": "code",
   "execution_count": 581,
   "id": "650a7831",
   "metadata": {},
   "outputs": [
    {
     "name": "stdout",
     "output_type": "stream",
     "text": [
      "At Random State  0  Accuracy is  78.125\n",
      "At Random State  1  Accuracy is  80.625\n",
      "At Random State  2  Accuracy is  81.25\n",
      "At Random State  3  Accuracy is  80.625\n",
      "At Random State  4  Accuracy is  75.0\n",
      "At Random State  5  Accuracy is  75.625\n",
      "At Random State  6  Accuracy is  76.25\n",
      "At Random State  7  Accuracy is  77.5\n",
      "At Random State  8  Accuracy is  77.5\n",
      "At Random State  9  Accuracy is  77.5\n",
      "At Random State  10  Accuracy is  86.25\n",
      "At Random State  11  Accuracy is  73.75\n",
      "At Random State  12  Accuracy is  82.5\n",
      "At Random State  13  Accuracy is  81.875\n",
      "At Random State  14  Accuracy is  71.25\n",
      "At Random State  15  Accuracy is  76.25\n",
      "At Random State  16  Accuracy is  81.25\n",
      "At Random State  17  Accuracy is  73.125\n",
      "At Random State  18  Accuracy is  74.375\n",
      "At Random State  19  Accuracy is  76.25\n",
      "At Random State  20  Accuracy is  76.875\n",
      "At Random State  21  Accuracy is  78.75\n",
      "At Random State  22  Accuracy is  76.875\n",
      "At Random State  23  Accuracy is  77.5\n",
      "At Random State  24  Accuracy is  81.875\n",
      "At Random State  25  Accuracy is  80.0\n",
      "At Random State  26  Accuracy is  80.0\n",
      "At Random State  27  Accuracy is  70.0\n",
      "At Random State  28  Accuracy is  79.375\n",
      "At Random State  29  Accuracy is  79.375\n",
      "At Random State  30  Accuracy is  75.0\n",
      "At Random State  31  Accuracy is  75.0\n",
      "At Random State  32  Accuracy is  81.875\n",
      "At Random State  33  Accuracy is  72.5\n",
      "At Random State  34  Accuracy is  78.125\n",
      "At Random State  35  Accuracy is  76.875\n",
      "At Random State  36  Accuracy is  81.875\n",
      "At Random State  37  Accuracy is  76.25\n",
      "At Random State  38  Accuracy is  82.5\n",
      "At Random State  39  Accuracy is  75.0\n",
      "At Random State  40  Accuracy is  77.5\n",
      "At Random State  41  Accuracy is  78.75\n",
      "At Random State  42  Accuracy is  81.875\n",
      "At Random State  43  Accuracy is  77.5\n",
      "At Random State  44  Accuracy is  78.75\n",
      "At Random State  45  Accuracy is  80.0\n",
      "At Random State  46  Accuracy is  76.25\n",
      "At Random State  47  Accuracy is  73.125\n",
      "At Random State  48  Accuracy is  79.375\n",
      "At Random State  49  Accuracy is  79.375\n",
      "At Random State  50  Accuracy is  78.125\n",
      "At Random State  51  Accuracy is  81.25\n",
      "At Random State  52  Accuracy is  76.875\n",
      "At Random State  53  Accuracy is  78.75\n",
      "At Random State  54  Accuracy is  74.375\n",
      "At Random State  55  Accuracy is  76.25\n",
      "At Random State  56  Accuracy is  76.25\n",
      "At Random State  57  Accuracy is  80.0\n",
      "At Random State  58  Accuracy is  77.5\n",
      "At Random State  59  Accuracy is  79.375\n",
      "At Random State  60  Accuracy is  77.5\n",
      "At Random State  61  Accuracy is  75.625\n",
      "At Random State  62  Accuracy is  78.75\n",
      "At Random State  63  Accuracy is  76.875\n",
      "At Random State  64  Accuracy is  72.5\n",
      "At Random State  65  Accuracy is  73.125\n",
      "At Random State  66  Accuracy is  76.25\n",
      "At Random State  67  Accuracy is  79.375\n",
      "At Random State  68  Accuracy is  81.875\n",
      "At Random State  69  Accuracy is  78.75\n",
      "At Random State  70  Accuracy is  78.75\n",
      "At Random State  71  Accuracy is  78.125\n",
      "At Random State  72  Accuracy is  77.5\n",
      "At Random State  73  Accuracy is  80.0\n",
      "At Random State  74  Accuracy is  81.25\n",
      "At Random State  75  Accuracy is  78.125\n",
      "At Random State  76  Accuracy is  69.375\n",
      "At Random State  77  Accuracy is  83.125\n",
      "At Random State  78  Accuracy is  81.875\n",
      "At Random State  79  Accuracy is  75.0\n",
      "At Random State  80  Accuracy is  78.75\n",
      "At Random State  81  Accuracy is  75.625\n",
      "At Random State  82  Accuracy is  75.0\n",
      "At Random State  83  Accuracy is  78.75\n",
      "At Random State  84  Accuracy is  70.0\n",
      "At Random State  85  Accuracy is  72.5\n",
      "At Random State  86  Accuracy is  80.0\n",
      "At Random State  87  Accuracy is  80.625\n",
      "At Random State  88  Accuracy is  80.625\n",
      "At Random State  89  Accuracy is  70.625\n",
      "At Random State  90  Accuracy is  76.875\n",
      "At Random State  91  Accuracy is  81.875\n",
      "At Random State  92  Accuracy is  76.25\n",
      "At Random State  93  Accuracy is  78.125\n",
      "At Random State  94  Accuracy is  74.375\n",
      "At Random State  95  Accuracy is  78.75\n",
      "At Random State  96  Accuracy is  79.375\n",
      "At Random State  97  Accuracy is  76.875\n",
      "At Random State  98  Accuracy is  75.0\n",
      "At Random State  99  Accuracy is  80.625\n"
     ]
    }
   ],
   "source": [
    "for i in range(0,100):\n",
    "    xtrain,xtest,ytrain,ytest=train_test_split(x,y,test_size=0.2,random_state=i)\n",
    "    lr.fit(xtrain,ytrain)\n",
    "    predlr=lr.predict(xtest)\n",
    "    lracc=accuracy_score(ytest,predlr)\n",
    "    print('At Random State ',i,' Accuracy is ',lracc*100)"
   ]
  },
  {
   "cell_type": "code",
   "execution_count": 582,
   "id": "05eae056",
   "metadata": {},
   "outputs": [],
   "source": [
    "# Now Checking the classification report and confusion matrix"
   ]
  },
  {
   "cell_type": "code",
   "execution_count": 583,
   "id": "be331861",
   "metadata": {},
   "outputs": [
    {
     "name": "stdout",
     "output_type": "stream",
     "text": [
      "At Random State 10 Accuracy is  86.25\n",
      "F1 score is  0.8817204301075268\n",
      "ROC AUC Score is 0.8547979797979797\n",
      "Confusion matrix is\n",
      " [[56 16]\n",
      " [ 6 82]]\n",
      "Classification report is\n",
      "               precision    recall  f1-score   support\n",
      "\n",
      "           0       0.90      0.78      0.84        72\n",
      "           1       0.84      0.93      0.88        88\n",
      "\n",
      "    accuracy                           0.86       160\n",
      "   macro avg       0.87      0.85      0.86       160\n",
      "weighted avg       0.87      0.86      0.86       160\n",
      "\n"
     ]
    }
   ],
   "source": [
    "xtrain,xtest,ytrain,ytest=train_test_split(x,y,test_size=0.2,random_state=10)\n",
    "lr.fit(xtrain,ytrain)\n",
    "predlr=lr.predict(xtest)\n",
    "lracc=accuracy_score(ytest,predlr)\n",
    "print('At Random State 10 Accuracy is ',lracc*100)\n",
    "print('F1 score is ',f1_score(ytest,predlr,average='binary'))\n",
    "print('ROC AUC Score is',roc_auc_score(ytest,predlr))\n",
    "print('Confusion matrix is\\n',confusion_matrix(ytest,predlr))\n",
    "print('Classification report is\\n',classification_report(ytest,predlr))"
   ]
  },
  {
   "cell_type": "code",
   "execution_count": 560,
   "id": "273f4b6e",
   "metadata": {},
   "outputs": [],
   "source": [
    "# Now Checking best cv "
   ]
  },
  {
   "cell_type": "code",
   "execution_count": 448,
   "id": "3d3e7644",
   "metadata": {},
   "outputs": [
    {
     "name": "stdout",
     "output_type": "stream",
     "text": [
      "At CV  2 cross val score is 53.266331658291456 with accuracy 86.25\n",
      "At CV  3 cross val score is 71.49004586939046 with accuracy 86.25\n",
      "At CV  4 cross val score is 72.98994974874371 with accuracy 86.25\n",
      "At CV  5 cross val score is 75.00314465408803 with accuracy 86.25\n",
      "At CV  6 cross val score is 76.01579706842864 with accuracy 86.25\n",
      "At CV  7 cross val score is 76.64182580344666 with accuracy 86.25\n",
      "At CV  8 cross val score is 76.28535353535354 with accuracy 86.25\n",
      "At CV  9 cross val score is 76.16899330382476 with accuracy 86.25\n"
     ]
    }
   ],
   "source": [
    "for i in range(2,10):\n",
    "    cvlr=cross_val_score(lr,x,y,cv=i)\n",
    "    cvlr_mean=cvlr.mean()\n",
    "    print('At CV ',i,'cross val score is',cvlr_mean*100,'with accuracy',lracc*100)"
   ]
  },
  {
   "cell_type": "code",
   "execution_count": 449,
   "id": "ffc0f732",
   "metadata": {},
   "outputs": [],
   "source": [
    "# 7 is the best cv"
   ]
  },
  {
   "cell_type": "code",
   "execution_count": 450,
   "id": "f3e1a2a5",
   "metadata": {},
   "outputs": [
    {
     "name": "stdout",
     "output_type": "stream",
     "text": [
      "At CV 7 cross val score is 76.64182580344666 with accuracy 86.25\n"
     ]
    }
   ],
   "source": [
    "cvlr=cross_val_score(lr,x,y,cv=7)\n",
    "cvlr_mean=cvlr.mean()\n",
    "print('At CV 7 cross val score is',cvlr_mean*100,'with accuracy',lracc*100)"
   ]
  },
  {
   "cell_type": "code",
   "execution_count": 451,
   "id": "71f74c95",
   "metadata": {},
   "outputs": [],
   "source": [
    "# Now plotting its ROC Curve"
   ]
  },
  {
   "cell_type": "code",
   "execution_count": 545,
   "id": "13ed9b64",
   "metadata": {},
   "outputs": [
    {
     "data": {
      "image/png": "[encoded data removed]",
      "text/plain": [
       "<Figure size 432x288 with 1 Axes>"
      ]
     },
     "metadata": {
      "needs_background": "light"
     },
     "output_type": "display_data"
    }
   ],
   "source": [
    "tpr,fpr,_=roc_curve(ytest,predlr)\n",
    "plt.plot(tpr,fpr,linestyle='--',marker='.')\n",
    "plt.title('ROC curve')\n",
    "plt.xlabel('False Positive Rate')\n",
    "plt.ylabel('True Positive Rate')\n",
    "plt.show()"
   ]
  },
  {
   "cell_type": "code",
   "execution_count": 404,
   "id": "feae3725",
   "metadata": {},
   "outputs": [],
   "source": [
    "# Now using 2nd model SVC"
   ]
  },
  {
   "cell_type": "code",
   "execution_count": 405,
   "id": "8372ce04",
   "metadata": {},
   "outputs": [],
   "source": [
    "from sklearn.svm import SVC"
   ]
  },
  {
   "cell_type": "code",
   "execution_count": 406,
   "id": "97e06c70",
   "metadata": {},
   "outputs": [],
   "source": [
    "svc=SVC()"
   ]
  },
  {
   "cell_type": "code",
   "execution_count": 407,
   "id": "d00cd4a9",
   "metadata": {},
   "outputs": [],
   "source": [
    "# Finding best parameter using gridsearchcv"
   ]
  },
  {
   "cell_type": "code",
   "execution_count": 409,
   "id": "0012c933",
   "metadata": {},
   "outputs": [
    {
     "name": "stdout",
     "output_type": "stream",
     "text": [
      "{'kernel': 'rbf'}\n"
     ]
    }
   ],
   "source": [
    "parameter={'kernel':['rbf','poly','linear']}\n",
    "gscvsvc=GridSearchCV(svc,parameter)\n",
    "gscvsvc.fit(xtrain,ytrain)\n",
    "print(gscvsvc.best_params_)"
   ]
  },
  {
   "cell_type": "code",
   "execution_count": 410,
   "id": "aa98e6f9",
   "metadata": {},
   "outputs": [
    {
     "name": "stdout",
     "output_type": "stream",
     "text": [
      "At Random state 0 Accuracy is 78.75\n",
      "At Random state 1 Accuracy is 76.25\n",
      "At Random state 2 Accuracy is 82.5\n",
      "At Random state 3 Accuracy is 80.0\n",
      "At Random state 4 Accuracy is 76.875\n",
      "At Random state 5 Accuracy is 77.5\n",
      "At Random state 6 Accuracy is 78.75\n",
      "At Random state 7 Accuracy is 78.75\n",
      "At Random state 8 Accuracy is 76.25\n",
      "At Random state 9 Accuracy is 80.625\n",
      "At Random state 10 Accuracy is 85.625\n",
      "At Random state 11 Accuracy is 78.125\n",
      "At Random state 12 Accuracy is 81.25\n",
      "At Random state 13 Accuracy is 80.625\n",
      "At Random state 14 Accuracy is 71.875\n",
      "At Random state 15 Accuracy is 79.375\n",
      "At Random state 16 Accuracy is 78.75\n",
      "At Random state 17 Accuracy is 81.25\n",
      "At Random state 18 Accuracy is 76.25\n",
      "At Random state 19 Accuracy is 74.375\n",
      "At Random state 20 Accuracy is 79.375\n",
      "At Random state 21 Accuracy is 77.5\n",
      "At Random state 22 Accuracy is 79.375\n",
      "At Random state 23 Accuracy is 75.0\n",
      "At Random state 24 Accuracy is 81.25\n",
      "At Random state 25 Accuracy is 81.25\n",
      "At Random state 26 Accuracy is 80.625\n",
      "At Random state 27 Accuracy is 76.25\n",
      "At Random state 28 Accuracy is 81.25\n",
      "At Random state 29 Accuracy is 82.5\n",
      "At Random state 30 Accuracy is 73.125\n",
      "At Random state 31 Accuracy is 75.625\n",
      "At Random state 32 Accuracy is 83.125\n",
      "At Random state 33 Accuracy is 72.5\n",
      "At Random state 34 Accuracy is 78.75\n",
      "At Random state 35 Accuracy is 80.625\n",
      "At Random state 36 Accuracy is 78.75\n",
      "At Random state 37 Accuracy is 75.625\n",
      "At Random state 38 Accuracy is 80.625\n",
      "At Random state 39 Accuracy is 77.5\n",
      "At Random state 40 Accuracy is 80.625\n",
      "At Random state 41 Accuracy is 79.375\n",
      "At Random state 42 Accuracy is 84.375\n",
      "At Random state 43 Accuracy is 76.25\n",
      "At Random state 44 Accuracy is 81.25\n",
      "At Random state 45 Accuracy is 80.625\n",
      "At Random state 46 Accuracy is 79.375\n",
      "At Random state 47 Accuracy is 74.375\n",
      "At Random state 48 Accuracy is 76.875\n",
      "At Random state 49 Accuracy is 83.75\n",
      "At Random state 50 Accuracy is 78.125\n",
      "At Random state 51 Accuracy is 80.625\n",
      "At Random state 52 Accuracy is 74.375\n",
      "At Random state 53 Accuracy is 83.125\n",
      "At Random state 54 Accuracy is 77.5\n",
      "At Random state 55 Accuracy is 78.125\n",
      "At Random state 56 Accuracy is 76.875\n",
      "At Random state 57 Accuracy is 84.375\n",
      "At Random state 58 Accuracy is 78.125\n",
      "At Random state 59 Accuracy is 78.125\n",
      "At Random state 60 Accuracy is 78.75\n",
      "At Random state 61 Accuracy is 77.5\n",
      "At Random state 62 Accuracy is 76.875\n",
      "At Random state 63 Accuracy is 78.125\n",
      "At Random state 64 Accuracy is 73.125\n",
      "At Random state 65 Accuracy is 76.875\n",
      "At Random state 66 Accuracy is 76.875\n",
      "At Random state 67 Accuracy is 82.5\n",
      "At Random state 68 Accuracy is 81.875\n",
      "At Random state 69 Accuracy is 81.25\n",
      "At Random state 70 Accuracy is 78.125\n",
      "At Random state 71 Accuracy is 81.25\n",
      "At Random state 72 Accuracy is 81.25\n",
      "At Random state 73 Accuracy is 80.0\n",
      "At Random state 74 Accuracy is 81.875\n",
      "At Random state 75 Accuracy is 81.25\n",
      "At Random state 76 Accuracy is 73.125\n",
      "At Random state 77 Accuracy is 85.0\n",
      "At Random state 78 Accuracy is 84.375\n",
      "At Random state 79 Accuracy is 78.75\n",
      "At Random state 80 Accuracy is 80.625\n",
      "At Random state 81 Accuracy is 72.5\n",
      "At Random state 82 Accuracy is 76.875\n",
      "At Random state 83 Accuracy is 80.625\n",
      "At Random state 84 Accuracy is 73.125\n",
      "At Random state 85 Accuracy is 73.75\n",
      "At Random state 86 Accuracy is 83.75\n",
      "At Random state 87 Accuracy is 78.75\n",
      "At Random state 88 Accuracy is 81.875\n",
      "At Random state 89 Accuracy is 71.875\n",
      "At Random state 90 Accuracy is 76.875\n",
      "At Random state 91 Accuracy is 81.875\n",
      "At Random state 92 Accuracy is 80.625\n",
      "At Random state 93 Accuracy is 79.375\n",
      "At Random state 94 Accuracy is 76.25\n",
      "At Random state 95 Accuracy is 80.0\n",
      "At Random state 96 Accuracy is 84.375\n",
      "At Random state 97 Accuracy is 78.75\n",
      "At Random state 98 Accuracy is 77.5\n",
      "At Random state 99 Accuracy is 83.75\n"
     ]
    }
   ],
   "source": [
    "svc=SVC(kernel='rbf')\n",
    "for i in range(0,100):\n",
    "    xtrain,xtest,ytrain,ytest=train_test_split(x,y,test_size=0.2,random_state=i)\n",
    "    svc.fit(xtrain,ytrain)\n",
    "    predsvc=svc.predict(xtest)\n",
    "    svcacc=accuracy_score(ytest,predsvc)\n",
    "    print('At Random state',i,'Accuracy is',svcacc*100)"
   ]
  },
  {
   "cell_type": "code",
   "execution_count": 411,
   "id": "271ae70c",
   "metadata": {},
   "outputs": [],
   "source": [
    "# Now Checking Confusion matrix and classification report"
   ]
  },
  {
   "cell_type": "code",
   "execution_count": 562,
   "id": "5c574f5d",
   "metadata": {},
   "outputs": [
    {
     "name": "stdout",
     "output_type": "stream",
     "text": [
      "At Random state 10 Accuracy is 85.625\n",
      "F1 score is  0.8770053475935828\n",
      "ROC AUC SCORE is  0.8478535353535352\n",
      "Confusion matrix is \n",
      " [[55 17]\n",
      " [ 6 82]]\n",
      "Classification report\n",
      "               precision    recall  f1-score   support\n",
      "\n",
      "           0       0.90      0.76      0.83        72\n",
      "           1       0.83      0.93      0.88        88\n",
      "\n",
      "    accuracy                           0.86       160\n",
      "   macro avg       0.86      0.85      0.85       160\n",
      "weighted avg       0.86      0.86      0.85       160\n",
      "\n"
     ]
    }
   ],
   "source": [
    "xtrain,xtest,ytrain,ytest=train_test_split(x,y,test_size=0.2,random_state=10)\n",
    "svc.fit(xtrain,ytrain)\n",
    "predsvc=svc.predict(xtest)\n",
    "svcacc=accuracy_score(ytest,predsvc)\n",
    "print('At Random state 10 Accuracy is',svcacc*100)\n",
    "print('F1 score is ',f1_score(ytest,predsvc,average='binary'))\n",
    "print('ROC AUC SCORE is ',roc_auc_score(ytest,predsvc))\n",
    "print('Confusion matrix is \\n',confusion_matrix(ytest,predsvc))\n",
    "print('Classification report\\n',classification_report(ytest,predsvc))"
   ]
  },
  {
   "cell_type": "code",
   "execution_count": 413,
   "id": "4de78f9f",
   "metadata": {},
   "outputs": [],
   "source": [
    "# Now Checking best cv and comparing it with accuracy"
   ]
  },
  {
   "cell_type": "code",
   "execution_count": 414,
   "id": "2a384021",
   "metadata": {},
   "outputs": [
    {
     "name": "stdout",
     "output_type": "stream",
     "text": [
      "At CV 2 cross val score is 57.03517587939698 with accuracy of svc 85.625\n",
      "At CV 3 cross val score is 67.08611150517805 with accuracy of svc 85.625\n",
      "At CV 4 cross val score is 70.85427135678393 with accuracy of svc 85.625\n",
      "At CV 5 cross val score is 74.63128930817611 with accuracy of svc 85.625\n",
      "At CV 6 cross val score is 76.7733728260044 with accuracy of svc 85.625\n",
      "At CV 7 cross val score is 77.275046022135 with accuracy of svc 85.625\n",
      "At CV 8 cross val score is 77.54545454545453 with accuracy of svc 85.625\n",
      "At CV 9 cross val score is 76.91947565543073 with accuracy of svc 85.625\n"
     ]
    }
   ],
   "source": [
    "for i in range(2,10):\n",
    "    cvsvc=cross_val_score(svc,x,y,cv=i)\n",
    "    cvsvc_mean=cvsvc.mean()\n",
    "    print('At CV',i,'cross val score is',cvsvc_mean*100,'with accuracy of svc',svcacc*100)"
   ]
  },
  {
   "cell_type": "code",
   "execution_count": 415,
   "id": "343f591c",
   "metadata": {},
   "outputs": [],
   "source": [
    "# 8 is best CV"
   ]
  },
  {
   "cell_type": "code",
   "execution_count": 416,
   "id": "774df9fb",
   "metadata": {},
   "outputs": [
    {
     "name": "stdout",
     "output_type": "stream",
     "text": [
      "At CV 8 cross val score is 77.54545454545453 with accuracy of svc 85.625\n"
     ]
    }
   ],
   "source": [
    "cvsvc=cross_val_score(svc,x,y,cv=8)\n",
    "cvsvc_mean=cvsvc.mean()\n",
    "print('At CV 8 cross val score is',cvsvc_mean*100,'with accuracy of svc',svcacc*100)"
   ]
  },
  {
   "cell_type": "code",
   "execution_count": 417,
   "id": "4b0bf2d4",
   "metadata": {},
   "outputs": [],
   "source": [
    "# Now Plotting ROC curve for it"
   ]
  },
  {
   "cell_type": "code",
   "execution_count": 457,
   "id": "ab1bee0b",
   "metadata": {},
   "outputs": [
    {
     "data": {
      "image/png": "[encoded data removed]",
      "text/plain": [
       "<Figure size 432x288 with 1 Axes>"
      ]
     },
     "metadata": {
      "needs_background": "light"
     },
     "output_type": "display_data"
    }
   ],
   "source": [
    "tpr,fpr,_=roc_curve(ytest,predsvc)\n",
    "plt.plot(tpr,fpr,linestyle='--',marker='.')\n",
    "plt.title('ROC curve')\n",
    "plt.xlabel('False Positive Rate')\n",
    "plt.ylabel('True Positive Rate')\n",
    "plt.show()"
   ]
  },
  {
   "cell_type": "code",
   "execution_count": 419,
   "id": "3034180f",
   "metadata": {},
   "outputs": [],
   "source": [
    "# Now using 3rd model which is KNeighbor"
   ]
  },
  {
   "cell_type": "code",
   "execution_count": 420,
   "id": "365f66ae",
   "metadata": {},
   "outputs": [],
   "source": [
    "from sklearn.neighbors import KNeighborsClassifier"
   ]
  },
  {
   "cell_type": "code",
   "execution_count": 421,
   "id": "b762073c",
   "metadata": {},
   "outputs": [],
   "source": [
    "knn=KNeighborsClassifier()"
   ]
  },
  {
   "cell_type": "code",
   "execution_count": 422,
   "id": "03a6e0dc",
   "metadata": {},
   "outputs": [],
   "source": [
    "# Finding Best Parameter using Grid Search CV"
   ]
  },
  {
   "cell_type": "code",
   "execution_count": 423,
   "id": "c6fd94ad",
   "metadata": {},
   "outputs": [
    {
     "name": "stdout",
     "output_type": "stream",
     "text": [
      "{'algorithm': 'auto'}\n"
     ]
    }
   ],
   "source": [
    "parameter={'algorithm':['auto','ball_tree','kd_tree','brute']}\n",
    "gscvknn=GridSearchCV(knn,parameter)\n",
    "gscvknn.fit(xtrain,ytrain)\n",
    "print(gscvknn.best_params_)"
   ]
  },
  {
   "cell_type": "code",
   "execution_count": 424,
   "id": "c4a67b8b",
   "metadata": {},
   "outputs": [],
   "source": [
    "knn=KNeighborsClassifier(algorithm='auto')"
   ]
  },
  {
   "cell_type": "code",
   "execution_count": 425,
   "id": "65bf90ce",
   "metadata": {},
   "outputs": [],
   "source": [
    "# Finding best Random State"
   ]
  },
  {
   "cell_type": "code",
   "execution_count": 429,
   "id": "d05bfc78",
   "metadata": {},
   "outputs": [
    {
     "name": "stdout",
     "output_type": "stream",
     "text": [
      "At Random state  0  accuracy is  79.375\n",
      "At Random state  1  accuracy is  78.75\n",
      "At Random state  2  accuracy is  76.25\n",
      "At Random state  3  accuracy is  76.875\n",
      "At Random state  4  accuracy is  78.125\n",
      "At Random state  5  accuracy is  79.375\n",
      "At Random state  6  accuracy is  75.625\n",
      "At Random state  7  accuracy is  73.75\n",
      "At Random state  8  accuracy is  76.875\n",
      "At Random state  9  accuracy is  76.875\n",
      "At Random state  10  accuracy is  81.875\n",
      "At Random state  11  accuracy is  74.375\n",
      "At Random state  12  accuracy is  80.0\n",
      "At Random state  13  accuracy is  81.25\n",
      "At Random state  14  accuracy is  73.125\n",
      "At Random state  15  accuracy is  75.625\n",
      "At Random state  16  accuracy is  78.75\n",
      "At Random state  17  accuracy is  77.5\n",
      "At Random state  18  accuracy is  78.125\n",
      "At Random state  19  accuracy is  73.75\n",
      "At Random state  20  accuracy is  75.0\n",
      "At Random state  21  accuracy is  76.25\n",
      "At Random state  22  accuracy is  75.625\n",
      "At Random state  23  accuracy is  73.125\n",
      "At Random state  24  accuracy is  78.75\n",
      "At Random state  25  accuracy is  77.5\n",
      "At Random state  26  accuracy is  79.375\n",
      "At Random state  27  accuracy is  73.125\n",
      "At Random state  28  accuracy is  78.75\n",
      "At Random state  29  accuracy is  79.375\n",
      "At Random state  30  accuracy is  70.625\n",
      "At Random state  31  accuracy is  71.25\n",
      "At Random state  32  accuracy is  78.125\n",
      "At Random state  33  accuracy is  73.75\n",
      "At Random state  34  accuracy is  76.875\n",
      "At Random state  35  accuracy is  76.875\n",
      "At Random state  36  accuracy is  79.375\n",
      "At Random state  37  accuracy is  77.5\n",
      "At Random state  38  accuracy is  79.375\n",
      "At Random state  39  accuracy is  76.25\n",
      "At Random state  40  accuracy is  76.875\n",
      "At Random state  41  accuracy is  76.875\n",
      "At Random state  42  accuracy is  79.375\n",
      "At Random state  43  accuracy is  77.5\n",
      "At Random state  44  accuracy is  75.0\n",
      "At Random state  45  accuracy is  78.125\n",
      "At Random state  46  accuracy is  73.75\n",
      "At Random state  47  accuracy is  70.0\n",
      "At Random state  48  accuracy is  72.5\n",
      "At Random state  49  accuracy is  85.0\n",
      "At Random state  50  accuracy is  79.375\n",
      "At Random state  51  accuracy is  80.0\n",
      "At Random state  52  accuracy is  74.375\n",
      "At Random state  53  accuracy is  78.75\n",
      "At Random state  54  accuracy is  78.125\n",
      "At Random state  55  accuracy is  80.625\n",
      "At Random state  56  accuracy is  80.0\n",
      "At Random state  57  accuracy is  82.5\n",
      "At Random state  58  accuracy is  78.75\n",
      "At Random state  59  accuracy is  78.125\n",
      "At Random state  60  accuracy is  77.5\n",
      "At Random state  61  accuracy is  74.375\n",
      "At Random state  62  accuracy is  75.625\n",
      "At Random state  63  accuracy is  74.375\n",
      "At Random state  64  accuracy is  71.25\n",
      "At Random state  65  accuracy is  74.375\n",
      "At Random state  66  accuracy is  75.0\n",
      "At Random state  67  accuracy is  83.125\n",
      "At Random state  68  accuracy is  79.375\n",
      "At Random state  69  accuracy is  78.125\n",
      "At Random state  70  accuracy is  79.375\n",
      "At Random state  71  accuracy is  80.0\n",
      "At Random state  72  accuracy is  75.625\n",
      "At Random state  73  accuracy is  80.0\n",
      "At Random state  74  accuracy is  80.625\n",
      "At Random state  75  accuracy is  73.75\n",
      "At Random state  76  accuracy is  76.875\n",
      "At Random state  77  accuracy is  78.125\n",
      "At Random state  78  accuracy is  85.0\n",
      "At Random state  79  accuracy is  78.75\n",
      "At Random state  80  accuracy is  75.625\n",
      "At Random state  81  accuracy is  72.5\n",
      "At Random state  82  accuracy is  76.875\n",
      "At Random state  83  accuracy is  83.125\n",
      "At Random state  84  accuracy is  72.5\n",
      "At Random state  85  accuracy is  75.0\n",
      "At Random state  86  accuracy is  85.0\n",
      "At Random state  87  accuracy is  76.25\n",
      "At Random state  88  accuracy is  80.625\n",
      "At Random state  89  accuracy is  75.625\n",
      "At Random state  90  accuracy is  78.125\n",
      "At Random state  91  accuracy is  73.125\n",
      "At Random state  92  accuracy is  79.375\n",
      "At Random state  93  accuracy is  75.625\n",
      "At Random state  94  accuracy is  77.5\n",
      "At Random state  95  accuracy is  77.5\n",
      "At Random state  96  accuracy is  80.625\n",
      "At Random state  97  accuracy is  75.0\n",
      "At Random state  98  accuracy is  76.875\n",
      "At Random state  99  accuracy is  78.75\n"
     ]
    }
   ],
   "source": [
    "for i in range(0,100):\n",
    "    xtrain,xtest,ytrain,ytest=train_test_split(x,y,test_size=0.2,random_state=i)\n",
    "    knn.fit(xtrain,ytrain)\n",
    "    predknn=knn.predict(xtest)\n",
    "    knnacc=accuracy_score(ytest,predknn)\n",
    "    print('At Random state ',i,' accuracy is ',knnacc*100)"
   ]
  },
  {
   "cell_type": "code",
   "execution_count": 430,
   "id": "ebdab093",
   "metadata": {},
   "outputs": [],
   "source": [
    "# Now Checking Confusion matrix and classification Report"
   ]
  },
  {
   "cell_type": "code",
   "execution_count": 563,
   "id": "4e2d5228",
   "metadata": {},
   "outputs": [
    {
     "name": "stdout",
     "output_type": "stream",
     "text": [
      "At Random state 49 accuracy is  85.0\n",
      "F1 score is  0.8571428571428571\n",
      "ROC AUC SCORE is  0.8546365914786966\n",
      "Confusion matrix\n",
      " [[64 20]\n",
      " [ 4 72]]\n",
      "Classification report\n",
      "               precision    recall  f1-score   support\n",
      "\n",
      "           0       0.94      0.76      0.84        84\n",
      "           1       0.78      0.95      0.86        76\n",
      "\n",
      "    accuracy                           0.85       160\n",
      "   macro avg       0.86      0.85      0.85       160\n",
      "weighted avg       0.87      0.85      0.85       160\n",
      "\n"
     ]
    }
   ],
   "source": [
    "xtrain,xtest,ytrain,ytest=train_test_split(x,y,test_size=0.2,random_state=49)\n",
    "knn.fit(xtrain,ytrain)\n",
    "predknn=knn.predict(xtest)\n",
    "knnacc=accuracy_score(ytest,predknn)\n",
    "print('At Random state 49 accuracy is ',knnacc*100)\n",
    "print('F1 score is ',f1_score(ytest,predknn,average='binary'))\n",
    "print('ROC AUC SCORE is ',roc_auc_score(ytest,predknn))\n",
    "print('Confusion matrix\\n',confusion_matrix(ytest,predknn))\n",
    "print('Classification report\\n',classification_report(ytest,predknn))"
   ]
  },
  {
   "cell_type": "code",
   "execution_count": 460,
   "id": "3242d0d8",
   "metadata": {},
   "outputs": [],
   "source": [
    "# Now Checking CV"
   ]
  },
  {
   "cell_type": "code",
   "execution_count": 461,
   "id": "ad5a2415",
   "metadata": {},
   "outputs": [
    {
     "name": "stdout",
     "output_type": "stream",
     "text": [
      "At CV  2  cross val score is  64.19597989949749  with accuracy  85.0\n",
      "At CV  3  cross val score is  70.73107296543245  with accuracy  85.0\n",
      "At CV  4  cross val score is  70.85427135678393  with accuracy  85.0\n",
      "At CV  5  cross val score is  74.62814465408806  with accuracy  85.0\n",
      "At CV  6  cross val score is  74.38577504366978  with accuracy  85.0\n",
      "At CV  7  cross val score is  75.01386208885046  with accuracy  85.0\n",
      "At CV  8  cross val score is  73.65151515151514  with accuracy  85.0\n",
      "At CV  9  cross val score is  75.16031097491772  with accuracy  85.0\n"
     ]
    }
   ],
   "source": [
    "for i in range(2,10):\n",
    "    cvknn=cross_val_score(knn,x,y,cv=i)\n",
    "    cvknn_mean=cvknn.mean()\n",
    "    print('At CV ',i,' cross val score is ',cvknn_mean*100,' with accuracy ',knnacc*100)"
   ]
  },
  {
   "cell_type": "code",
   "execution_count": 462,
   "id": "6e76fc03",
   "metadata": {},
   "outputs": [],
   "source": [
    "# 9 is best CV"
   ]
  },
  {
   "cell_type": "code",
   "execution_count": 463,
   "id": "1202fca3",
   "metadata": {},
   "outputs": [
    {
     "name": "stdout",
     "output_type": "stream",
     "text": [
      "At CV  9  cross val score is  75.16031097491772  with accuracy  85.0\n"
     ]
    }
   ],
   "source": [
    "cvknn=cross_val_score(knn,x,y,cv=i)\n",
    "cvknn_mean=cvknn.mean()\n",
    "print('At CV ',i,' cross val score is ',cvknn_mean*100,' with accuracy ',knnacc*100)"
   ]
  },
  {
   "cell_type": "code",
   "execution_count": 464,
   "id": "7a0ac319",
   "metadata": {},
   "outputs": [],
   "source": [
    "# Now plotting Its ROC curve"
   ]
  },
  {
   "cell_type": "code",
   "execution_count": 465,
   "id": "e925e922",
   "metadata": {},
   "outputs": [
    {
     "data": {
      "image/png": "[encoded data removed]",
      "text/plain": [
       "<Figure size 432x288 with 1 Axes>"
      ]
     },
     "metadata": {
      "needs_background": "light"
     },
     "output_type": "display_data"
    }
   ],
   "source": [
    "tpr,fpr,_=roc_curve(ytest,predknn)\n",
    "plt.plot(tpr,fpr,linestyle='--',marker='.')\n",
    "plt.title('ROC curve')\n",
    "plt.xlabel('False Positive Rate')\n",
    "plt.ylabel('True Positive Rate')\n",
    "plt.show()"
   ]
  },
  {
   "cell_type": "code",
   "execution_count": 466,
   "id": "01d82ff8",
   "metadata": {},
   "outputs": [],
   "source": [
    "# Now Using 4th model which is DecisionTree Classifier"
   ]
  },
  {
   "cell_type": "code",
   "execution_count": 467,
   "id": "903d235f",
   "metadata": {},
   "outputs": [],
   "source": [
    "from sklearn.tree import DecisionTreeClassifier"
   ]
  },
  {
   "cell_type": "code",
   "execution_count": 468,
   "id": "e6e44c87",
   "metadata": {},
   "outputs": [],
   "source": [
    "dtc=DecisionTreeClassifier()"
   ]
  },
  {
   "cell_type": "code",
   "execution_count": 469,
   "id": "24dd6096",
   "metadata": {},
   "outputs": [],
   "source": [
    "# Finding best Parameters"
   ]
  },
  {
   "cell_type": "code",
   "execution_count": 471,
   "id": "739e4756",
   "metadata": {},
   "outputs": [
    {
     "name": "stdout",
     "output_type": "stream",
     "text": [
      "{'criterion': 'entropy', 'max_features': 'auto'}\n"
     ]
    }
   ],
   "source": [
    "parameter={'criterion':['gini','entropy','log_loss'],'max_features':['auto','sqrt','log2']}\n",
    "gscvdtc=GridSearchCV(dtc,parameter)\n",
    "gscvdtc.fit(xtrain,ytrain)\n",
    "print(gscvdtc.best_params_)"
   ]
  },
  {
   "cell_type": "code",
   "execution_count": 472,
   "id": "7c40f3d6",
   "metadata": {},
   "outputs": [],
   "source": [
    "# Now finding accuracy and checking classification report and confusion matrix"
   ]
  },
  {
   "cell_type": "code",
   "execution_count": 476,
   "id": "e9079213",
   "metadata": {},
   "outputs": [
    {
     "name": "stdout",
     "output_type": "stream",
     "text": [
      "At Random state  0  Accuracy is  73.125\n",
      "At Random state  1  Accuracy is  64.375\n",
      "At Random state  2  Accuracy is  76.875\n",
      "At Random state  3  Accuracy is  76.875\n",
      "At Random state  4  Accuracy is  75.0\n",
      "At Random state  5  Accuracy is  76.875\n",
      "At Random state  6  Accuracy is  78.125\n",
      "At Random state  7  Accuracy is  74.375\n",
      "At Random state  8  Accuracy is  74.375\n",
      "At Random state  9  Accuracy is  73.75\n",
      "At Random state  10  Accuracy is  80.0\n",
      "At Random state  11  Accuracy is  70.0\n",
      "At Random state  12  Accuracy is  70.625\n",
      "At Random state  13  Accuracy is  76.25\n",
      "At Random state  14  Accuracy is  73.125\n",
      "At Random state  15  Accuracy is  78.75\n",
      "At Random state  16  Accuracy is  75.0\n",
      "At Random state  17  Accuracy is  74.375\n",
      "At Random state  18  Accuracy is  74.375\n",
      "At Random state  19  Accuracy is  74.375\n",
      "At Random state  20  Accuracy is  77.5\n",
      "At Random state  21  Accuracy is  78.125\n",
      "At Random state  22  Accuracy is  74.375\n",
      "At Random state  23  Accuracy is  71.25\n",
      "At Random state  24  Accuracy is  72.5\n",
      "At Random state  25  Accuracy is  75.625\n",
      "At Random state  26  Accuracy is  76.875\n",
      "At Random state  27  Accuracy is  76.25\n",
      "At Random state  28  Accuracy is  76.875\n",
      "At Random state  29  Accuracy is  73.75\n",
      "At Random state  30  Accuracy is  72.5\n",
      "At Random state  31  Accuracy is  67.5\n",
      "At Random state  32  Accuracy is  76.25\n",
      "At Random state  33  Accuracy is  72.5\n",
      "At Random state  34  Accuracy is  68.75\n",
      "At Random state  35  Accuracy is  71.875\n",
      "At Random state  36  Accuracy is  71.25\n",
      "At Random state  37  Accuracy is  71.25\n",
      "At Random state  38  Accuracy is  82.5\n",
      "At Random state  39  Accuracy is  70.0\n",
      "At Random state  40  Accuracy is  72.5\n",
      "At Random state  41  Accuracy is  76.25\n",
      "At Random state  42  Accuracy is  80.0\n",
      "At Random state  43  Accuracy is  75.0\n",
      "At Random state  44  Accuracy is  71.25\n",
      "At Random state  45  Accuracy is  80.625\n",
      "At Random state  46  Accuracy is  68.75\n",
      "At Random state  47  Accuracy is  73.125\n",
      "At Random state  48  Accuracy is  77.5\n",
      "At Random state  49  Accuracy is  77.5\n",
      "At Random state  50  Accuracy is  72.5\n",
      "At Random state  51  Accuracy is  74.375\n",
      "At Random state  52  Accuracy is  79.375\n",
      "At Random state  53  Accuracy is  77.5\n",
      "At Random state  54  Accuracy is  71.25\n",
      "At Random state  55  Accuracy is  75.0\n",
      "At Random state  56  Accuracy is  80.0\n",
      "At Random state  57  Accuracy is  81.875\n",
      "At Random state  58  Accuracy is  73.75\n",
      "At Random state  59  Accuracy is  70.625\n",
      "At Random state  60  Accuracy is  74.375\n",
      "At Random state  61  Accuracy is  74.375\n",
      "At Random state  62  Accuracy is  75.0\n",
      "At Random state  63  Accuracy is  68.75\n",
      "At Random state  64  Accuracy is  74.375\n",
      "At Random state  65  Accuracy is  78.75\n",
      "At Random state  66  Accuracy is  80.0\n",
      "At Random state  67  Accuracy is  77.5\n",
      "At Random state  68  Accuracy is  78.75\n",
      "At Random state  69  Accuracy is  85.625\n",
      "At Random state  70  Accuracy is  72.5\n",
      "At Random state  71  Accuracy is  75.625\n",
      "At Random state  72  Accuracy is  78.75\n",
      "At Random state  73  Accuracy is  71.875\n",
      "At Random state  74  Accuracy is  76.25\n",
      "At Random state  75  Accuracy is  74.375\n",
      "At Random state  76  Accuracy is  76.25\n",
      "At Random state  77  Accuracy is  77.5\n",
      "At Random state  78  Accuracy is  78.125\n",
      "At Random state  79  Accuracy is  79.375\n",
      "At Random state  80  Accuracy is  74.375\n",
      "At Random state  81  Accuracy is  73.75\n",
      "At Random state  82  Accuracy is  75.625\n",
      "At Random state  83  Accuracy is  75.0\n",
      "At Random state  84  Accuracy is  78.125\n",
      "At Random state  85  Accuracy is  73.75\n",
      "At Random state  86  Accuracy is  74.375\n",
      "At Random state  87  Accuracy is  75.625\n",
      "At Random state  88  Accuracy is  80.0\n",
      "At Random state  89  Accuracy is  66.875\n",
      "At Random state  90  Accuracy is  78.125\n",
      "At Random state  91  Accuracy is  73.75\n",
      "At Random state  92  Accuracy is  75.0\n",
      "At Random state  93  Accuracy is  73.75\n",
      "At Random state  94  Accuracy is  76.25\n",
      "At Random state  95  Accuracy is  77.5\n",
      "At Random state  96  Accuracy is  79.375\n",
      "At Random state  97  Accuracy is  75.0\n",
      "At Random state  98  Accuracy is  72.5\n",
      "At Random state  99  Accuracy is  81.25\n"
     ]
    }
   ],
   "source": [
    "dtc=DecisionTreeClassifier(criterion='entropy',max_features='auto')\n",
    "for i in range(0,100):\n",
    "    xtrain,xtest,ytrain,ytest=train_test_split(x,y,test_size=0.2,random_state=i)\n",
    "    dtc.fit(xtrain,ytrain)\n",
    "    preddtc=dtc.predict(xtest)\n",
    "    dtcacc=accuracy_score(ytest,preddtc)\n",
    "    print('At Random state ',i,' Accuracy is ',dtcacc*100)"
   ]
  },
  {
   "cell_type": "code",
   "execution_count": 491,
   "id": "20f816ff",
   "metadata": {},
   "outputs": [
    {
     "name": "stdout",
     "output_type": "stream",
     "text": [
      "At Random state 69 Accuracy is  84.375\n"
     ]
    }
   ],
   "source": [
    "xtrain,xtest,ytrain,ytest=train_test_split(x,y,test_size=0.2,random_state=69)\n",
    "dtc.fit(xtrain,ytrain)\n",
    "preddtc=dtc.predict(xtest)\n",
    "dtcacc=accuracy_score(ytest,preddtc)\n",
    "print('At Random state 69 Accuracy is ',dtcacc*100)"
   ]
  },
  {
   "cell_type": "code",
   "execution_count": 564,
   "id": "9b23d1a6",
   "metadata": {},
   "outputs": [
    {
     "name": "stdout",
     "output_type": "stream",
     "text": [
      "Accuracy is  84.375\n",
      "ROC AUC SCORE is  0.5040726817042607\n",
      "F1 score is  46.97986577181208\n",
      "Confusion matrix\n",
      " [[46 38]\n",
      " [41 35]]\n",
      "Classification report\n",
      "               precision    recall  f1-score   support\n",
      "\n",
      "           0       0.53      0.55      0.54        84\n",
      "           1       0.48      0.46      0.47        76\n",
      "\n",
      "    accuracy                           0.51       160\n",
      "   macro avg       0.50      0.50      0.50       160\n",
      "weighted avg       0.51      0.51      0.51       160\n",
      "\n"
     ]
    }
   ],
   "source": [
    "print('Accuracy is ',dtcacc*100)\n",
    "print('ROC AUC SCORE is ',roc_auc_score(ytest,preddtc))\n",
    "print('F1 score is ',f1_score(ytest,preddtc,average='binary')*100)\n",
    "print('Confusion matrix\\n',confusion_matrix(ytest,preddtc))\n",
    "print('Classification report\\n',classification_report(ytest,preddtc))"
   ]
  },
  {
   "cell_type": "code",
   "execution_count": 493,
   "id": "e130b5f6",
   "metadata": {},
   "outputs": [],
   "source": [
    "# Now Checking it with cv"
   ]
  },
  {
   "cell_type": "code",
   "execution_count": 499,
   "id": "4f024784",
   "metadata": {},
   "outputs": [
    {
     "name": "stdout",
     "output_type": "stream",
     "text": [
      "At CV 9 cross val score is  69.2401543525139 with Accuracy  84.375\n"
     ]
    }
   ],
   "source": [
    "cvdtc=cross_val_score(dtc,x,y,cv=9)\n",
    "cvdtc_mean=cvdtc.mean()\n",
    "print('At CV 9 cross val score is ',cvdtc_mean*100,'with Accuracy ',dtcacc*100)"
   ]
  },
  {
   "cell_type": "code",
   "execution_count": 500,
   "id": "393593cd",
   "metadata": {},
   "outputs": [],
   "source": [
    "# Now plotting Roc curve"
   ]
  },
  {
   "cell_type": "code",
   "execution_count": 501,
   "id": "ec0ad21d",
   "metadata": {},
   "outputs": [
    {
     "data": {
      "image/png": "[encoded data removed]",
      "text/plain": [
       "<Figure size 432x288 with 1 Axes>"
      ]
     },
     "metadata": {
      "needs_background": "light"
     },
     "output_type": "display_data"
    }
   ],
   "source": [
    "tpr,fpr,_=roc_curve(ytest,preddtc)\n",
    "plt.plot(tpr,fpr,linestyle='--',marker='.')\n",
    "plt.title('ROC curve')\n",
    "plt.xlabel('False Positive Rate')\n",
    "plt.ylabel('True Positive Rate')\n",
    "plt.show()"
   ]
  },
  {
   "cell_type": "code",
   "execution_count": 502,
   "id": "ccc626d3",
   "metadata": {},
   "outputs": [],
   "source": [
    "# Now Using 5th model Random Forest Classifier"
   ]
  },
  {
   "cell_type": "code",
   "execution_count": 503,
   "id": "52d606dc",
   "metadata": {},
   "outputs": [],
   "source": [
    "from sklearn.ensemble import RandomForestClassifier"
   ]
  },
  {
   "cell_type": "code",
   "execution_count": 504,
   "id": "60805223",
   "metadata": {},
   "outputs": [],
   "source": [
    "rf=RandomForestClassifier()"
   ]
  },
  {
   "cell_type": "code",
   "execution_count": 505,
   "id": "7799c36a",
   "metadata": {},
   "outputs": [],
   "source": [
    "# Finding BestParameter using GridSearchCV"
   ]
  },
  {
   "cell_type": "code",
   "execution_count": 518,
   "id": "f0ccf0fd",
   "metadata": {},
   "outputs": [
    {
     "name": "stdout",
     "output_type": "stream",
     "text": [
      "{'criterion': 'entropy', 'max_features': 'log2'}\n"
     ]
    }
   ],
   "source": [
    "parameter={'criterion':['gini','entropy','log_loss'],'max_features':['sqrt','log2','None']}\n",
    "gscvrf=GridSearchCV(rf,parameter)\n",
    "gscvrf.fit(xtrain,ytrain)\n",
    "print(gscvrf.best_params_)"
   ]
  },
  {
   "cell_type": "code",
   "execution_count": 566,
   "id": "2cff83cd",
   "metadata": {},
   "outputs": [],
   "source": [
    "# Now checking Accuracy score , classification report, confussion matrix,f1 score and roc_auc_score"
   ]
  },
  {
   "cell_type": "code",
   "execution_count": 565,
   "id": "e6b13b44",
   "metadata": {},
   "outputs": [
    {
     "name": "stdout",
     "output_type": "stream",
     "text": [
      "Accuracy score is  83.125\n",
      "ROC AUC SCORE is  0.8361528822055138\n",
      "F1 score is  0.8402366863905325\n",
      "Confusion matrix\n",
      " [[62 22]\n",
      " [ 5 71]]\n",
      "Classification report\n",
      "               precision    recall  f1-score   support\n",
      "\n",
      "           0       0.93      0.74      0.82        84\n",
      "           1       0.76      0.93      0.84        76\n",
      "\n",
      "    accuracy                           0.83       160\n",
      "   macro avg       0.84      0.84      0.83       160\n",
      "weighted avg       0.85      0.83      0.83       160\n",
      "\n"
     ]
    }
   ],
   "source": [
    "rf=RandomForestClassifier(criterion='entropy',max_features='log2')\n",
    "rf.fit(xtrain,ytrain)\n",
    "predrf=rf.predict(xtest)\n",
    "rfacc=accuracy_score(ytest,predrf)\n",
    "print('Accuracy score is ',rfacc*100)\n",
    "print('ROC AUC SCORE is ',roc_auc_score(ytest,predrf))\n",
    "print('F1 score is ',f1_score(ytest,predrf,average='binary'))\n",
    "print('Confusion matrix\\n',confusion_matrix(ytest,predrf))\n",
    "print('Classification report\\n',classification_report(ytest,predrf))"
   ]
  },
  {
   "cell_type": "code",
   "execution_count": 527,
   "id": "3ab2c6d1",
   "metadata": {},
   "outputs": [],
   "source": [
    "# Now Checking best cv"
   ]
  },
  {
   "cell_type": "code",
   "execution_count": 528,
   "id": "2d1c5a6a",
   "metadata": {},
   "outputs": [
    {
     "name": "stdout",
     "output_type": "stream",
     "text": [
      "At CV  2  cross val score is  43.46733668341709  with accuracy  85.0\n",
      "At CV  3  cross val score is  43.72440535300515  with accuracy  85.0\n",
      "At CV  4  cross val score is  44.84924623115578  with accuracy  85.0\n",
      "At CV  5  cross val score is  51.14858490566038  with accuracy  85.0\n",
      "At CV  6  cross val score is  57.53018910913647  with accuracy  85.0\n",
      "At CV  7  cross val score is  57.77053252600528  with accuracy  85.0\n",
      "At CV  8  cross val score is  63.09722222222223  with accuracy  85.0\n",
      "At CV  9  cross val score is  65.74594257178526  with accuracy  85.0\n"
     ]
    }
   ],
   "source": [
    "for i in range(2,10):\n",
    "    cvrf=cross_val_score(rf,x,y,cv=i)\n",
    "    cvrf_mean=cvrf.mean()\n",
    "    print('At CV ',i,' cross val score is ',cvrf_mean*100,' with accuracy ',rfacc*100)"
   ]
  },
  {
   "cell_type": "code",
   "execution_count": 529,
   "id": "e3169c8f",
   "metadata": {},
   "outputs": [],
   "source": [
    "# 9 is best CV"
   ]
  },
  {
   "cell_type": "code",
   "execution_count": 530,
   "id": "99912075",
   "metadata": {},
   "outputs": [
    {
     "name": "stdout",
     "output_type": "stream",
     "text": [
      "At CV 9 cross val score is  65.5047667688117  with accuracy  85.0\n"
     ]
    }
   ],
   "source": [
    "cvrf=cross_val_score(rf,x,y,cv=9)\n",
    "cvrf_mean=cvrf.mean()\n",
    "print('At CV 9 cross val score is ',cvrf_mean*100,' with accuracy ',rfacc*100)"
   ]
  },
  {
   "cell_type": "code",
   "execution_count": 531,
   "id": "c5c32d04",
   "metadata": {},
   "outputs": [],
   "source": [
    "# Now plotting ROC curve"
   ]
  },
  {
   "cell_type": "code",
   "execution_count": 532,
   "id": "b3d2ab7a",
   "metadata": {},
   "outputs": [
    {
     "data": {
      "image/png": "[encoded data removed]",
      "text/plain": [
       "<Figure size 432x288 with 1 Axes>"
      ]
     },
     "metadata": {
      "needs_background": "light"
     },
     "output_type": "display_data"
    }
   ],
   "source": [
    "tpr,fpr,_=roc_curve(ytest,predrf)\n",
    "plt.plot(tpr,fpr,linestyle='--',marker='.')\n",
    "plt.title('ROC curve')\n",
    "plt.xlabel('False Positive Rate')\n",
    "plt.ylabel('True Positive Rate')\n",
    "plt.show()"
   ]
  },
  {
   "cell_type": "code",
   "execution_count": 553,
   "id": "cbd4a973",
   "metadata": {},
   "outputs": [],
   "source": [
    "# Now using 6th model which is Gradient Boosting classifier"
   ]
  },
  {
   "cell_type": "code",
   "execution_count": 555,
   "id": "5395f9da",
   "metadata": {},
   "outputs": [],
   "source": [
    "from sklearn.ensemble import GradientBoostingClassifier"
   ]
  },
  {
   "cell_type": "code",
   "execution_count": 556,
   "id": "972f5e7a",
   "metadata": {},
   "outputs": [],
   "source": [
    "gbc=GradientBoostingClassifier()"
   ]
  },
  {
   "cell_type": "code",
   "execution_count": 557,
   "id": "ea6329e1",
   "metadata": {},
   "outputs": [],
   "source": [
    "# Finding Best arameter using GridSearchCV"
   ]
  },
  {
   "cell_type": "code",
   "execution_count": 567,
   "id": "db4225ef",
   "metadata": {},
   "outputs": [
    {
     "name": "stdout",
     "output_type": "stream",
     "text": [
      "{'criterion': 'squared_error', 'loss': 'deviance', 'max_features': 'sqrt'}\n"
     ]
    }
   ],
   "source": [
    "parameter={'loss':['log_loss','deviance','exponential'],'criterion':['friedman_mse','squared_error','mse'],'max_features':['auto','sqrt','log2']}\n",
    "gscvgbc=GridSearchCV(gbc,parameter)\n",
    "gscvgbc.fit(xtrain,ytrain)\n",
    "print(gscvgbc.best_params_)"
   ]
  },
  {
   "cell_type": "code",
   "execution_count": 568,
   "id": "e2f03521",
   "metadata": {},
   "outputs": [
    {
     "name": "stdout",
     "output_type": "stream",
     "text": [
      "Accuracy is  80.625\n",
      "f1 score is  0.8228571428571427\n",
      "ROC AUC Score is  0.8129699248120301\n",
      "Confusion matrix\n",
      " [[57 27]\n",
      " [ 4 72]]\n",
      "Classification report\n",
      "               precision    recall  f1-score   support\n",
      "\n",
      "           0       0.93      0.68      0.79        84\n",
      "           1       0.73      0.95      0.82        76\n",
      "\n",
      "    accuracy                           0.81       160\n",
      "   macro avg       0.83      0.81      0.80       160\n",
      "weighted avg       0.84      0.81      0.80       160\n",
      "\n"
     ]
    }
   ],
   "source": [
    "gbc=GradientBoostingClassifier(criterion='squared_error',loss='deviance',max_features='sqrt')\n",
    "gbc.fit(xtrain,ytrain)\n",
    "predgbc=gbc.predict(xtest)\n",
    "gbcacc=accuracy_score(ytest,predgbc)\n",
    "print('Accuracy is ',gbcacc*100)\n",
    "print('f1 score is ',f1_score(ytest,predgbc,average='binary'))\n",
    "print('ROC AUC Score is ',roc_auc_score(ytest,predgbc))\n",
    "print('Confusion matrix\\n',confusion_matrix(ytest,predgbc))\n",
    "print('Classification report\\n',classification_report(ytest,predgbc))"
   ]
  },
  {
   "cell_type": "code",
   "execution_count": 569,
   "id": "24a635e8",
   "metadata": {},
   "outputs": [],
   "source": [
    "# Now Checking best CV"
   ]
  },
  {
   "cell_type": "code",
   "execution_count": 570,
   "id": "d8ae8a57",
   "metadata": {},
   "outputs": [
    {
     "name": "stdout",
     "output_type": "stream",
     "text": [
      "At cv  2  cross val score is  41.834170854271356  with accuracy  80.625\n",
      "At cv  3  cross val score is  40.2023927743888  with accuracy  80.625\n",
      "At cv  4  cross val score is  39.698492462311556  with accuracy  80.625\n",
      "At cv  5  cross val score is  40.954402515723274  with accuracy  80.625\n",
      "At cv  6  cross val score is  47.10640236956026  with accuracy  80.625\n",
      "At cv  7  cross val score is  48.476279193559115  with accuracy  80.625\n",
      "At cv  8  cross val score is  52.532828282828284  with accuracy  80.625\n",
      "At cv  9  cross val score is  57.4551696742708  with accuracy  80.625\n"
     ]
    }
   ],
   "source": [
    "for i in range(2,10):\n",
    "    cvgbc=cross_val_score(gbc,x,y,cv=i)\n",
    "    cvgbc_mean=cvgbc.mean()\n",
    "    print('At cv ',i,' cross val score is ',cvgbc_mean*100,' with accuracy ',gbcacc*100)"
   ]
  },
  {
   "cell_type": "code",
   "execution_count": 571,
   "id": "ebaaaec2",
   "metadata": {},
   "outputs": [],
   "source": [
    "# 9 is best cv"
   ]
  },
  {
   "cell_type": "code",
   "execution_count": 574,
   "id": "be758065",
   "metadata": {},
   "outputs": [
    {
     "name": "stdout",
     "output_type": "stream",
     "text": [
      "At cv 9 cross val score is  57.08631256384066  with accuracy  80.625\n"
     ]
    }
   ],
   "source": [
    "cvgbc=cross_val_score(gbc,x,y,cv=9)\n",
    "cvgbc_mean=cvgbc.mean()\n",
    "print('At cv 9 cross val score is ',cvgbc_mean*100,' with accuracy ',gbcacc*100)"
   ]
  },
  {
   "cell_type": "code",
   "execution_count": 575,
   "id": "2ff7d3bc",
   "metadata": {},
   "outputs": [],
   "source": [
    "# Now Plotting its ROC curve"
   ]
  },
  {
   "cell_type": "code",
   "execution_count": 576,
   "id": "554000f0",
   "metadata": {},
   "outputs": [
    {
     "data": {
      "image/png": "[encoded data removed]",
      "text/plain": [
       "<Figure size 432x288 with 1 Axes>"
      ]
     },
     "metadata": {
      "needs_background": "light"
     },
     "output_type": "display_data"
    }
   ],
   "source": [
    "tpr,fpr,_=roc_curve(ytest,predgbc)\n",
    "plt.plot(tpr,fpr,linestyle='--',marker='.')\n",
    "plt.title('ROC curve')\n",
    "plt.xlabel('False Positive Rate')\n",
    "plt.ylabel('True Positive Rate')\n",
    "plt.show()"
   ]
  },
  {
   "cell_type": "markdown",
   "id": "1b20e639",
   "metadata": {},
   "source": [
    "# SAVING THE BEST MODEL LOGISTIC REGRESSION BECAUSE IT HAS HIGHEST ACCURACY SCORE , HIGHEST F1 SCORE , HIGHEST AUC ROC SCORE AND LESS FALSE NEGATIVE AND FALSE POSITIVE IN CONFUSION MATRIX"
   ]
  },
  {
   "cell_type": "code",
   "execution_count": 577,
   "id": "faaaab6c",
   "metadata": {},
   "outputs": [],
   "source": [
    "import pickle as pkl"
   ]
  },
  {
   "cell_type": "code",
   "execution_count": 590,
   "id": "cde57214",
   "metadata": {},
   "outputs": [],
   "source": [
    "# Saving the model"
   ]
  },
  {
   "cell_type": "code",
   "execution_count": 584,
   "id": "f7fae798",
   "metadata": {},
   "outputs": [],
   "source": [
    "filename='loanapproval.pkl'\n",
    "pkl.dump(lr,open(filename,'wb'))"
   ]
  },
  {
   "cell_type": "code",
   "execution_count": 591,
   "id": "420a129a",
   "metadata": {},
   "outputs": [],
   "source": [
    "# Loading the model and checking its score"
   ]
  },
  {
   "cell_type": "code",
   "execution_count": 588,
   "id": "6e3ca2b4",
   "metadata": {},
   "outputs": [
    {
     "data": {
      "text/plain": [
       "86.25"
      ]
     },
     "execution_count": 588,
     "metadata": {},
     "output_type": "execute_result"
    }
   ],
   "source": [
    "output=pkl.load(open('loanapproval.pkl','rb'))\n",
    "result=output.score(xtest,ytest)\n",
    "result*100"
   ]
  },
  {
   "cell_type": "code",
   "execution_count": 592,
   "id": "fb3d0ce1",
   "metadata": {},
   "outputs": [],
   "source": [
    "#Testing the model"
   ]
  },
  {
   "cell_type": "code",
   "execution_count": 597,
   "id": "916d1b45",
   "metadata": {},
   "outputs": [
    {
     "data": {
      "text/html": [
       "<div>\n",
       "<style scoped>\n",
       "    .dataframe tbody tr th:only-of-type {\n",
       "        vertical-align: middle;\n",
       "    }\n",
       "\n",
       "    .dataframe tbody tr th {\n",
       "        vertical-align: top;\n",
       "    }\n",
       "\n",
       "    .dataframe thead th {\n",
       "        text-align: right;\n",
       "    }\n",
       "</style>\n",
       "<table border=\"1\" class=\"dataframe\">\n",
       "  <thead>\n",
       "    <tr style=\"text-align: right;\">\n",
       "      <th></th>\n",
       "      <th>0</th>\n",
       "      <th>1</th>\n",
       "      <th>2</th>\n",
       "      <th>3</th>\n",
       "      <th>4</th>\n",
       "      <th>5</th>\n",
       "      <th>6</th>\n",
       "      <th>7</th>\n",
       "      <th>8</th>\n",
       "      <th>9</th>\n",
       "      <th>...</th>\n",
       "      <th>150</th>\n",
       "      <th>151</th>\n",
       "      <th>152</th>\n",
       "      <th>153</th>\n",
       "      <th>154</th>\n",
       "      <th>155</th>\n",
       "      <th>156</th>\n",
       "      <th>157</th>\n",
       "      <th>158</th>\n",
       "      <th>159</th>\n",
       "    </tr>\n",
       "  </thead>\n",
       "  <tbody>\n",
       "    <tr>\n",
       "      <th>Actual</th>\n",
       "      <td>1</td>\n",
       "      <td>0</td>\n",
       "      <td>1</td>\n",
       "      <td>0</td>\n",
       "      <td>0</td>\n",
       "      <td>1</td>\n",
       "      <td>1</td>\n",
       "      <td>0</td>\n",
       "      <td>0</td>\n",
       "      <td>0</td>\n",
       "      <td>...</td>\n",
       "      <td>1</td>\n",
       "      <td>0</td>\n",
       "      <td>0</td>\n",
       "      <td>1</td>\n",
       "      <td>0</td>\n",
       "      <td>1</td>\n",
       "      <td>1</td>\n",
       "      <td>1</td>\n",
       "      <td>0</td>\n",
       "      <td>1</td>\n",
       "    </tr>\n",
       "    <tr>\n",
       "      <th>Predicted</th>\n",
       "      <td>1</td>\n",
       "      <td>0</td>\n",
       "      <td>1</td>\n",
       "      <td>0</td>\n",
       "      <td>0</td>\n",
       "      <td>1</td>\n",
       "      <td>1</td>\n",
       "      <td>0</td>\n",
       "      <td>0</td>\n",
       "      <td>0</td>\n",
       "      <td>...</td>\n",
       "      <td>1</td>\n",
       "      <td>0</td>\n",
       "      <td>0</td>\n",
       "      <td>1</td>\n",
       "      <td>0</td>\n",
       "      <td>1</td>\n",
       "      <td>1</td>\n",
       "      <td>1</td>\n",
       "      <td>0</td>\n",
       "      <td>1</td>\n",
       "    </tr>\n",
       "  </tbody>\n",
       "</table>\n",
       "<p>2 rows × 160 columns</p>\n",
       "</div>"
      ],
      "text/plain": [
       "           0    1    2    3    4    5    6    7    8    9    ...  150  151  \\\n",
       "Actual       1    0    1    0    0    1    1    0    0    0  ...    1    0   \n",
       "Predicted    1    0    1    0    0    1    1    0    0    0  ...    1    0   \n",
       "\n",
       "           152  153  154  155  156  157  158  159  \n",
       "Actual       0    1    0    1    1    1    0    1  \n",
       "Predicted    0    1    0    1    1    1    0    1  \n",
       "\n",
       "[2 rows x 160 columns]"
      ]
     },
     "execution_count": 597,
     "metadata": {},
     "output_type": "execute_result"
    }
   ],
   "source": [
    "Loan_Approval_model=pd.DataFrame([output.predict(xtest)[:],(predlr)[:]],index=['Actual','Predicted'])\n",
    "Loan_Approval_model"
   ]
  },
  {
   "cell_type": "code",
   "execution_count": 593,
   "id": "32536c66",
   "metadata": {},
   "outputs": [],
   "source": [
    "# This is our final Model"
   ]
  },
  {
   "cell_type": "code",
   "execution_count": 1,
   "id": "d6deda54",
   "metadata": {},
   "outputs": [],
   "source": [
    "# Thank you"
   ]
  }
 ],
 "metadata": {
  "kernelspec": {
   "display_name": "Python 3 (ipykernel)",
   "language": "python",
   "name": "python3"
  },
  "language_info": {
   "codemirror_mode": {
    "name": "ipython",
    "version": 3
   },
   "file_extension": ".py",
   "mimetype": "text/x-python",
   "name": "python",
   "nbconvert_exporter": "python",
   "pygments_lexer": "ipython3",
   "version": "3.9.12"
  }
 },
 "nbformat": 4,
 "nbformat_minor": 5
}
